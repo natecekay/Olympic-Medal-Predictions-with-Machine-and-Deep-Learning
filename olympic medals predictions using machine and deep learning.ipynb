{
 "cells": [
  {
   "cell_type": "markdown",
   "id": "71c1b259",
   "metadata": {
    "papermill": {
     "duration": 0.014311,
     "end_time": "2024-12-10T08:04:17.367343",
     "exception": false,
     "start_time": "2024-12-10T08:04:17.353032",
     "status": "completed"
    },
    "tags": []
   },
   "source": [
    "> # Table of Contents\n",
    "- [Introduction](#Introduction)\n",
    "- [Data Cleansing](#Data-Cleansing)\n",
    "- [Data Visualization](#Data-Visualization)\n",
    "- [Model Training and Evaluation](#model-training-and-evaluation)\n",
    "- [Neural Network Training and Evaluation](#neural-network-training-and-evaluation)\n",
    "- [Conclusion](#Conclusion)"
   ]
  },
  {
   "cell_type": "markdown",
   "id": "7ca42565",
   "metadata": {
    "papermill": {
     "duration": 0.011818,
     "end_time": "2024-12-10T08:04:17.391582",
     "exception": false,
     "start_time": "2024-12-10T08:04:17.379764",
     "status": "completed"
    },
    "tags": []
   },
   "source": [
    "#Introduction\n",
    "\n",
    "In this project, I predict use machine learning and deep learning techniques to predict the total number of Olympic medals a country will win.\n",
    "\n",
    "by Nathaniel Cekay"
   ]
  },
  {
   "cell_type": "code",
   "execution_count": 1,
   "id": "fce6b3dc",
   "metadata": {
    "_cell_guid": "b1076dfc-b9ad-4769-8c92-a6c4dae69d19",
    "_uuid": "8f2839f25d086af736a60e9eeb907d3b93b6e0e5",
    "execution": {
     "iopub.execute_input": "2024-12-10T08:04:17.418135Z",
     "iopub.status.busy": "2024-12-10T08:04:17.417766Z",
     "iopub.status.idle": "2024-12-10T08:04:33.699219Z",
     "shell.execute_reply": "2024-12-10T08:04:33.697798Z"
    },
    "papermill": {
     "duration": 16.298456,
     "end_time": "2024-12-10T08:04:33.702303",
     "exception": false,
     "start_time": "2024-12-10T08:04:17.403847",
     "status": "completed"
    },
    "tags": []
   },
   "outputs": [
    {
     "name": "stderr",
     "output_type": "stream",
     "text": [
      "/opt/conda/lib/python3.10/site-packages/fuzzywuzzy/fuzz.py:11: UserWarning: Using slow pure-python SequenceMatcher. Install python-Levenshtein to remove this warning\n",
      "  warnings.warn('Using slow pure-python SequenceMatcher. Install python-Levenshtein to remove this warning')\n"
     ]
    }
   ],
   "source": [
    "import random\n",
    "import numpy as np\n",
    "import pandas as pd\n",
    "import seaborn as sns\n",
    "import matplotlib.pyplot as plt\n",
    "from sklearn.model_selection import train_test_split\n",
    "from sklearn.preprocessing import StandardScaler, LabelEncoder, MinMaxScaler, OneHotEncoder\n",
    "from sklearn.compose import ColumnTransformer\n",
    "from sklearn.ensemble import RandomForestRegressor, RandomForestClassifier\n",
    "from sklearn.tree import DecisionTreeRegressor\n",
    "from sklearn.linear_model import LinearRegression\n",
    "from sklearn.metrics import mean_squared_error, r2_score, classification_report, confusion_matrix, accuracy_score\n",
    "from scipy.stats import f_oneway\n",
    "from fuzzywuzzy import fuzz, process\n",
    "import tensorflow as tf\n",
    "from tensorflow.keras.models import Sequential\n",
    "from tensorflow.keras.layers import Input, Dense, Dropout, BatchNormalization, LeakyReLU\n",
    "from tensorflow.keras.optimizers import Adam\n",
    "from tensorflow.keras.callbacks import ReduceLROnPlateau, EarlyStopping\n",
    "from tensorflow import keras\n",
    "from tensorflow.keras import layers\n",
    "from keras.regularizers import l2\n",
    "pd.options.display.float_format = '{:.2f}'.format"
   ]
  },
  {
   "cell_type": "code",
   "execution_count": 2,
   "id": "6d37d277",
   "metadata": {
    "execution": {
     "iopub.execute_input": "2024-12-10T08:04:33.752624Z",
     "iopub.status.busy": "2024-12-10T08:04:33.751307Z",
     "iopub.status.idle": "2024-12-10T08:04:33.759677Z",
     "shell.execute_reply": "2024-12-10T08:04:33.758441Z"
    },
    "papermill": {
     "duration": 0.036785,
     "end_time": "2024-12-10T08:04:33.762710",
     "exception": false,
     "start_time": "2024-12-10T08:04:33.725925",
     "status": "completed"
    },
    "tags": []
   },
   "outputs": [],
   "source": [
    "random.seed(42)        \n",
    "np.random.seed(42)    \n",
    "tf.random.set_seed(42)"
   ]
  },
  {
   "cell_type": "code",
   "execution_count": 3,
   "id": "43294275",
   "metadata": {
    "execution": {
     "iopub.execute_input": "2024-12-10T08:04:33.791617Z",
     "iopub.status.busy": "2024-12-10T08:04:33.791189Z",
     "iopub.status.idle": "2024-12-10T08:04:33.815071Z",
     "shell.execute_reply": "2024-12-10T08:04:33.814268Z"
    },
    "papermill": {
     "duration": 0.039552,
     "end_time": "2024-12-10T08:04:33.817461",
     "exception": false,
     "start_time": "2024-12-10T08:04:33.777909",
     "status": "completed"
    },
    "tags": []
   },
   "outputs": [],
   "source": [
    "df = pd.read_csv('/kaggle/input/olympic-dataset/gni-olympics.csv')"
   ]
  },
  {
   "cell_type": "code",
   "execution_count": 4,
   "id": "0b4d6a98",
   "metadata": {
    "execution": {
     "iopub.execute_input": "2024-12-10T08:04:33.844777Z",
     "iopub.status.busy": "2024-12-10T08:04:33.843742Z",
     "iopub.status.idle": "2024-12-10T08:04:33.875214Z",
     "shell.execute_reply": "2024-12-10T08:04:33.874215Z"
    },
    "papermill": {
     "duration": 0.047457,
     "end_time": "2024-12-10T08:04:33.877736",
     "exception": false,
     "start_time": "2024-12-10T08:04:33.830279",
     "status": "completed"
    },
    "tags": []
   },
   "outputs": [
    {
     "name": "stdout",
     "output_type": "stream",
     "text": [
      "<class 'pandas.core.frame.DataFrame'>\n",
      "RangeIndex: 93 entries, 0 to 92\n",
      "Data columns (total 14 columns):\n",
      " #   Column          Non-Null Count  Dtype  \n",
      "---  ------          --------------  -----  \n",
      " 0   iso             93 non-null     object \n",
      " 1   ioc             93 non-null     object \n",
      " 2   name            93 non-null     object \n",
      " 3   continent       88 non-null     object \n",
      " 4   population      93 non-null     int64  \n",
      " 5   gdp             93 non-null     int64  \n",
      " 6   olympics_index  91 non-null     float64\n",
      " 7   sports_index    91 non-null     float64\n",
      " 8   olympicsIndex   93 non-null     float64\n",
      " 9   sportsIndex     93 non-null     float64\n",
      " 10  total           93 non-null     int64  \n",
      " 11  gold            93 non-null     int64  \n",
      " 12  silver          93 non-null     int64  \n",
      " 13  bronze          93 non-null     int64  \n",
      "dtypes: float64(4), int64(6), object(4)\n",
      "memory usage: 10.3+ KB\n"
     ]
    }
   ],
   "source": [
    "df.info()"
   ]
  },
  {
   "cell_type": "markdown",
   "id": "2ca64071",
   "metadata": {
    "papermill": {
     "duration": 0.012242,
     "end_time": "2024-12-10T08:04:33.902821",
     "exception": false,
     "start_time": "2024-12-10T08:04:33.890579",
     "status": "completed"
    },
    "tags": []
   },
   "source": [
    "#Data-Cleansing"
   ]
  },
  {
   "cell_type": "code",
   "execution_count": 5,
   "id": "1f9c34ce",
   "metadata": {
    "execution": {
     "iopub.execute_input": "2024-12-10T08:04:33.929647Z",
     "iopub.status.busy": "2024-12-10T08:04:33.928881Z",
     "iopub.status.idle": "2024-12-10T08:04:33.935745Z",
     "shell.execute_reply": "2024-12-10T08:04:33.934673Z"
    },
    "papermill": {
     "duration": 0.022531,
     "end_time": "2024-12-10T08:04:33.937821",
     "exception": false,
     "start_time": "2024-12-10T08:04:33.915290",
     "status": "completed"
    },
    "tags": []
   },
   "outputs": [
    {
     "name": "stdout",
     "output_type": "stream",
     "text": [
      "iso               0\n",
      "ioc               0\n",
      "name              0\n",
      "continent         5\n",
      "population        0\n",
      "gdp               0\n",
      "olympics_index    2\n",
      "sports_index      2\n",
      "olympicsIndex     0\n",
      "sportsIndex       0\n",
      "total             0\n",
      "gold              0\n",
      "silver            0\n",
      "bronze            0\n",
      "dtype: int64\n"
     ]
    }
   ],
   "source": [
    "missing = df.isna().sum()\n",
    "\n",
    "print(missing)"
   ]
  },
  {
   "cell_type": "code",
   "execution_count": 6,
   "id": "0aa1bb37",
   "metadata": {
    "execution": {
     "iopub.execute_input": "2024-12-10T08:04:33.964613Z",
     "iopub.status.busy": "2024-12-10T08:04:33.964184Z",
     "iopub.status.idle": "2024-12-10T08:04:34.002090Z",
     "shell.execute_reply": "2024-12-10T08:04:34.001098Z"
    },
    "papermill": {
     "duration": 0.053773,
     "end_time": "2024-12-10T08:04:34.004397",
     "exception": false,
     "start_time": "2024-12-10T08:04:33.950624",
     "status": "completed"
    },
    "tags": []
   },
   "outputs": [
    {
     "data": {
      "text/html": [
       "<div>\n",
       "<style scoped>\n",
       "    .dataframe tbody tr th:only-of-type {\n",
       "        vertical-align: middle;\n",
       "    }\n",
       "\n",
       "    .dataframe tbody tr th {\n",
       "        vertical-align: top;\n",
       "    }\n",
       "\n",
       "    .dataframe thead th {\n",
       "        text-align: right;\n",
       "    }\n",
       "</style>\n",
       "<table border=\"1\" class=\"dataframe\">\n",
       "  <thead>\n",
       "    <tr style=\"text-align: right;\">\n",
       "      <th></th>\n",
       "      <th>population</th>\n",
       "      <th>gdp</th>\n",
       "      <th>olympics_index</th>\n",
       "      <th>sports_index</th>\n",
       "      <th>olympicsIndex</th>\n",
       "      <th>sportsIndex</th>\n",
       "      <th>total</th>\n",
       "      <th>gold</th>\n",
       "      <th>silver</th>\n",
       "      <th>bronze</th>\n",
       "    </tr>\n",
       "  </thead>\n",
       "  <tbody>\n",
       "    <tr>\n",
       "      <th>count</th>\n",
       "      <td>93.00</td>\n",
       "      <td>93.00</td>\n",
       "      <td>91.00</td>\n",
       "      <td>91.00</td>\n",
       "      <td>93.00</td>\n",
       "      <td>93.00</td>\n",
       "      <td>93.00</td>\n",
       "      <td>93.00</td>\n",
       "      <td>93.00</td>\n",
       "      <td>93.00</td>\n",
       "    </tr>\n",
       "    <tr>\n",
       "      <th>mean</th>\n",
       "      <td>66392366.72</td>\n",
       "      <td>866840997410.71</td>\n",
       "      <td>20.68</td>\n",
       "      <td>16.33</td>\n",
       "      <td>20.23</td>\n",
       "      <td>15.98</td>\n",
       "      <td>11.61</td>\n",
       "      <td>3.66</td>\n",
       "      <td>3.63</td>\n",
       "      <td>4.32</td>\n",
       "    </tr>\n",
       "    <tr>\n",
       "      <th>std</th>\n",
       "      <td>205747405.60</td>\n",
       "      <td>2702387141886.76</td>\n",
       "      <td>12.63</td>\n",
       "      <td>8.93</td>\n",
       "      <td>12.85</td>\n",
       "      <td>9.15</td>\n",
       "      <td>19.09</td>\n",
       "      <td>7.02</td>\n",
       "      <td>6.63</td>\n",
       "      <td>6.21</td>\n",
       "    </tr>\n",
       "    <tr>\n",
       "      <th>min</th>\n",
       "      <td>33938.00</td>\n",
       "      <td>0.00</td>\n",
       "      <td>1.00</td>\n",
       "      <td>7.40</td>\n",
       "      <td>0.00</td>\n",
       "      <td>0.00</td>\n",
       "      <td>1.00</td>\n",
       "      <td>0.00</td>\n",
       "      <td>0.00</td>\n",
       "      <td>0.00</td>\n",
       "    </tr>\n",
       "    <tr>\n",
       "      <th>25%</th>\n",
       "      <td>4994724.00</td>\n",
       "      <td>43697659275.00</td>\n",
       "      <td>12.69</td>\n",
       "      <td>10.82</td>\n",
       "      <td>12.21</td>\n",
       "      <td>10.61</td>\n",
       "      <td>2.00</td>\n",
       "      <td>0.00</td>\n",
       "      <td>0.00</td>\n",
       "      <td>1.00</td>\n",
       "    </tr>\n",
       "    <tr>\n",
       "      <th>50%</th>\n",
       "      <td>11326616.00</td>\n",
       "      <td>169835426427.00</td>\n",
       "      <td>18.78</td>\n",
       "      <td>13.93</td>\n",
       "      <td>18.21</td>\n",
       "      <td>13.89</td>\n",
       "      <td>4.00</td>\n",
       "      <td>1.00</td>\n",
       "      <td>1.00</td>\n",
       "      <td>2.00</td>\n",
       "    </tr>\n",
       "    <tr>\n",
       "      <th>75%</th>\n",
       "      <td>47351567.00</td>\n",
       "      <td>515332499628.00</td>\n",
       "      <td>26.10</td>\n",
       "      <td>19.02</td>\n",
       "      <td>26.04</td>\n",
       "      <td>18.98</td>\n",
       "      <td>11.00</td>\n",
       "      <td>3.00</td>\n",
       "      <td>4.00</td>\n",
       "      <td>5.00</td>\n",
       "    </tr>\n",
       "    <tr>\n",
       "      <th>max</th>\n",
       "      <td>1402112000.00</td>\n",
       "      <td>20936600000000.00</td>\n",
       "      <td>100.00</td>\n",
       "      <td>72.23</td>\n",
       "      <td>100.00</td>\n",
       "      <td>72.23</td>\n",
       "      <td>113.00</td>\n",
       "      <td>39.00</td>\n",
       "      <td>41.00</td>\n",
       "      <td>33.00</td>\n",
       "    </tr>\n",
       "  </tbody>\n",
       "</table>\n",
       "</div>"
      ],
      "text/plain": [
       "         population               gdp  olympics_index  sports_index  \\\n",
       "count         93.00             93.00           91.00         91.00   \n",
       "mean    66392366.72   866840997410.71           20.68         16.33   \n",
       "std    205747405.60  2702387141886.76           12.63          8.93   \n",
       "min        33938.00              0.00            1.00          7.40   \n",
       "25%      4994724.00    43697659275.00           12.69         10.82   \n",
       "50%     11326616.00   169835426427.00           18.78         13.93   \n",
       "75%     47351567.00   515332499628.00           26.10         19.02   \n",
       "max   1402112000.00 20936600000000.00          100.00         72.23   \n",
       "\n",
       "       olympicsIndex  sportsIndex  total  gold  silver  bronze  \n",
       "count          93.00        93.00  93.00 93.00   93.00   93.00  \n",
       "mean           20.23        15.98  11.61  3.66    3.63    4.32  \n",
       "std            12.85         9.15  19.09  7.02    6.63    6.21  \n",
       "min             0.00         0.00   1.00  0.00    0.00    0.00  \n",
       "25%            12.21        10.61   2.00  0.00    0.00    1.00  \n",
       "50%            18.21        13.89   4.00  1.00    1.00    2.00  \n",
       "75%            26.04        18.98  11.00  3.00    4.00    5.00  \n",
       "max           100.00        72.23 113.00 39.00   41.00   33.00  "
      ]
     },
     "execution_count": 6,
     "metadata": {},
     "output_type": "execute_result"
    }
   ],
   "source": [
    "df.describe()"
   ]
  },
  {
   "cell_type": "code",
   "execution_count": 7,
   "id": "29d3743c",
   "metadata": {
    "execution": {
     "iopub.execute_input": "2024-12-10T08:04:34.031092Z",
     "iopub.status.busy": "2024-12-10T08:04:34.030716Z",
     "iopub.status.idle": "2024-12-10T08:04:34.036715Z",
     "shell.execute_reply": "2024-12-10T08:04:34.035740Z"
    },
    "papermill": {
     "duration": 0.02165,
     "end_time": "2024-12-10T08:04:34.038722",
     "exception": false,
     "start_time": "2024-12-10T08:04:34.017072",
     "status": "completed"
    },
    "tags": []
   },
   "outputs": [],
   "source": [
    "df['olympics_index'] = df['olympics_index'].fillna(df['olympics_index'].mean())"
   ]
  },
  {
   "cell_type": "code",
   "execution_count": 8,
   "id": "bf85c61b",
   "metadata": {
    "execution": {
     "iopub.execute_input": "2024-12-10T08:04:34.066121Z",
     "iopub.status.busy": "2024-12-10T08:04:34.065135Z",
     "iopub.status.idle": "2024-12-10T08:04:34.070968Z",
     "shell.execute_reply": "2024-12-10T08:04:34.069954Z"
    },
    "papermill": {
     "duration": 0.021512,
     "end_time": "2024-12-10T08:04:34.072855",
     "exception": false,
     "start_time": "2024-12-10T08:04:34.051343",
     "status": "completed"
    },
    "tags": []
   },
   "outputs": [],
   "source": [
    "df['sports_index'] = df['sports_index'].fillna(df['sports_index'].mean())"
   ]
  },
  {
   "cell_type": "code",
   "execution_count": 9,
   "id": "0848bb67",
   "metadata": {
    "execution": {
     "iopub.execute_input": "2024-12-10T08:04:34.099936Z",
     "iopub.status.busy": "2024-12-10T08:04:34.099547Z",
     "iopub.status.idle": "2024-12-10T08:04:34.105730Z",
     "shell.execute_reply": "2024-12-10T08:04:34.104618Z"
    },
    "papermill": {
     "duration": 0.021946,
     "end_time": "2024-12-10T08:04:34.107691",
     "exception": false,
     "start_time": "2024-12-10T08:04:34.085745",
     "status": "completed"
    },
    "tags": []
   },
   "outputs": [],
   "source": [
    "df['continent'] = df['continent'].fillna(df['continent'].mode()[0])"
   ]
  },
  {
   "cell_type": "code",
   "execution_count": 10,
   "id": "d66b71db",
   "metadata": {
    "execution": {
     "iopub.execute_input": "2024-12-10T08:04:34.135123Z",
     "iopub.status.busy": "2024-12-10T08:04:34.134728Z",
     "iopub.status.idle": "2024-12-10T08:04:34.141887Z",
     "shell.execute_reply": "2024-12-10T08:04:34.140794Z"
    },
    "papermill": {
     "duration": 0.023133,
     "end_time": "2024-12-10T08:04:34.143981",
     "exception": false,
     "start_time": "2024-12-10T08:04:34.120848",
     "status": "completed"
    },
    "tags": []
   },
   "outputs": [
    {
     "name": "stdout",
     "output_type": "stream",
     "text": [
      "iso               0\n",
      "ioc               0\n",
      "name              0\n",
      "continent         0\n",
      "population        0\n",
      "gdp               0\n",
      "olympics_index    0\n",
      "sports_index      0\n",
      "olympicsIndex     0\n",
      "sportsIndex       0\n",
      "total             0\n",
      "gold              0\n",
      "silver            0\n",
      "bronze            0\n",
      "dtype: int64\n"
     ]
    }
   ],
   "source": [
    "missing = df.isna().sum()\n",
    "\n",
    "print(missing)"
   ]
  },
  {
   "cell_type": "code",
   "execution_count": 11,
   "id": "849e8a0e",
   "metadata": {
    "execution": {
     "iopub.execute_input": "2024-12-10T08:04:34.171149Z",
     "iopub.status.busy": "2024-12-10T08:04:34.170748Z",
     "iopub.status.idle": "2024-12-10T08:04:34.180688Z",
     "shell.execute_reply": "2024-12-10T08:04:34.179645Z"
    },
    "papermill": {
     "duration": 0.025799,
     "end_time": "2024-12-10T08:04:34.182649",
     "exception": false,
     "start_time": "2024-12-10T08:04:34.156850",
     "status": "completed"
    },
    "tags": []
   },
   "outputs": [
    {
     "data": {
      "text/plain": [
       "{'iso': array(['ARG', 'ARM', 'AUS', 'AUT', 'AZE', 'BEL', 'BFA', 'BGR', 'BHR',\n",
       "        'BHS', 'BLR', 'BMU', 'BRA', 'BWA', 'CAN', 'CHE', 'CHN', 'CIV',\n",
       "        'COL', 'CUB', 'CZE', 'DEU', 'DNK', 'DOM', 'ECU', 'EGY', 'ESP',\n",
       "        'EST', 'ETH', 'FIN', 'FJI', 'FRA', 'GBR', 'GEO', 'GHA', 'GRC',\n",
       "        'GRD', 'HKG', 'HRV', 'HUN', 'IDN', 'IND', 'IRL', 'IRN', 'ISR',\n",
       "        'ITA', 'JAM', 'JOR', 'JPN', 'KAZ', 'KEN', 'KGZ', 'KOR', 'KWT',\n",
       "        'LTU', 'LVA', 'MAR', 'MDA', 'MEX', 'MKD', 'MNG', 'MYS', 'NAM',\n",
       "        'NGA', 'NLD', 'NOR', 'NZL', 'PHL', 'POL', 'PRI', 'PRT', 'QAT',\n",
       "        'ROU', 'RUS', 'SAU', 'SMR', 'SRB', 'SVK', 'SVN', 'SWE', 'SYR',\n",
       "        'THA', 'TKM', 'TUN', 'TUR', 'TWN', 'UGA', 'UKR', 'USA', 'UZB',\n",
       "        'VEN', 'XKX', 'ZAF'], dtype=object),\n",
       " 'ioc': array(['ARG', 'ARM', 'AUS', 'AUT', 'AZE', 'BEL', 'BUR', 'BUL', 'BRN',\n",
       "        'BAH', 'BLR', 'BER', 'BRA', 'BOT', 'CAN', 'SUI', 'CHN', 'CIV',\n",
       "        'COL', 'CUB', 'CZE', 'GER', 'DEN', 'DOM', 'ECU', 'EGY', 'ESP',\n",
       "        'EST', 'ETH', 'FIN', 'FIJ', 'FRA', 'GBR', 'GEO', 'GHA', 'GRE',\n",
       "        'GRN', 'HKG', 'CRO', 'HUN', 'INA', 'IND', 'IRL', 'IRI', 'ISR',\n",
       "        'ITA', 'JAM', 'JOR', 'JPN', 'KAZ', 'KEN', 'KGZ', 'KOR', 'KUW',\n",
       "        'LTU', 'LAT', 'MAR', 'MDA', 'MEX', 'MKD', 'MGL', 'MAS', 'NAM',\n",
       "        'NGR', 'NED', 'NOR', 'NZL', 'PHI', 'POL', 'PUR', 'POR', 'QAT',\n",
       "        'ROU', 'ROC', 'KSA', 'SMR', 'SRB', 'SVK', 'SLO', 'SWE', 'SYR',\n",
       "        'THA', 'TKM', 'TUN', 'TUR', 'TPE', 'UGA', 'UKR', 'USA', 'UZB',\n",
       "        'VEN', 'KOS', 'RSA'], dtype=object),\n",
       " 'name': array(['Argentina', 'Armenia', 'Australia', 'Austria', 'Azerbaijan',\n",
       "        'Belgium', 'Burkina Faso', 'Bulgaria', 'Bahrain', 'Bahamas',\n",
       "        'Belarus', 'Bermuda', 'Brazil', 'Botswana', 'Canada',\n",
       "        'Switzerland', 'China', \"Côte d'Ivoire\", 'Colombia', 'Cuba',\n",
       "        'Czech Republic', 'Germany', 'Denmark', 'Dominican Republic',\n",
       "        'Ecuador', 'Egypt', 'Spain', 'Estonia', 'Ethiopia', 'Finland',\n",
       "        'Fiji', 'France', 'Great Britain', 'Georgia', 'Ghana', 'Greece',\n",
       "        'Grenada', 'Hong Kong, China', 'Croatia', 'Hungary', 'Indonesia',\n",
       "        'India', 'Ireland', 'Iran', 'Israel', 'Italy', 'Jamaica', 'Jordan',\n",
       "        'Japan', 'Kazakhstan', 'Kenya', 'Kyrgyzstan', 'South Korea',\n",
       "        'Kuwait', 'Lithuania', 'Latvia', 'Morocco', 'Moldova', 'Mexico',\n",
       "        'North Macedonia', 'Mongolia', 'Malaysia', 'Namibia', 'Nigeria',\n",
       "        'Netherlands', 'Norway', 'New Zealand', 'Philippines', 'Poland',\n",
       "        'Puerto Rico', 'Portugal', 'Qatar', 'Romania', 'Russia',\n",
       "        'Saudi Arabia', 'San Marino', 'Serbia', 'Slovakia', 'Slovenia',\n",
       "        'Sweden', 'Syria', 'Thailand', 'Turkmenistan', 'Tunisia', 'Turkey',\n",
       "        'Taiwan', 'Uganda', 'Ukraine', 'United States', 'Uzbekistan',\n",
       "        'Venezuela', 'Kosovo', 'South Africa'], dtype=object),\n",
       " 'continent': array(['South America', 'Asia', 'Oceania', 'Europe', 'Africa',\n",
       "        'North America'], dtype=object)}"
      ]
     },
     "execution_count": 11,
     "metadata": {},
     "output_type": "execute_result"
    }
   ],
   "source": [
    "categorical_columns = df.select_dtypes(include=['object', 'category']).columns\n",
    "unique_values = {col: df[col].unique() for col in categorical_columns}\n",
    "unique_values"
   ]
  },
  {
   "cell_type": "code",
   "execution_count": 12,
   "id": "082ab981",
   "metadata": {
    "execution": {
     "iopub.execute_input": "2024-12-10T08:04:34.210500Z",
     "iopub.status.busy": "2024-12-10T08:04:34.209979Z",
     "iopub.status.idle": "2024-12-10T08:04:34.468662Z",
     "shell.execute_reply": "2024-12-10T08:04:34.467336Z"
    },
    "papermill": {
     "duration": 0.275683,
     "end_time": "2024-12-10T08:04:34.471782",
     "exception": false,
     "start_time": "2024-12-10T08:04:34.196099",
     "status": "completed"
    },
    "tags": []
   },
   "outputs": [
    {
     "data": {
      "text/plain": [
       "{'Argentina': [],\n",
       " 'Armenia': [],\n",
       " 'Australia': ['Austria'],\n",
       " 'Austria': ['Australia'],\n",
       " 'Azerbaijan': [],\n",
       " 'Belgium': [],\n",
       " 'Burkina Faso': [],\n",
       " 'Bulgaria': [],\n",
       " 'Bahrain': [],\n",
       " 'Bahamas': [],\n",
       " 'Belarus': [],\n",
       " 'Bermuda': [],\n",
       " 'Brazil': [],\n",
       " 'Botswana': [],\n",
       " 'Canada': [],\n",
       " 'Switzerland': [],\n",
       " 'China': [],\n",
       " \"Côte d'Ivoire\": [],\n",
       " 'Colombia': [],\n",
       " 'Cuba': [],\n",
       " 'Czech Republic': [],\n",
       " 'Germany': [],\n",
       " 'Denmark': [],\n",
       " 'Dominican Republic': [],\n",
       " 'Ecuador': [],\n",
       " 'Egypt': [],\n",
       " 'Spain': [],\n",
       " 'Estonia': [],\n",
       " 'Ethiopia': [],\n",
       " 'Finland': [],\n",
       " 'Fiji': [],\n",
       " 'France': [],\n",
       " 'Great Britain': [],\n",
       " 'Georgia': [],\n",
       " 'Ghana': [],\n",
       " 'Greece': [],\n",
       " 'Grenada': [],\n",
       " 'Hong Kong, China': [],\n",
       " 'Croatia': [],\n",
       " 'Hungary': [],\n",
       " 'Indonesia': [],\n",
       " 'India': [],\n",
       " 'Ireland': [],\n",
       " 'Iran': [],\n",
       " 'Israel': [],\n",
       " 'Italy': [],\n",
       " 'Jamaica': [],\n",
       " 'Jordan': [],\n",
       " 'Japan': [],\n",
       " 'Kazakhstan': [],\n",
       " 'Kenya': [],\n",
       " 'Kyrgyzstan': [],\n",
       " 'South Korea': [],\n",
       " 'Kuwait': [],\n",
       " 'Lithuania': [],\n",
       " 'Latvia': [],\n",
       " 'Morocco': [],\n",
       " 'Moldova': [],\n",
       " 'Mexico': [],\n",
       " 'North Macedonia': [],\n",
       " 'Mongolia': [],\n",
       " 'Malaysia': [],\n",
       " 'Namibia': [],\n",
       " 'Nigeria': [],\n",
       " 'Netherlands': [],\n",
       " 'Norway': [],\n",
       " 'New Zealand': [],\n",
       " 'Philippines': [],\n",
       " 'Poland': [],\n",
       " 'Puerto Rico': [],\n",
       " 'Portugal': [],\n",
       " 'Qatar': [],\n",
       " 'Romania': [],\n",
       " 'Russia': [],\n",
       " 'Saudi Arabia': [],\n",
       " 'San Marino': [],\n",
       " 'Serbia': [],\n",
       " 'Slovakia': [],\n",
       " 'Slovenia': [],\n",
       " 'Sweden': [],\n",
       " 'Syria': [],\n",
       " 'Thailand': [],\n",
       " 'Turkmenistan': [],\n",
       " 'Tunisia': [],\n",
       " 'Turkey': [],\n",
       " 'Taiwan': [],\n",
       " 'Uganda': [],\n",
       " 'Ukraine': [],\n",
       " 'United States': [],\n",
       " 'Uzbekistan': [],\n",
       " 'Venezuela': [],\n",
       " 'Kosovo': [],\n",
       " 'South Africa': []}"
      ]
     },
     "execution_count": 12,
     "metadata": {},
     "output_type": "execute_result"
    }
   ],
   "source": [
    "column_values = df['name'].dropna().unique()\n",
    "similar_values = {}\n",
    "\n",
    "for value in column_values:\n",
    "    matches = process.extract(value, column_values, scorer=fuzz.ratio, limit=5)\n",
    "    similar_values[value] = [match[0] for match in matches if match[1] > 80 and match[0] != value]\n",
    "\n",
    "similar_values"
   ]
  },
  {
   "cell_type": "code",
   "execution_count": 13,
   "id": "3d8b9cd3",
   "metadata": {
    "execution": {
     "iopub.execute_input": "2024-12-10T08:04:34.507607Z",
     "iopub.status.busy": "2024-12-10T08:04:34.507158Z",
     "iopub.status.idle": "2024-12-10T08:04:34.521128Z",
     "shell.execute_reply": "2024-12-10T08:04:34.520156Z"
    },
    "papermill": {
     "duration": 0.036324,
     "end_time": "2024-12-10T08:04:34.523213",
     "exception": false,
     "start_time": "2024-12-10T08:04:34.486889",
     "status": "completed"
    },
    "tags": []
   },
   "outputs": [
    {
     "data": {
      "text/html": [
       "<div>\n",
       "<style scoped>\n",
       "    .dataframe tbody tr th:only-of-type {\n",
       "        vertical-align: middle;\n",
       "    }\n",
       "\n",
       "    .dataframe tbody tr th {\n",
       "        vertical-align: top;\n",
       "    }\n",
       "\n",
       "    .dataframe thead th {\n",
       "        text-align: right;\n",
       "    }\n",
       "</style>\n",
       "<table border=\"1\" class=\"dataframe\">\n",
       "  <thead>\n",
       "    <tr style=\"text-align: right;\">\n",
       "      <th></th>\n",
       "      <th>iso</th>\n",
       "      <th>ioc</th>\n",
       "      <th>name</th>\n",
       "      <th>continent</th>\n",
       "      <th>population</th>\n",
       "      <th>gdp</th>\n",
       "      <th>olympics_index</th>\n",
       "      <th>sports_index</th>\n",
       "      <th>olympicsIndex</th>\n",
       "      <th>sportsIndex</th>\n",
       "      <th>total</th>\n",
       "      <th>gold</th>\n",
       "      <th>silver</th>\n",
       "      <th>bronze</th>\n",
       "    </tr>\n",
       "  </thead>\n",
       "  <tbody>\n",
       "    <tr>\n",
       "      <th>0</th>\n",
       "      <td>ARG</td>\n",
       "      <td>ARG</td>\n",
       "      <td>Argentina</td>\n",
       "      <td>South America</td>\n",
       "      <td>45376763</td>\n",
       "      <td>383066977654</td>\n",
       "      <td>19.60</td>\n",
       "      <td>9.32</td>\n",
       "      <td>19.60</td>\n",
       "      <td>9.32</td>\n",
       "      <td>3</td>\n",
       "      <td>0</td>\n",
       "      <td>1</td>\n",
       "      <td>2</td>\n",
       "    </tr>\n",
       "    <tr>\n",
       "      <th>1</th>\n",
       "      <td>ARM</td>\n",
       "      <td>ARM</td>\n",
       "      <td>Armenia</td>\n",
       "      <td>Asia</td>\n",
       "      <td>2963234</td>\n",
       "      <td>12645459214</td>\n",
       "      <td>19.68</td>\n",
       "      <td>13.50</td>\n",
       "      <td>19.68</td>\n",
       "      <td>13.50</td>\n",
       "      <td>4</td>\n",
       "      <td>0</td>\n",
       "      <td>2</td>\n",
       "      <td>2</td>\n",
       "    </tr>\n",
       "    <tr>\n",
       "      <th>2</th>\n",
       "      <td>AUS</td>\n",
       "      <td>AUS</td>\n",
       "      <td>Australia</td>\n",
       "      <td>Oceania</td>\n",
       "      <td>25687041</td>\n",
       "      <td>1330900925057</td>\n",
       "      <td>31.17</td>\n",
       "      <td>11.07</td>\n",
       "      <td>31.17</td>\n",
       "      <td>11.07</td>\n",
       "      <td>46</td>\n",
       "      <td>17</td>\n",
       "      <td>7</td>\n",
       "      <td>22</td>\n",
       "    </tr>\n",
       "    <tr>\n",
       "      <th>3</th>\n",
       "      <td>AUT</td>\n",
       "      <td>AUT</td>\n",
       "      <td>Austria</td>\n",
       "      <td>Europe</td>\n",
       "      <td>8917205</td>\n",
       "      <td>428965397959</td>\n",
       "      <td>12.21</td>\n",
       "      <td>15.92</td>\n",
       "      <td>12.21</td>\n",
       "      <td>15.92</td>\n",
       "      <td>7</td>\n",
       "      <td>1</td>\n",
       "      <td>1</td>\n",
       "      <td>5</td>\n",
       "    </tr>\n",
       "    <tr>\n",
       "      <th>4</th>\n",
       "      <td>AZE</td>\n",
       "      <td>AZE</td>\n",
       "      <td>Azerbaijan</td>\n",
       "      <td>Europe</td>\n",
       "      <td>10110116</td>\n",
       "      <td>42607176471</td>\n",
       "      <td>18.21</td>\n",
       "      <td>13.10</td>\n",
       "      <td>18.21</td>\n",
       "      <td>13.10</td>\n",
       "      <td>7</td>\n",
       "      <td>0</td>\n",
       "      <td>3</td>\n",
       "      <td>4</td>\n",
       "    </tr>\n",
       "  </tbody>\n",
       "</table>\n",
       "</div>"
      ],
      "text/plain": [
       "   iso  ioc        name      continent  population            gdp  \\\n",
       "0  ARG  ARG   Argentina  South America    45376763   383066977654   \n",
       "1  ARM  ARM     Armenia           Asia     2963234    12645459214   \n",
       "2  AUS  AUS   Australia        Oceania    25687041  1330900925057   \n",
       "3  AUT  AUT     Austria         Europe     8917205   428965397959   \n",
       "4  AZE  AZE  Azerbaijan         Europe    10110116    42607176471   \n",
       "\n",
       "   olympics_index  sports_index  olympicsIndex  sportsIndex  total  gold  \\\n",
       "0           19.60          9.32          19.60         9.32      3     0   \n",
       "1           19.68         13.50          19.68        13.50      4     0   \n",
       "2           31.17         11.07          31.17        11.07     46    17   \n",
       "3           12.21         15.92          12.21        15.92      7     1   \n",
       "4           18.21         13.10          18.21        13.10      7     0   \n",
       "\n",
       "   silver  bronze  \n",
       "0       1       2  \n",
       "1       2       2  \n",
       "2       7      22  \n",
       "3       1       5  \n",
       "4       3       4  "
      ]
     },
     "execution_count": 13,
     "metadata": {},
     "output_type": "execute_result"
    }
   ],
   "source": [
    "df.head()"
   ]
  },
  {
   "cell_type": "markdown",
   "id": "9904dfc9",
   "metadata": {
    "papermill": {
     "duration": 0.01272,
     "end_time": "2024-12-10T08:04:34.549349",
     "exception": false,
     "start_time": "2024-12-10T08:04:34.536629",
     "status": "completed"
    },
    "tags": []
   },
   "source": [
    "Dropping irrelevant columns. I will predict the total medal count. "
   ]
  },
  {
   "cell_type": "code",
   "execution_count": 14,
   "id": "d6aa4023",
   "metadata": {
    "execution": {
     "iopub.execute_input": "2024-12-10T08:04:34.577780Z",
     "iopub.status.busy": "2024-12-10T08:04:34.577407Z",
     "iopub.status.idle": "2024-12-10T08:04:34.587080Z",
     "shell.execute_reply": "2024-12-10T08:04:34.586043Z"
    },
    "papermill": {
     "duration": 0.026364,
     "end_time": "2024-12-10T08:04:34.589050",
     "exception": false,
     "start_time": "2024-12-10T08:04:34.562686",
     "status": "completed"
    },
    "tags": []
   },
   "outputs": [],
   "source": [
    "df = df.drop(columns=['iso', 'ioc', 'gold', 'silver', 'bronze'])"
   ]
  },
  {
   "cell_type": "code",
   "execution_count": 15,
   "id": "8dc34436",
   "metadata": {
    "execution": {
     "iopub.execute_input": "2024-12-10T08:04:34.617937Z",
     "iopub.status.busy": "2024-12-10T08:04:34.616929Z",
     "iopub.status.idle": "2024-12-10T08:04:34.632449Z",
     "shell.execute_reply": "2024-12-10T08:04:34.631409Z"
    },
    "papermill": {
     "duration": 0.032143,
     "end_time": "2024-12-10T08:04:34.634514",
     "exception": false,
     "start_time": "2024-12-10T08:04:34.602371",
     "status": "completed"
    },
    "tags": []
   },
   "outputs": [
    {
     "data": {
      "text/html": [
       "<div>\n",
       "<style scoped>\n",
       "    .dataframe tbody tr th:only-of-type {\n",
       "        vertical-align: middle;\n",
       "    }\n",
       "\n",
       "    .dataframe tbody tr th {\n",
       "        vertical-align: top;\n",
       "    }\n",
       "\n",
       "    .dataframe thead th {\n",
       "        text-align: right;\n",
       "    }\n",
       "</style>\n",
       "<table border=\"1\" class=\"dataframe\">\n",
       "  <thead>\n",
       "    <tr style=\"text-align: right;\">\n",
       "      <th></th>\n",
       "      <th>name</th>\n",
       "      <th>continent</th>\n",
       "      <th>population</th>\n",
       "      <th>gdp</th>\n",
       "      <th>olympics_index</th>\n",
       "      <th>sports_index</th>\n",
       "      <th>olympicsIndex</th>\n",
       "      <th>sportsIndex</th>\n",
       "      <th>total</th>\n",
       "    </tr>\n",
       "  </thead>\n",
       "  <tbody>\n",
       "    <tr>\n",
       "      <th>0</th>\n",
       "      <td>Argentina</td>\n",
       "      <td>South America</td>\n",
       "      <td>45376763</td>\n",
       "      <td>383066977654</td>\n",
       "      <td>19.60</td>\n",
       "      <td>9.32</td>\n",
       "      <td>19.60</td>\n",
       "      <td>9.32</td>\n",
       "      <td>3</td>\n",
       "    </tr>\n",
       "    <tr>\n",
       "      <th>1</th>\n",
       "      <td>Armenia</td>\n",
       "      <td>Asia</td>\n",
       "      <td>2963234</td>\n",
       "      <td>12645459214</td>\n",
       "      <td>19.68</td>\n",
       "      <td>13.50</td>\n",
       "      <td>19.68</td>\n",
       "      <td>13.50</td>\n",
       "      <td>4</td>\n",
       "    </tr>\n",
       "    <tr>\n",
       "      <th>2</th>\n",
       "      <td>Australia</td>\n",
       "      <td>Oceania</td>\n",
       "      <td>25687041</td>\n",
       "      <td>1330900925057</td>\n",
       "      <td>31.17</td>\n",
       "      <td>11.07</td>\n",
       "      <td>31.17</td>\n",
       "      <td>11.07</td>\n",
       "      <td>46</td>\n",
       "    </tr>\n",
       "    <tr>\n",
       "      <th>3</th>\n",
       "      <td>Austria</td>\n",
       "      <td>Europe</td>\n",
       "      <td>8917205</td>\n",
       "      <td>428965397959</td>\n",
       "      <td>12.21</td>\n",
       "      <td>15.92</td>\n",
       "      <td>12.21</td>\n",
       "      <td>15.92</td>\n",
       "      <td>7</td>\n",
       "    </tr>\n",
       "    <tr>\n",
       "      <th>4</th>\n",
       "      <td>Azerbaijan</td>\n",
       "      <td>Europe</td>\n",
       "      <td>10110116</td>\n",
       "      <td>42607176471</td>\n",
       "      <td>18.21</td>\n",
       "      <td>13.10</td>\n",
       "      <td>18.21</td>\n",
       "      <td>13.10</td>\n",
       "      <td>7</td>\n",
       "    </tr>\n",
       "    <tr>\n",
       "      <th>...</th>\n",
       "      <td>...</td>\n",
       "      <td>...</td>\n",
       "      <td>...</td>\n",
       "      <td>...</td>\n",
       "      <td>...</td>\n",
       "      <td>...</td>\n",
       "      <td>...</td>\n",
       "      <td>...</td>\n",
       "      <td>...</td>\n",
       "    </tr>\n",
       "    <tr>\n",
       "      <th>88</th>\n",
       "      <td>United States</td>\n",
       "      <td>North America</td>\n",
       "      <td>329484123</td>\n",
       "      <td>20936600000000</td>\n",
       "      <td>26.16</td>\n",
       "      <td>9.79</td>\n",
       "      <td>26.16</td>\n",
       "      <td>9.79</td>\n",
       "      <td>113</td>\n",
       "    </tr>\n",
       "    <tr>\n",
       "      <th>89</th>\n",
       "      <td>Uzbekistan</td>\n",
       "      <td>Asia</td>\n",
       "      <td>34232050</td>\n",
       "      <td>57707189945</td>\n",
       "      <td>24.83</td>\n",
       "      <td>11.63</td>\n",
       "      <td>24.83</td>\n",
       "      <td>11.63</td>\n",
       "      <td>5</td>\n",
       "    </tr>\n",
       "    <tr>\n",
       "      <th>90</th>\n",
       "      <td>Venezuela</td>\n",
       "      <td>South America</td>\n",
       "      <td>28435943</td>\n",
       "      <td>482400000000</td>\n",
       "      <td>25.13</td>\n",
       "      <td>10.63</td>\n",
       "      <td>25.13</td>\n",
       "      <td>10.63</td>\n",
       "      <td>4</td>\n",
       "    </tr>\n",
       "    <tr>\n",
       "      <th>91</th>\n",
       "      <td>Kosovo</td>\n",
       "      <td>Europe</td>\n",
       "      <td>1775378</td>\n",
       "      <td>7611402165</td>\n",
       "      <td>7.98</td>\n",
       "      <td>22.47</td>\n",
       "      <td>7.98</td>\n",
       "      <td>22.47</td>\n",
       "      <td>2</td>\n",
       "    </tr>\n",
       "    <tr>\n",
       "      <th>92</th>\n",
       "      <td>South Africa</td>\n",
       "      <td>Africa</td>\n",
       "      <td>59308690</td>\n",
       "      <td>301923639270</td>\n",
       "      <td>11.49</td>\n",
       "      <td>14.05</td>\n",
       "      <td>11.49</td>\n",
       "      <td>14.05</td>\n",
       "      <td>3</td>\n",
       "    </tr>\n",
       "  </tbody>\n",
       "</table>\n",
       "<p>93 rows × 9 columns</p>\n",
       "</div>"
      ],
      "text/plain": [
       "             name      continent  population             gdp  olympics_index  \\\n",
       "0       Argentina  South America    45376763    383066977654           19.60   \n",
       "1         Armenia           Asia     2963234     12645459214           19.68   \n",
       "2       Australia        Oceania    25687041   1330900925057           31.17   \n",
       "3         Austria         Europe     8917205    428965397959           12.21   \n",
       "4      Azerbaijan         Europe    10110116     42607176471           18.21   \n",
       "..            ...            ...         ...             ...             ...   \n",
       "88  United States  North America   329484123  20936600000000           26.16   \n",
       "89     Uzbekistan           Asia    34232050     57707189945           24.83   \n",
       "90      Venezuela  South America    28435943    482400000000           25.13   \n",
       "91         Kosovo         Europe     1775378      7611402165            7.98   \n",
       "92   South Africa         Africa    59308690    301923639270           11.49   \n",
       "\n",
       "    sports_index  olympicsIndex  sportsIndex  total  \n",
       "0           9.32          19.60         9.32      3  \n",
       "1          13.50          19.68        13.50      4  \n",
       "2          11.07          31.17        11.07     46  \n",
       "3          15.92          12.21        15.92      7  \n",
       "4          13.10          18.21        13.10      7  \n",
       "..           ...            ...          ...    ...  \n",
       "88          9.79          26.16         9.79    113  \n",
       "89         11.63          24.83        11.63      5  \n",
       "90         10.63          25.13        10.63      4  \n",
       "91         22.47           7.98        22.47      2  \n",
       "92         14.05          11.49        14.05      3  \n",
       "\n",
       "[93 rows x 9 columns]"
      ]
     },
     "execution_count": 15,
     "metadata": {},
     "output_type": "execute_result"
    }
   ],
   "source": [
    "df"
   ]
  },
  {
   "cell_type": "markdown",
   "id": "2b0d2274",
   "metadata": {
    "papermill": {
     "duration": 0.013484,
     "end_time": "2024-12-10T08:04:34.661664",
     "exception": false,
     "start_time": "2024-12-10T08:04:34.648180",
     "status": "completed"
    },
    "tags": []
   },
   "source": [
    "#Data-Visualization"
   ]
  },
  {
   "cell_type": "code",
   "execution_count": 16,
   "id": "9f2be5da",
   "metadata": {
    "execution": {
     "iopub.execute_input": "2024-12-10T08:04:34.691217Z",
     "iopub.status.busy": "2024-12-10T08:04:34.690815Z",
     "iopub.status.idle": "2024-12-10T08:04:35.525062Z",
     "shell.execute_reply": "2024-12-10T08:04:35.523897Z"
    },
    "papermill": {
     "duration": 0.853023,
     "end_time": "2024-12-10T08:04:35.528512",
     "exception": false,
     "start_time": "2024-12-10T08:04:34.675489",
     "status": "completed"
    },
    "tags": []
   },
   "outputs": [
    {
     "data": {
      "image/png": "[encoded data removed]",
      "text/plain": [
       "<Figure size 1500x1200 with 2 Axes>"
      ]
     },
     "metadata": {},
     "output_type": "display_data"
    }
   ],
   "source": [
    "hm_df = df.copy()\n",
    "\n",
    "cat_col = hm_df.select_dtypes(include=['object']).columns.tolist()\n",
    "label_encoder = LabelEncoder()\n",
    "\n",
    "for col in cat_col:\n",
    "    hm_df[col] = label_encoder.fit_transform(df[col])\n",
    "\n",
    "plt.figure(figsize=(15, 12))\n",
    "sns.set(font_scale=1.2) \n",
    "\n",
    "cm = sns.heatmap(\n",
    "    hm_df.corr(),\n",
    "    annot=True,\n",
    "    cmap='mako',  \n",
    "    fmt='.2f', \n",
    "    linewidths=0.5 \n",
    ")\n",
    "\n",
    "\n",
    "plt.title('Correlation Heatmap', fontsize=16)\n",
    "plt.tight_layout()  \n",
    "plt.show()"
   ]
  },
  {
   "cell_type": "code",
   "execution_count": 17,
   "id": "968bb815",
   "metadata": {
    "execution": {
     "iopub.execute_input": "2024-12-10T08:04:35.562665Z",
     "iopub.status.busy": "2024-12-10T08:04:35.561723Z",
     "iopub.status.idle": "2024-12-10T08:04:35.588454Z",
     "shell.execute_reply": "2024-12-10T08:04:35.587313Z"
    },
    "papermill": {
     "duration": 0.045967,
     "end_time": "2024-12-10T08:04:35.590515",
     "exception": false,
     "start_time": "2024-12-10T08:04:35.544548",
     "status": "completed"
    },
    "tags": []
   },
   "outputs": [
    {
     "data": {
      "text/html": [
       "<div>\n",
       "<style scoped>\n",
       "    .dataframe tbody tr th:only-of-type {\n",
       "        vertical-align: middle;\n",
       "    }\n",
       "\n",
       "    .dataframe tbody tr th {\n",
       "        vertical-align: top;\n",
       "    }\n",
       "\n",
       "    .dataframe thead th {\n",
       "        text-align: right;\n",
       "    }\n",
       "</style>\n",
       "<table border=\"1\" class=\"dataframe\">\n",
       "  <thead>\n",
       "    <tr style=\"text-align: right;\">\n",
       "      <th></th>\n",
       "      <th>population</th>\n",
       "      <th>gdp</th>\n",
       "      <th>olympics_index</th>\n",
       "      <th>sports_index</th>\n",
       "      <th>olympicsIndex</th>\n",
       "      <th>sportsIndex</th>\n",
       "      <th>total</th>\n",
       "    </tr>\n",
       "  </thead>\n",
       "  <tbody>\n",
       "    <tr>\n",
       "      <th>count</th>\n",
       "      <td>93.00</td>\n",
       "      <td>93.00</td>\n",
       "      <td>93.00</td>\n",
       "      <td>93.00</td>\n",
       "      <td>93.00</td>\n",
       "      <td>93.00</td>\n",
       "      <td>93.00</td>\n",
       "    </tr>\n",
       "    <tr>\n",
       "      <th>mean</th>\n",
       "      <td>66392366.72</td>\n",
       "      <td>866840997410.71</td>\n",
       "      <td>20.68</td>\n",
       "      <td>16.33</td>\n",
       "      <td>20.23</td>\n",
       "      <td>15.98</td>\n",
       "      <td>11.61</td>\n",
       "    </tr>\n",
       "    <tr>\n",
       "      <th>std</th>\n",
       "      <td>205747405.60</td>\n",
       "      <td>2702387141886.76</td>\n",
       "      <td>12.49</td>\n",
       "      <td>8.84</td>\n",
       "      <td>12.85</td>\n",
       "      <td>9.15</td>\n",
       "      <td>19.09</td>\n",
       "    </tr>\n",
       "    <tr>\n",
       "      <th>min</th>\n",
       "      <td>33938.00</td>\n",
       "      <td>0.00</td>\n",
       "      <td>1.00</td>\n",
       "      <td>7.40</td>\n",
       "      <td>0.00</td>\n",
       "      <td>0.00</td>\n",
       "      <td>1.00</td>\n",
       "    </tr>\n",
       "    <tr>\n",
       "      <th>25%</th>\n",
       "      <td>4994724.00</td>\n",
       "      <td>43697659275.00</td>\n",
       "      <td>13.09</td>\n",
       "      <td>11.02</td>\n",
       "      <td>12.21</td>\n",
       "      <td>10.61</td>\n",
       "      <td>2.00</td>\n",
       "    </tr>\n",
       "    <tr>\n",
       "      <th>50%</th>\n",
       "      <td>11326616.00</td>\n",
       "      <td>169835426427.00</td>\n",
       "      <td>18.79</td>\n",
       "      <td>13.99</td>\n",
       "      <td>18.21</td>\n",
       "      <td>13.89</td>\n",
       "      <td>4.00</td>\n",
       "    </tr>\n",
       "    <tr>\n",
       "      <th>75%</th>\n",
       "      <td>47351567.00</td>\n",
       "      <td>515332499628.00</td>\n",
       "      <td>26.04</td>\n",
       "      <td>18.98</td>\n",
       "      <td>26.04</td>\n",
       "      <td>18.98</td>\n",
       "      <td>11.00</td>\n",
       "    </tr>\n",
       "    <tr>\n",
       "      <th>max</th>\n",
       "      <td>1402112000.00</td>\n",
       "      <td>20936600000000.00</td>\n",
       "      <td>100.00</td>\n",
       "      <td>72.23</td>\n",
       "      <td>100.00</td>\n",
       "      <td>72.23</td>\n",
       "      <td>113.00</td>\n",
       "    </tr>\n",
       "  </tbody>\n",
       "</table>\n",
       "</div>"
      ],
      "text/plain": [
       "         population               gdp  olympics_index  sports_index  \\\n",
       "count         93.00             93.00           93.00         93.00   \n",
       "mean    66392366.72   866840997410.71           20.68         16.33   \n",
       "std    205747405.60  2702387141886.76           12.49          8.84   \n",
       "min        33938.00              0.00            1.00          7.40   \n",
       "25%      4994724.00    43697659275.00           13.09         11.02   \n",
       "50%     11326616.00   169835426427.00           18.79         13.99   \n",
       "75%     47351567.00   515332499628.00           26.04         18.98   \n",
       "max   1402112000.00 20936600000000.00          100.00         72.23   \n",
       "\n",
       "       olympicsIndex  sportsIndex  total  \n",
       "count          93.00        93.00  93.00  \n",
       "mean           20.23        15.98  11.61  \n",
       "std            12.85         9.15  19.09  \n",
       "min             0.00         0.00   1.00  \n",
       "25%            12.21        10.61   2.00  \n",
       "50%            18.21        13.89   4.00  \n",
       "75%            26.04        18.98  11.00  \n",
       "max           100.00        72.23 113.00  "
      ]
     },
     "execution_count": 17,
     "metadata": {},
     "output_type": "execute_result"
    }
   ],
   "source": [
    "df.describe()"
   ]
  },
  {
   "cell_type": "code",
   "execution_count": 18,
   "id": "d07d0dbd",
   "metadata": {
    "execution": {
     "iopub.execute_input": "2024-12-10T08:04:35.624343Z",
     "iopub.status.busy": "2024-12-10T08:04:35.623920Z",
     "iopub.status.idle": "2024-12-10T08:04:35.633869Z",
     "shell.execute_reply": "2024-12-10T08:04:35.632643Z"
    },
    "papermill": {
     "duration": 0.029329,
     "end_time": "2024-12-10T08:04:35.636065",
     "exception": false,
     "start_time": "2024-12-10T08:04:35.606736",
     "status": "completed"
    },
    "tags": []
   },
   "outputs": [
    {
     "name": "stdout",
     "output_type": "stream",
     "text": [
      "    population             gdp  olympics_index  sports_index  olympicsIndex  \\\n",
      "0     45376763    383066977654           19.60          9.32          19.60   \n",
      "1      2963234     12645459214           19.68         13.50          19.68   \n",
      "2     25687041   1330900925057           31.17         11.07          31.17   \n",
      "3      8917205    428965397959           12.21         15.92          12.21   \n",
      "4     10110116     42607176471           18.21         13.10          18.21   \n",
      "..         ...             ...             ...           ...            ...   \n",
      "88   329484123  20936600000000           26.16          9.79          26.16   \n",
      "89    34232050     57707189945           24.83         11.63          24.83   \n",
      "90    28435943    482400000000           25.13         10.63          25.13   \n",
      "91     1775378      7611402165            7.98         22.47           7.98   \n",
      "92    59308690    301923639270           11.49         14.05          11.49   \n",
      "\n",
      "    sportsIndex  total  \n",
      "0          9.32      3  \n",
      "1         13.50      4  \n",
      "2         11.07     46  \n",
      "3         15.92      7  \n",
      "4         13.10      7  \n",
      "..          ...    ...  \n",
      "88         9.79    113  \n",
      "89        11.63      5  \n",
      "90        10.63      4  \n",
      "91        22.47      2  \n",
      "92        14.05      3  \n",
      "\n",
      "[93 rows x 7 columns]\n"
     ]
    }
   ],
   "source": [
    "numerical_data = df.select_dtypes(include=['number'])\n",
    "\n",
    "print(numerical_data)"
   ]
  },
  {
   "cell_type": "code",
   "execution_count": 19,
   "id": "a60b5dfc",
   "metadata": {
    "execution": {
     "iopub.execute_input": "2024-12-10T08:04:35.670119Z",
     "iopub.status.busy": "2024-12-10T08:04:35.669739Z",
     "iopub.status.idle": "2024-12-10T08:04:35.678081Z",
     "shell.execute_reply": "2024-12-10T08:04:35.676828Z"
    },
    "papermill": {
     "duration": 0.028457,
     "end_time": "2024-12-10T08:04:35.680544",
     "exception": false,
     "start_time": "2024-12-10T08:04:35.652087",
     "status": "completed"
    },
    "tags": []
   },
   "outputs": [
    {
     "name": "stdout",
     "output_type": "stream",
     "text": [
      "\n",
      " Skewness\n",
      "population       5.96\n",
      "gdp              6.10\n",
      "olympics_index   3.07\n",
      "sports_index     3.22\n",
      "olympicsIndex    2.83\n",
      "sportsIndex      2.89\n",
      "total            3.22\n",
      "dtype: float64\n",
      "\n",
      " Kurtosis\n",
      "population       36.84\n",
      "gdp              40.31\n",
      "olympics_index   16.93\n",
      "sports_index     16.71\n",
      "olympicsIndex    15.34\n",
      "sportsIndex      14.81\n",
      "total            11.61\n",
      "dtype: float64\n"
     ]
    }
   ],
   "source": [
    "print(\"\\n Skewness\")\n",
    "print(numerical_data.skew())\n",
    "print(\"\\n Kurtosis\")\n",
    "print(numerical_data.kurt())"
   ]
  },
  {
   "cell_type": "code",
   "execution_count": 20,
   "id": "eae5f665",
   "metadata": {
    "execution": {
     "iopub.execute_input": "2024-12-10T08:04:35.715368Z",
     "iopub.status.busy": "2024-12-10T08:04:35.714545Z",
     "iopub.status.idle": "2024-12-10T08:04:36.356537Z",
     "shell.execute_reply": "2024-12-10T08:04:36.355460Z"
    },
    "papermill": {
     "duration": 0.661647,
     "end_time": "2024-12-10T08:04:36.358743",
     "exception": false,
     "start_time": "2024-12-10T08:04:35.697096",
     "status": "completed"
    },
    "tags": []
   },
   "outputs": [
    {
     "data": {
      "image/png": "[encoded data removed]",
      "text/plain": [
       "<Figure size 640x480 with 1 Axes>"
      ]
     },
     "metadata": {},
     "output_type": "display_data"
    },
    {
     "data": {
      "image/png": "[encoded data removed]",
      "text/plain": [
       "<Figure size 640x480 with 1 Axes>"
      ]
     },
     "metadata": {},
     "output_type": "display_data"
    },
    {
     "data": {
      "image/png": "[encoded data removed]",
      "text/plain": [
       "<Figure size 640x480 with 1 Axes>"
      ]
     },
     "metadata": {},
     "output_type": "display_data"
    }
   ],
   "source": [
    "variables = ['population', 'gdp', 'total']\n",
    "for var in variables:\n",
    "    sns.boxplot(data=df, y=var)\n",
    "    plt.title(f'Boxplot of {var}')\n",
    "    plt.show()"
   ]
  },
  {
   "cell_type": "markdown",
   "id": "547e3d6b",
   "metadata": {
    "papermill": {
     "duration": 0.016918,
     "end_time": "2024-12-10T08:04:36.392954",
     "exception": false,
     "start_time": "2024-12-10T08:04:36.376036",
     "status": "completed"
    },
    "tags": []
   },
   "source": [
    "Though there were outliers, they would mostly be from very large countries, which are very relevant to the final medal total. These outliers will not be removed because it would dramatically reduce model performance. "
   ]
  },
  {
   "cell_type": "code",
   "execution_count": 21,
   "id": "e4773d63",
   "metadata": {
    "execution": {
     "iopub.execute_input": "2024-12-10T08:04:36.429009Z",
     "iopub.status.busy": "2024-12-10T08:04:36.428597Z",
     "iopub.status.idle": "2024-12-10T08:04:36.435995Z",
     "shell.execute_reply": "2024-12-10T08:04:36.434656Z"
    },
    "papermill": {
     "duration": 0.028245,
     "end_time": "2024-12-10T08:04:36.438288",
     "exception": false,
     "start_time": "2024-12-10T08:04:36.410043",
     "status": "completed"
    },
    "tags": []
   },
   "outputs": [
    {
     "name": "stdout",
     "output_type": "stream",
     "text": [
      "name              0\n",
      "continent         0\n",
      "population        0\n",
      "gdp               0\n",
      "olympics_index    0\n",
      "sports_index      0\n",
      "olympicsIndex     0\n",
      "sportsIndex       0\n",
      "total             0\n",
      "dtype: int64\n"
     ]
    }
   ],
   "source": [
    "missing = df.isna().sum()\n",
    "\n",
    "print(missing)"
   ]
  },
  {
   "cell_type": "code",
   "execution_count": 22,
   "id": "e97f1bb3",
   "metadata": {
    "execution": {
     "iopub.execute_input": "2024-12-10T08:04:36.475037Z",
     "iopub.status.busy": "2024-12-10T08:04:36.474634Z",
     "iopub.status.idle": "2024-12-10T08:04:36.481458Z",
     "shell.execute_reply": "2024-12-10T08:04:36.480640Z"
    },
    "papermill": {
     "duration": 0.02783,
     "end_time": "2024-12-10T08:04:36.483376",
     "exception": false,
     "start_time": "2024-12-10T08:04:36.455546",
     "status": "completed"
    },
    "tags": []
   },
   "outputs": [],
   "source": [
    "numerical_columns = df.select_dtypes(include=['number']).columns.tolist()\n",
    "categorical_columns = df.select_dtypes(include=['object']).columns.tolist()"
   ]
  },
  {
   "cell_type": "code",
   "execution_count": 23,
   "id": "f53cb11a",
   "metadata": {
    "execution": {
     "iopub.execute_input": "2024-12-10T08:04:36.519550Z",
     "iopub.status.busy": "2024-12-10T08:04:36.519142Z",
     "iopub.status.idle": "2024-12-10T08:04:36.526662Z",
     "shell.execute_reply": "2024-12-10T08:04:36.525634Z"
    },
    "papermill": {
     "duration": 0.028482,
     "end_time": "2024-12-10T08:04:36.529211",
     "exception": false,
     "start_time": "2024-12-10T08:04:36.500729",
     "status": "completed"
    },
    "tags": []
   },
   "outputs": [
    {
     "name": "stdout",
     "output_type": "stream",
     "text": [
      "population        0\n",
      "gdp               0\n",
      "olympics_index    0\n",
      "sports_index      0\n",
      "olympicsIndex     0\n",
      "sportsIndex       0\n",
      "total             0\n",
      "dtype: int64\n"
     ]
    }
   ],
   "source": [
    "print(np.isinf(df[numerical_columns]).sum())"
   ]
  },
  {
   "cell_type": "code",
   "execution_count": 24,
   "id": "c513fc74",
   "metadata": {
    "execution": {
     "iopub.execute_input": "2024-12-10T08:04:36.565844Z",
     "iopub.status.busy": "2024-12-10T08:04:36.565426Z",
     "iopub.status.idle": "2024-12-10T08:04:36.576934Z",
     "shell.execute_reply": "2024-12-10T08:04:36.576043Z"
    },
    "papermill": {
     "duration": 0.032264,
     "end_time": "2024-12-10T08:04:36.578932",
     "exception": false,
     "start_time": "2024-12-10T08:04:36.546668",
     "status": "completed"
    },
    "tags": []
   },
   "outputs": [],
   "source": [
    "scaler = MinMaxScaler()\n",
    "df[numerical_columns] = scaler.fit_transform(df[numerical_columns])"
   ]
  },
  {
   "cell_type": "code",
   "execution_count": 25,
   "id": "f2dec3a9",
   "metadata": {
    "execution": {
     "iopub.execute_input": "2024-12-10T08:04:36.615599Z",
     "iopub.status.busy": "2024-12-10T08:04:36.615157Z",
     "iopub.status.idle": "2024-12-10T08:04:36.623652Z",
     "shell.execute_reply": "2024-12-10T08:04:36.622848Z"
    },
    "papermill": {
     "duration": 0.029223,
     "end_time": "2024-12-10T08:04:36.625696",
     "exception": false,
     "start_time": "2024-12-10T08:04:36.596473",
     "status": "completed"
    },
    "tags": []
   },
   "outputs": [],
   "source": [
    "df = pd.get_dummies(df, columns=['continent'], drop_first=True)"
   ]
  },
  {
   "cell_type": "code",
   "execution_count": 26,
   "id": "25cd951c",
   "metadata": {
    "execution": {
     "iopub.execute_input": "2024-12-10T08:04:36.662160Z",
     "iopub.status.busy": "2024-12-10T08:04:36.661810Z",
     "iopub.status.idle": "2024-12-10T08:04:36.676387Z",
     "shell.execute_reply": "2024-12-10T08:04:36.675280Z"
    },
    "papermill": {
     "duration": 0.035544,
     "end_time": "2024-12-10T08:04:36.678600",
     "exception": false,
     "start_time": "2024-12-10T08:04:36.643056",
     "status": "completed"
    },
    "tags": []
   },
   "outputs": [
    {
     "data": {
      "text/html": [
       "<div>\n",
       "<style scoped>\n",
       "    .dataframe tbody tr th:only-of-type {\n",
       "        vertical-align: middle;\n",
       "    }\n",
       "\n",
       "    .dataframe tbody tr th {\n",
       "        vertical-align: top;\n",
       "    }\n",
       "\n",
       "    .dataframe thead th {\n",
       "        text-align: right;\n",
       "    }\n",
       "</style>\n",
       "<table border=\"1\" class=\"dataframe\">\n",
       "  <thead>\n",
       "    <tr style=\"text-align: right;\">\n",
       "      <th></th>\n",
       "      <th>name</th>\n",
       "      <th>population</th>\n",
       "      <th>gdp</th>\n",
       "      <th>olympics_index</th>\n",
       "      <th>sports_index</th>\n",
       "      <th>olympicsIndex</th>\n",
       "      <th>sportsIndex</th>\n",
       "      <th>total</th>\n",
       "      <th>continent_Asia</th>\n",
       "      <th>continent_Europe</th>\n",
       "      <th>continent_North America</th>\n",
       "      <th>continent_Oceania</th>\n",
       "      <th>continent_South America</th>\n",
       "    </tr>\n",
       "  </thead>\n",
       "  <tbody>\n",
       "    <tr>\n",
       "      <th>0</th>\n",
       "      <td>Argentina</td>\n",
       "      <td>0.03</td>\n",
       "      <td>0.02</td>\n",
       "      <td>0.19</td>\n",
       "      <td>0.03</td>\n",
       "      <td>0.20</td>\n",
       "      <td>0.13</td>\n",
       "      <td>0.02</td>\n",
       "      <td>False</td>\n",
       "      <td>False</td>\n",
       "      <td>False</td>\n",
       "      <td>False</td>\n",
       "      <td>True</td>\n",
       "    </tr>\n",
       "    <tr>\n",
       "      <th>1</th>\n",
       "      <td>Armenia</td>\n",
       "      <td>0.00</td>\n",
       "      <td>0.00</td>\n",
       "      <td>0.19</td>\n",
       "      <td>0.09</td>\n",
       "      <td>0.20</td>\n",
       "      <td>0.19</td>\n",
       "      <td>0.03</td>\n",
       "      <td>True</td>\n",
       "      <td>False</td>\n",
       "      <td>False</td>\n",
       "      <td>False</td>\n",
       "      <td>False</td>\n",
       "    </tr>\n",
       "    <tr>\n",
       "      <th>2</th>\n",
       "      <td>Australia</td>\n",
       "      <td>0.02</td>\n",
       "      <td>0.06</td>\n",
       "      <td>0.30</td>\n",
       "      <td>0.06</td>\n",
       "      <td>0.31</td>\n",
       "      <td>0.15</td>\n",
       "      <td>0.40</td>\n",
       "      <td>False</td>\n",
       "      <td>False</td>\n",
       "      <td>False</td>\n",
       "      <td>True</td>\n",
       "      <td>False</td>\n",
       "    </tr>\n",
       "    <tr>\n",
       "      <th>3</th>\n",
       "      <td>Austria</td>\n",
       "      <td>0.01</td>\n",
       "      <td>0.02</td>\n",
       "      <td>0.11</td>\n",
       "      <td>0.13</td>\n",
       "      <td>0.12</td>\n",
       "      <td>0.22</td>\n",
       "      <td>0.05</td>\n",
       "      <td>False</td>\n",
       "      <td>True</td>\n",
       "      <td>False</td>\n",
       "      <td>False</td>\n",
       "      <td>False</td>\n",
       "    </tr>\n",
       "    <tr>\n",
       "      <th>4</th>\n",
       "      <td>Azerbaijan</td>\n",
       "      <td>0.01</td>\n",
       "      <td>0.00</td>\n",
       "      <td>0.17</td>\n",
       "      <td>0.09</td>\n",
       "      <td>0.18</td>\n",
       "      <td>0.18</td>\n",
       "      <td>0.05</td>\n",
       "      <td>False</td>\n",
       "      <td>True</td>\n",
       "      <td>False</td>\n",
       "      <td>False</td>\n",
       "      <td>False</td>\n",
       "    </tr>\n",
       "  </tbody>\n",
       "</table>\n",
       "</div>"
      ],
      "text/plain": [
       "         name  population  gdp  olympics_index  sports_index  olympicsIndex  \\\n",
       "0   Argentina        0.03 0.02            0.19          0.03           0.20   \n",
       "1     Armenia        0.00 0.00            0.19          0.09           0.20   \n",
       "2   Australia        0.02 0.06            0.30          0.06           0.31   \n",
       "3     Austria        0.01 0.02            0.11          0.13           0.12   \n",
       "4  Azerbaijan        0.01 0.00            0.17          0.09           0.18   \n",
       "\n",
       "   sportsIndex  total  continent_Asia  continent_Europe  \\\n",
       "0         0.13   0.02           False             False   \n",
       "1         0.19   0.03            True             False   \n",
       "2         0.15   0.40           False             False   \n",
       "3         0.22   0.05           False              True   \n",
       "4         0.18   0.05           False              True   \n",
       "\n",
       "   continent_North America  continent_Oceania  continent_South America  \n",
       "0                    False              False                     True  \n",
       "1                    False              False                    False  \n",
       "2                    False               True                    False  \n",
       "3                    False              False                    False  \n",
       "4                    False              False                    False  "
      ]
     },
     "execution_count": 26,
     "metadata": {},
     "output_type": "execute_result"
    }
   ],
   "source": [
    "df.head()"
   ]
  },
  {
   "cell_type": "code",
   "execution_count": 27,
   "id": "ed8af483",
   "metadata": {
    "execution": {
     "iopub.execute_input": "2024-12-10T08:04:36.715601Z",
     "iopub.status.busy": "2024-12-10T08:04:36.715188Z",
     "iopub.status.idle": "2024-12-10T08:04:36.727444Z",
     "shell.execute_reply": "2024-12-10T08:04:36.726183Z"
    },
    "papermill": {
     "duration": 0.032742,
     "end_time": "2024-12-10T08:04:36.729332",
     "exception": false,
     "start_time": "2024-12-10T08:04:36.696590",
     "status": "completed"
    },
    "tags": []
   },
   "outputs": [
    {
     "name": "stdout",
     "output_type": "stream",
     "text": [
      "<class 'pandas.core.frame.DataFrame'>\n",
      "RangeIndex: 93 entries, 0 to 92\n",
      "Data columns (total 13 columns):\n",
      " #   Column                   Non-Null Count  Dtype  \n",
      "---  ------                   --------------  -----  \n",
      " 0   name                     93 non-null     object \n",
      " 1   population               93 non-null     float64\n",
      " 2   gdp                      93 non-null     float64\n",
      " 3   olympics_index           93 non-null     float64\n",
      " 4   sports_index             93 non-null     float64\n",
      " 5   olympicsIndex            93 non-null     float64\n",
      " 6   sportsIndex              93 non-null     float64\n",
      " 7   total                    93 non-null     float64\n",
      " 8   continent_Asia           93 non-null     bool   \n",
      " 9   continent_Europe         93 non-null     bool   \n",
      " 10  continent_North America  93 non-null     bool   \n",
      " 11  continent_Oceania        93 non-null     bool   \n",
      " 12  continent_South America  93 non-null     bool   \n",
      "dtypes: bool(5), float64(7), object(1)\n",
      "memory usage: 6.4+ KB\n"
     ]
    }
   ],
   "source": [
    "df.info()"
   ]
  },
  {
   "cell_type": "markdown",
   "id": "0a973584",
   "metadata": {
    "papermill": {
     "duration": 0.017255,
     "end_time": "2024-12-10T08:04:36.764692",
     "exception": false,
     "start_time": "2024-12-10T08:04:36.747437",
     "status": "completed"
    },
    "tags": []
   },
   "source": [
    "#model-training-and-evaluation"
   ]
  },
  {
   "cell_type": "code",
   "execution_count": 28,
   "id": "863bcd32",
   "metadata": {
    "execution": {
     "iopub.execute_input": "2024-12-10T08:04:36.801545Z",
     "iopub.status.busy": "2024-12-10T08:04:36.801138Z",
     "iopub.status.idle": "2024-12-10T08:04:36.808113Z",
     "shell.execute_reply": "2024-12-10T08:04:36.807038Z"
    },
    "papermill": {
     "duration": 0.027902,
     "end_time": "2024-12-10T08:04:36.810289",
     "exception": false,
     "start_time": "2024-12-10T08:04:36.782387",
     "status": "completed"
    },
    "tags": []
   },
   "outputs": [],
   "source": [
    "X = df.drop(columns=['total', 'name']).values\n",
    "X = X.astype(float)\n",
    "y = df[['total']]"
   ]
  },
  {
   "cell_type": "code",
   "execution_count": 29,
   "id": "d139b88b",
   "metadata": {
    "execution": {
     "iopub.execute_input": "2024-12-10T08:04:36.848166Z",
     "iopub.status.busy": "2024-12-10T08:04:36.847174Z",
     "iopub.status.idle": "2024-12-10T08:04:36.855017Z",
     "shell.execute_reply": "2024-12-10T08:04:36.853906Z"
    },
    "papermill": {
     "duration": 0.028776,
     "end_time": "2024-12-10T08:04:36.857024",
     "exception": false,
     "start_time": "2024-12-10T08:04:36.828248",
     "status": "completed"
    },
    "tags": []
   },
   "outputs": [],
   "source": [
    "X_train, X_test, y_train, y_test = train_test_split(X, y, test_size = 0.2, random_state = 50)"
   ]
  },
  {
   "cell_type": "code",
   "execution_count": 30,
   "id": "0a3b17da",
   "metadata": {
    "execution": {
     "iopub.execute_input": "2024-12-10T08:04:36.894472Z",
     "iopub.status.busy": "2024-12-10T08:04:36.894061Z",
     "iopub.status.idle": "2024-12-10T08:04:36.922227Z",
     "shell.execute_reply": "2024-12-10T08:04:36.921065Z"
    },
    "papermill": {
     "duration": 0.049257,
     "end_time": "2024-12-10T08:04:36.924421",
     "exception": false,
     "start_time": "2024-12-10T08:04:36.875164",
     "status": "completed"
    },
    "tags": []
   },
   "outputs": [
    {
     "data": {
      "text/html": [
       "<style>#sk-container-id-1 {color: black;background-color: white;}#sk-container-id-1 pre{padding: 0;}#sk-container-id-1 div.sk-toggleable {background-color: white;}#sk-container-id-1 label.sk-toggleable__label {cursor: pointer;display: block;width: 100%;margin-bottom: 0;padding: 0.3em;box-sizing: border-box;text-align: center;}#sk-container-id-1 label.sk-toggleable__label-arrow:before {content: \"▸\";float: left;margin-right: 0.25em;color: #696969;}#sk-container-id-1 label.sk-toggleable__label-arrow:hover:before {color: black;}#sk-container-id-1 div.sk-estimator:hover label.sk-toggleable__label-arrow:before {color: black;}#sk-container-id-1 div.sk-toggleable__content {max-height: 0;max-width: 0;overflow: hidden;text-align: left;background-color: #f0f8ff;}#sk-container-id-1 div.sk-toggleable__content pre {margin: 0.2em;color: black;border-radius: 0.25em;background-color: #f0f8ff;}#sk-container-id-1 input.sk-toggleable__control:checked~div.sk-toggleable__content {max-height: 200px;max-width: 100%;overflow: auto;}#sk-container-id-1 input.sk-toggleable__control:checked~label.sk-toggleable__label-arrow:before {content: \"▾\";}#sk-container-id-1 div.sk-estimator input.sk-toggleable__control:checked~label.sk-toggleable__label {background-color: #d4ebff;}#sk-container-id-1 div.sk-label input.sk-toggleable__control:checked~label.sk-toggleable__label {background-color: #d4ebff;}#sk-container-id-1 input.sk-hidden--visually {border: 0;clip: rect(1px 1px 1px 1px);clip: rect(1px, 1px, 1px, 1px);height: 1px;margin: -1px;overflow: hidden;padding: 0;position: absolute;width: 1px;}#sk-container-id-1 div.sk-estimator {font-family: monospace;background-color: #f0f8ff;border: 1px dotted black;border-radius: 0.25em;box-sizing: border-box;margin-bottom: 0.5em;}#sk-container-id-1 div.sk-estimator:hover {background-color: #d4ebff;}#sk-container-id-1 div.sk-parallel-item::after {content: \"\";width: 100%;border-bottom: 1px solid gray;flex-grow: 1;}#sk-container-id-1 div.sk-label:hover label.sk-toggleable__label {background-color: #d4ebff;}#sk-container-id-1 div.sk-serial::before {content: \"\";position: absolute;border-left: 1px solid gray;box-sizing: border-box;top: 0;bottom: 0;left: 50%;z-index: 0;}#sk-container-id-1 div.sk-serial {display: flex;flex-direction: column;align-items: center;background-color: white;padding-right: 0.2em;padding-left: 0.2em;position: relative;}#sk-container-id-1 div.sk-item {position: relative;z-index: 1;}#sk-container-id-1 div.sk-parallel {display: flex;align-items: stretch;justify-content: center;background-color: white;position: relative;}#sk-container-id-1 div.sk-item::before, #sk-container-id-1 div.sk-parallel-item::before {content: \"\";position: absolute;border-left: 1px solid gray;box-sizing: border-box;top: 0;bottom: 0;left: 50%;z-index: -1;}#sk-container-id-1 div.sk-parallel-item {display: flex;flex-direction: column;z-index: 1;position: relative;background-color: white;}#sk-container-id-1 div.sk-parallel-item:first-child::after {align-self: flex-end;width: 50%;}#sk-container-id-1 div.sk-parallel-item:last-child::after {align-self: flex-start;width: 50%;}#sk-container-id-1 div.sk-parallel-item:only-child::after {width: 0;}#sk-container-id-1 div.sk-dashed-wrapped {border: 1px dashed gray;margin: 0 0.4em 0.5em 0.4em;box-sizing: border-box;padding-bottom: 0.4em;background-color: white;}#sk-container-id-1 div.sk-label label {font-family: monospace;font-weight: bold;display: inline-block;line-height: 1.2em;}#sk-container-id-1 div.sk-label-container {text-align: center;}#sk-container-id-1 div.sk-container {/* jupyter's `normalize.less` sets `[hidden] { display: none; }` but bootstrap.min.css set `[hidden] { display: none !important; }` so we also need the `!important` here to be able to override the default hidden behavior on the sphinx rendered scikit-learn.org. See: https://github.com/scikit-learn/scikit-learn/issues/21755 */display: inline-block !important;position: relative;}#sk-container-id-1 div.sk-text-repr-fallback {display: none;}</style><div id=\"sk-container-id-1\" class=\"sk-top-container\"><div class=\"sk-text-repr-fallback\"><pre>RandomForestRegressor(n_estimators=10, random_state=42)</pre><b>In a Jupyter environment, please rerun this cell to show the HTML representation or trust the notebook. <br />On GitHub, the HTML representation is unable to render, please try loading this page with nbviewer.org.</b></div><div class=\"sk-container\" hidden><div class=\"sk-item\"><div class=\"sk-estimator sk-toggleable\"><input class=\"sk-toggleable__control sk-hidden--visually\" id=\"sk-estimator-id-1\" type=\"checkbox\" checked><label for=\"sk-estimator-id-1\" class=\"sk-toggleable__label sk-toggleable__label-arrow\">RandomForestRegressor</label><div class=\"sk-toggleable__content\"><pre>RandomForestRegressor(n_estimators=10, random_state=42)</pre></div></div></div></div></div>"
      ],
      "text/plain": [
       "RandomForestRegressor(n_estimators=10, random_state=42)"
      ]
     },
     "execution_count": 30,
     "metadata": {},
     "output_type": "execute_result"
    }
   ],
   "source": [
    "model_rf = RandomForestRegressor(n_estimators = 10, random_state = 42)\n",
    "model_rf.fit(X_train, y_train.values.ravel())"
   ]
  },
  {
   "cell_type": "code",
   "execution_count": 31,
   "id": "b84ff1ca",
   "metadata": {
    "execution": {
     "iopub.execute_input": "2024-12-10T08:04:36.963592Z",
     "iopub.status.busy": "2024-12-10T08:04:36.963161Z",
     "iopub.status.idle": "2024-12-10T08:04:36.972426Z",
     "shell.execute_reply": "2024-12-10T08:04:36.971336Z"
    },
    "papermill": {
     "duration": 0.030912,
     "end_time": "2024-12-10T08:04:36.974527",
     "exception": false,
     "start_time": "2024-12-10T08:04:36.943615",
     "status": "completed"
    },
    "tags": []
   },
   "outputs": [
    {
     "data": {
      "text/plain": [
       "array([0.01875   , 0.00982143, 0.03392857, 0.01785714, 0.02142857,\n",
       "       0.42946429, 0.01428571, 0.3875    , 0.02589286, 0.03660714,\n",
       "       0.04375   , 0.0625    , 0.13660714, 0.05446429, 0.06071429,\n",
       "       0.11071429, 0.03214286, 0.02142857, 0.03571429])"
      ]
     },
     "execution_count": 31,
     "metadata": {},
     "output_type": "execute_result"
    }
   ],
   "source": [
    "y_pred = model_rf.predict(X_test)\n",
    "y_pred"
   ]
  },
  {
   "cell_type": "code",
   "execution_count": 32,
   "id": "7256332b",
   "metadata": {
    "execution": {
     "iopub.execute_input": "2024-12-10T08:04:37.012954Z",
     "iopub.status.busy": "2024-12-10T08:04:37.012157Z",
     "iopub.status.idle": "2024-12-10T08:04:37.401853Z",
     "shell.execute_reply": "2024-12-10T08:04:37.400707Z"
    },
    "papermill": {
     "duration": 0.412309,
     "end_time": "2024-12-10T08:04:37.405052",
     "exception": false,
     "start_time": "2024-12-10T08:04:36.992743",
     "status": "completed"
    },
    "tags": []
   },
   "outputs": [
    {
     "data": {
      "image/png": "[encoded data removed]",
      "text/plain": [
       "<Figure size 640x480 with 1 Axes>"
      ]
     },
     "metadata": {},
     "output_type": "display_data"
    }
   ],
   "source": [
    "plt.scatter(y_test, y_pred, color='blue', alpha=0.6)\n",
    "plt.plot([y_test.min(), y_test.max()], [y_test.min(), y_test.max()], 'r--', lw=2) \n",
    "plt.title(\"Predicted vs Actual Values RandomForestRegressor\")\n",
    "plt.xlabel(\"Actual\")\n",
    "plt.ylabel(\"Predicted\")\n",
    "plt.show()"
   ]
  },
  {
   "cell_type": "code",
   "execution_count": 33,
   "id": "83689137",
   "metadata": {
    "execution": {
     "iopub.execute_input": "2024-12-10T08:04:37.445993Z",
     "iopub.status.busy": "2024-12-10T08:04:37.445579Z",
     "iopub.status.idle": "2024-12-10T08:04:37.824515Z",
     "shell.execute_reply": "2024-12-10T08:04:37.823470Z"
    },
    "papermill": {
     "duration": 0.402062,
     "end_time": "2024-12-10T08:04:37.826841",
     "exception": false,
     "start_time": "2024-12-10T08:04:37.424779",
     "status": "completed"
    },
    "tags": []
   },
   "outputs": [
    {
     "data": {
      "image/png": "[encoded data removed]",
      "text/plain": [
       "<Figure size 640x480 with 1 Axes>"
      ]
     },
     "metadata": {},
     "output_type": "display_data"
    }
   ],
   "source": [
    "plt.scatter(X_test[:, 0], y_test, color='red', label='Actual') \n",
    "plt.scatter(X_test[:, 0], y_pred, color='blue', label='Predicted', alpha=0.6)\n",
    "plt.title(\"Predictions vs Feature (GDP)\")\n",
    "plt.xlabel(\"GDP\")\n",
    "plt.ylabel(\"Total\")\n",
    "plt.legend()\n",
    "plt.show()"
   ]
  },
  {
   "cell_type": "code",
   "execution_count": 34,
   "id": "2e142fdc",
   "metadata": {
    "execution": {
     "iopub.execute_input": "2024-12-10T08:04:37.867557Z",
     "iopub.status.busy": "2024-12-10T08:04:37.867139Z",
     "iopub.status.idle": "2024-12-10T08:04:38.260832Z",
     "shell.execute_reply": "2024-12-10T08:04:38.259545Z"
    },
    "papermill": {
     "duration": 0.416635,
     "end_time": "2024-12-10T08:04:38.263123",
     "exception": false,
     "start_time": "2024-12-10T08:04:37.846488",
     "status": "completed"
    },
    "tags": []
   },
   "outputs": [
    {
     "data": {
      "image/png": "[encoded data removed]",
      "text/plain": [
       "<Figure size 640x480 with 1 Axes>"
      ]
     },
     "metadata": {},
     "output_type": "display_data"
    }
   ],
   "source": [
    "plt.scatter(X_test[:, 1], y_test, color='red', label='Actual')  \n",
    "plt.scatter(X_test[:, 1], y_pred, color='blue', label='Predicted', alpha=0.6)\n",
    "plt.title(\"Predictions vs Feature (population)\")\n",
    "plt.xlabel(\"population\")\n",
    "plt.ylabel(\"Total\")\n",
    "plt.legend()\n",
    "plt.show()"
   ]
  },
  {
   "cell_type": "code",
   "execution_count": 35,
   "id": "f134255d",
   "metadata": {
    "execution": {
     "iopub.execute_input": "2024-12-10T08:04:38.313589Z",
     "iopub.status.busy": "2024-12-10T08:04:38.313140Z",
     "iopub.status.idle": "2024-12-10T08:04:38.721641Z",
     "shell.execute_reply": "2024-12-10T08:04:38.720528Z"
    },
    "papermill": {
     "duration": 0.43445,
     "end_time": "2024-12-10T08:04:38.724209",
     "exception": false,
     "start_time": "2024-12-10T08:04:38.289759",
     "status": "completed"
    },
    "tags": []
   },
   "outputs": [
    {
     "data": {
      "image/png": "[encoded data removed]",
      "text/plain": [
       "<Figure size 640x480 with 1 Axes>"
      ]
     },
     "metadata": {},
     "output_type": "display_data"
    }
   ],
   "source": [
    "plt.scatter(X_test[:, 2], y_test, color='red', label='Actual')  \n",
    "plt.scatter(X_test[:, 2], y_pred, color='blue', label='Predicted', alpha=0.6)\n",
    "plt.title(\"Predictions vs Feature (sports_index)\")\n",
    "plt.xlabel(\"sports_index\")\n",
    "plt.ylabel(\"Total\")\n",
    "plt.legend()\n",
    "plt.show()"
   ]
  },
  {
   "cell_type": "code",
   "execution_count": 36,
   "id": "af765e65",
   "metadata": {
    "execution": {
     "iopub.execute_input": "2024-12-10T08:04:38.769793Z",
     "iopub.status.busy": "2024-12-10T08:04:38.769418Z",
     "iopub.status.idle": "2024-12-10T08:04:39.067383Z",
     "shell.execute_reply": "2024-12-10T08:04:39.066339Z"
    },
    "papermill": {
     "duration": 0.324088,
     "end_time": "2024-12-10T08:04:39.069840",
     "exception": false,
     "start_time": "2024-12-10T08:04:38.745752",
     "status": "completed"
    },
    "tags": []
   },
   "outputs": [
    {
     "data": {
      "image/png": "[encoded data removed]",
      "text/plain": [
       "<Figure size 640x480 with 1 Axes>"
      ]
     },
     "metadata": {},
     "output_type": "display_data"
    }
   ],
   "source": [
    "plt.scatter(X_test[:, 3], y_test, color='red', label='Actual')  \n",
    "plt.scatter(X_test[:, 3], y_pred, color='blue', label='Predicted', alpha=0.6)\n",
    "plt.title(\"Predictions vs Feature (olympics_index)\")\n",
    "plt.xlabel(\"olympics_index\")\n",
    "plt.ylabel(\"Total\")\n",
    "plt.legend()\n",
    "plt.show()"
   ]
  },
  {
   "cell_type": "code",
   "execution_count": 37,
   "id": "9df8ce4c",
   "metadata": {
    "execution": {
     "iopub.execute_input": "2024-12-10T08:04:39.116398Z",
     "iopub.status.busy": "2024-12-10T08:04:39.115669Z",
     "iopub.status.idle": "2024-12-10T08:04:39.125208Z",
     "shell.execute_reply": "2024-12-10T08:04:39.124121Z"
    },
    "papermill": {
     "duration": 0.035315,
     "end_time": "2024-12-10T08:04:39.127273",
     "exception": false,
     "start_time": "2024-12-10T08:04:39.091958",
     "status": "completed"
    },
    "tags": []
   },
   "outputs": [
    {
     "name": "stdout",
     "output_type": "stream",
     "text": [
      "Root Mean Squared Error with RandomForestRegressor(RMSE): 0.08782642044905202\n",
      "R² Score: 0.7637049965499045\n"
     ]
    }
   ],
   "source": [
    "rmse_rf = mean_squared_error(y_test, y_pred, squared=False)  \n",
    "\n",
    "r2_rf = r2_score(y_test, y_pred)\n",
    "\n",
    "print(f\"Root Mean Squared Error with RandomForestRegressor(RMSE): {rmse_rf}\")\n",
    "print(f\"R² Score: {r2_rf}\")"
   ]
  },
  {
   "cell_type": "code",
   "execution_count": 38,
   "id": "e3a23d61",
   "metadata": {
    "execution": {
     "iopub.execute_input": "2024-12-10T08:04:39.173965Z",
     "iopub.status.busy": "2024-12-10T08:04:39.173541Z",
     "iopub.status.idle": "2024-12-10T08:04:39.201415Z",
     "shell.execute_reply": "2024-12-10T08:04:39.200314Z"
    },
    "papermill": {
     "duration": 0.053424,
     "end_time": "2024-12-10T08:04:39.203718",
     "exception": false,
     "start_time": "2024-12-10T08:04:39.150294",
     "status": "completed"
    },
    "tags": []
   },
   "outputs": [
    {
     "data": {
      "text/html": [
       "<style>#sk-container-id-2 {color: black;background-color: white;}#sk-container-id-2 pre{padding: 0;}#sk-container-id-2 div.sk-toggleable {background-color: white;}#sk-container-id-2 label.sk-toggleable__label {cursor: pointer;display: block;width: 100%;margin-bottom: 0;padding: 0.3em;box-sizing: border-box;text-align: center;}#sk-container-id-2 label.sk-toggleable__label-arrow:before {content: \"▸\";float: left;margin-right: 0.25em;color: #696969;}#sk-container-id-2 label.sk-toggleable__label-arrow:hover:before {color: black;}#sk-container-id-2 div.sk-estimator:hover label.sk-toggleable__label-arrow:before {color: black;}#sk-container-id-2 div.sk-toggleable__content {max-height: 0;max-width: 0;overflow: hidden;text-align: left;background-color: #f0f8ff;}#sk-container-id-2 div.sk-toggleable__content pre {margin: 0.2em;color: black;border-radius: 0.25em;background-color: #f0f8ff;}#sk-container-id-2 input.sk-toggleable__control:checked~div.sk-toggleable__content {max-height: 200px;max-width: 100%;overflow: auto;}#sk-container-id-2 input.sk-toggleable__control:checked~label.sk-toggleable__label-arrow:before {content: \"▾\";}#sk-container-id-2 div.sk-estimator input.sk-toggleable__control:checked~label.sk-toggleable__label {background-color: #d4ebff;}#sk-container-id-2 div.sk-label input.sk-toggleable__control:checked~label.sk-toggleable__label {background-color: #d4ebff;}#sk-container-id-2 input.sk-hidden--visually {border: 0;clip: rect(1px 1px 1px 1px);clip: rect(1px, 1px, 1px, 1px);height: 1px;margin: -1px;overflow: hidden;padding: 0;position: absolute;width: 1px;}#sk-container-id-2 div.sk-estimator {font-family: monospace;background-color: #f0f8ff;border: 1px dotted black;border-radius: 0.25em;box-sizing: border-box;margin-bottom: 0.5em;}#sk-container-id-2 div.sk-estimator:hover {background-color: #d4ebff;}#sk-container-id-2 div.sk-parallel-item::after {content: \"\";width: 100%;border-bottom: 1px solid gray;flex-grow: 1;}#sk-container-id-2 div.sk-label:hover label.sk-toggleable__label {background-color: #d4ebff;}#sk-container-id-2 div.sk-serial::before {content: \"\";position: absolute;border-left: 1px solid gray;box-sizing: border-box;top: 0;bottom: 0;left: 50%;z-index: 0;}#sk-container-id-2 div.sk-serial {display: flex;flex-direction: column;align-items: center;background-color: white;padding-right: 0.2em;padding-left: 0.2em;position: relative;}#sk-container-id-2 div.sk-item {position: relative;z-index: 1;}#sk-container-id-2 div.sk-parallel {display: flex;align-items: stretch;justify-content: center;background-color: white;position: relative;}#sk-container-id-2 div.sk-item::before, #sk-container-id-2 div.sk-parallel-item::before {content: \"\";position: absolute;border-left: 1px solid gray;box-sizing: border-box;top: 0;bottom: 0;left: 50%;z-index: -1;}#sk-container-id-2 div.sk-parallel-item {display: flex;flex-direction: column;z-index: 1;position: relative;background-color: white;}#sk-container-id-2 div.sk-parallel-item:first-child::after {align-self: flex-end;width: 50%;}#sk-container-id-2 div.sk-parallel-item:last-child::after {align-self: flex-start;width: 50%;}#sk-container-id-2 div.sk-parallel-item:only-child::after {width: 0;}#sk-container-id-2 div.sk-dashed-wrapped {border: 1px dashed gray;margin: 0 0.4em 0.5em 0.4em;box-sizing: border-box;padding-bottom: 0.4em;background-color: white;}#sk-container-id-2 div.sk-label label {font-family: monospace;font-weight: bold;display: inline-block;line-height: 1.2em;}#sk-container-id-2 div.sk-label-container {text-align: center;}#sk-container-id-2 div.sk-container {/* jupyter's `normalize.less` sets `[hidden] { display: none; }` but bootstrap.min.css set `[hidden] { display: none !important; }` so we also need the `!important` here to be able to override the default hidden behavior on the sphinx rendered scikit-learn.org. See: https://github.com/scikit-learn/scikit-learn/issues/21755 */display: inline-block !important;position: relative;}#sk-container-id-2 div.sk-text-repr-fallback {display: none;}</style><div id=\"sk-container-id-2\" class=\"sk-top-container\"><div class=\"sk-text-repr-fallback\"><pre>LinearRegression()</pre><b>In a Jupyter environment, please rerun this cell to show the HTML representation or trust the notebook. <br />On GitHub, the HTML representation is unable to render, please try loading this page with nbviewer.org.</b></div><div class=\"sk-container\" hidden><div class=\"sk-item\"><div class=\"sk-estimator sk-toggleable\"><input class=\"sk-toggleable__control sk-hidden--visually\" id=\"sk-estimator-id-2\" type=\"checkbox\" checked><label for=\"sk-estimator-id-2\" class=\"sk-toggleable__label sk-toggleable__label-arrow\">LinearRegression</label><div class=\"sk-toggleable__content\"><pre>LinearRegression()</pre></div></div></div></div></div>"
      ],
      "text/plain": [
       "LinearRegression()"
      ]
     },
     "execution_count": 38,
     "metadata": {},
     "output_type": "execute_result"
    }
   ],
   "source": [
    "model_lr = LinearRegression()\n",
    "model_lr.fit(X_train, y_train)"
   ]
  },
  {
   "cell_type": "code",
   "execution_count": 39,
   "id": "1b133be7",
   "metadata": {
    "execution": {
     "iopub.execute_input": "2024-12-10T08:04:39.250840Z",
     "iopub.status.busy": "2024-12-10T08:04:39.249965Z",
     "iopub.status.idle": "2024-12-10T08:04:39.257294Z",
     "shell.execute_reply": "2024-12-10T08:04:39.256220Z"
    },
    "papermill": {
     "duration": 0.033367,
     "end_time": "2024-12-10T08:04:39.259345",
     "exception": false,
     "start_time": "2024-12-10T08:04:39.225978",
     "status": "completed"
    },
    "tags": []
   },
   "outputs": [
    {
     "data": {
      "text/plain": [
       "array([[-0.01163237],\n",
       "       [ 0.00816771],\n",
       "       [ 0.08487082],\n",
       "       [ 0.01037651],\n",
       "       [ 0.0057885 ],\n",
       "       [ 0.78542764],\n",
       "       [ 0.02877242],\n",
       "       [ 0.17724892],\n",
       "       [ 0.05543511],\n",
       "       [ 0.05576665],\n",
       "       [ 0.01578901],\n",
       "       [ 0.06569233],\n",
       "       [ 0.10192105],\n",
       "       [ 0.00086187],\n",
       "       [ 0.07930642],\n",
       "       [ 0.02086313],\n",
       "       [ 0.03176914],\n",
       "       [ 0.00612585],\n",
       "       [ 0.0155867 ]])"
      ]
     },
     "execution_count": 39,
     "metadata": {},
     "output_type": "execute_result"
    }
   ],
   "source": [
    "y_pred = model_lr.predict(X_test)\n",
    "y_pred"
   ]
  },
  {
   "cell_type": "code",
   "execution_count": 40,
   "id": "325e80ce",
   "metadata": {
    "execution": {
     "iopub.execute_input": "2024-12-10T08:04:39.306512Z",
     "iopub.status.busy": "2024-12-10T08:04:39.306117Z",
     "iopub.status.idle": "2024-12-10T08:04:39.602305Z",
     "shell.execute_reply": "2024-12-10T08:04:39.601222Z"
    },
    "papermill": {
     "duration": 0.322726,
     "end_time": "2024-12-10T08:04:39.604448",
     "exception": false,
     "start_time": "2024-12-10T08:04:39.281722",
     "status": "completed"
    },
    "tags": []
   },
   "outputs": [
    {
     "data": {
      "image/png": "[encoded data removed]",
      "text/plain": [
       "<Figure size 640x480 with 1 Axes>"
      ]
     },
     "metadata": {},
     "output_type": "display_data"
    }
   ],
   "source": [
    "plt.scatter(y_test, y_pred, color='blue', alpha=0.6)\n",
    "plt.plot([y_test.min(), y_test.max()], [y_test.min(), y_test.max()], 'r--', lw=2)  \n",
    "plt.title(\"Predicted vs Actual Values LinearRegression\")\n",
    "plt.xlabel(\"Actual\")\n",
    "plt.ylabel(\"Predicted\")\n",
    "plt.show()"
   ]
  },
  {
   "cell_type": "code",
   "execution_count": 41,
   "id": "7f600cfb",
   "metadata": {
    "execution": {
     "iopub.execute_input": "2024-12-10T08:04:39.652689Z",
     "iopub.status.busy": "2024-12-10T08:04:39.652204Z",
     "iopub.status.idle": "2024-12-10T08:04:39.661822Z",
     "shell.execute_reply": "2024-12-10T08:04:39.660751Z"
    },
    "papermill": {
     "duration": 0.036354,
     "end_time": "2024-12-10T08:04:39.664010",
     "exception": false,
     "start_time": "2024-12-10T08:04:39.627656",
     "status": "completed"
    },
    "tags": []
   },
   "outputs": [
    {
     "name": "stdout",
     "output_type": "stream",
     "text": [
      "Root Mean Squared Error with LinearRegression (RMSE): 0.04418340208884161\n",
      "R² Score: 0.9401970676242175\n"
     ]
    }
   ],
   "source": [
    "rmse_lr = mean_squared_error(y_test, y_pred, squared=False)  \n",
    "\n",
    "r2_lr = r2_score(y_test, y_pred)\n",
    "\n",
    "print(f\"Root Mean Squared Error with LinearRegression (RMSE): {rmse_lr}\")\n",
    "print(f\"R² Score: {r2_lr}\")"
   ]
  },
  {
   "cell_type": "code",
   "execution_count": 42,
   "id": "cfdbc363",
   "metadata": {
    "execution": {
     "iopub.execute_input": "2024-12-10T08:04:39.712846Z",
     "iopub.status.busy": "2024-12-10T08:04:39.711890Z",
     "iopub.status.idle": "2024-12-10T08:04:39.723640Z",
     "shell.execute_reply": "2024-12-10T08:04:39.722524Z"
    },
    "papermill": {
     "duration": 0.038331,
     "end_time": "2024-12-10T08:04:39.725769",
     "exception": false,
     "start_time": "2024-12-10T08:04:39.687438",
     "status": "completed"
    },
    "tags": []
   },
   "outputs": [
    {
     "data": {
      "text/html": [
       "<style>#sk-container-id-3 {color: black;background-color: white;}#sk-container-id-3 pre{padding: 0;}#sk-container-id-3 div.sk-toggleable {background-color: white;}#sk-container-id-3 label.sk-toggleable__label {cursor: pointer;display: block;width: 100%;margin-bottom: 0;padding: 0.3em;box-sizing: border-box;text-align: center;}#sk-container-id-3 label.sk-toggleable__label-arrow:before {content: \"▸\";float: left;margin-right: 0.25em;color: #696969;}#sk-container-id-3 label.sk-toggleable__label-arrow:hover:before {color: black;}#sk-container-id-3 div.sk-estimator:hover label.sk-toggleable__label-arrow:before {color: black;}#sk-container-id-3 div.sk-toggleable__content {max-height: 0;max-width: 0;overflow: hidden;text-align: left;background-color: #f0f8ff;}#sk-container-id-3 div.sk-toggleable__content pre {margin: 0.2em;color: black;border-radius: 0.25em;background-color: #f0f8ff;}#sk-container-id-3 input.sk-toggleable__control:checked~div.sk-toggleable__content {max-height: 200px;max-width: 100%;overflow: auto;}#sk-container-id-3 input.sk-toggleable__control:checked~label.sk-toggleable__label-arrow:before {content: \"▾\";}#sk-container-id-3 div.sk-estimator input.sk-toggleable__control:checked~label.sk-toggleable__label {background-color: #d4ebff;}#sk-container-id-3 div.sk-label input.sk-toggleable__control:checked~label.sk-toggleable__label {background-color: #d4ebff;}#sk-container-id-3 input.sk-hidden--visually {border: 0;clip: rect(1px 1px 1px 1px);clip: rect(1px, 1px, 1px, 1px);height: 1px;margin: -1px;overflow: hidden;padding: 0;position: absolute;width: 1px;}#sk-container-id-3 div.sk-estimator {font-family: monospace;background-color: #f0f8ff;border: 1px dotted black;border-radius: 0.25em;box-sizing: border-box;margin-bottom: 0.5em;}#sk-container-id-3 div.sk-estimator:hover {background-color: #d4ebff;}#sk-container-id-3 div.sk-parallel-item::after {content: \"\";width: 100%;border-bottom: 1px solid gray;flex-grow: 1;}#sk-container-id-3 div.sk-label:hover label.sk-toggleable__label {background-color: #d4ebff;}#sk-container-id-3 div.sk-serial::before {content: \"\";position: absolute;border-left: 1px solid gray;box-sizing: border-box;top: 0;bottom: 0;left: 50%;z-index: 0;}#sk-container-id-3 div.sk-serial {display: flex;flex-direction: column;align-items: center;background-color: white;padding-right: 0.2em;padding-left: 0.2em;position: relative;}#sk-container-id-3 div.sk-item {position: relative;z-index: 1;}#sk-container-id-3 div.sk-parallel {display: flex;align-items: stretch;justify-content: center;background-color: white;position: relative;}#sk-container-id-3 div.sk-item::before, #sk-container-id-3 div.sk-parallel-item::before {content: \"\";position: absolute;border-left: 1px solid gray;box-sizing: border-box;top: 0;bottom: 0;left: 50%;z-index: -1;}#sk-container-id-3 div.sk-parallel-item {display: flex;flex-direction: column;z-index: 1;position: relative;background-color: white;}#sk-container-id-3 div.sk-parallel-item:first-child::after {align-self: flex-end;width: 50%;}#sk-container-id-3 div.sk-parallel-item:last-child::after {align-self: flex-start;width: 50%;}#sk-container-id-3 div.sk-parallel-item:only-child::after {width: 0;}#sk-container-id-3 div.sk-dashed-wrapped {border: 1px dashed gray;margin: 0 0.4em 0.5em 0.4em;box-sizing: border-box;padding-bottom: 0.4em;background-color: white;}#sk-container-id-3 div.sk-label label {font-family: monospace;font-weight: bold;display: inline-block;line-height: 1.2em;}#sk-container-id-3 div.sk-label-container {text-align: center;}#sk-container-id-3 div.sk-container {/* jupyter's `normalize.less` sets `[hidden] { display: none; }` but bootstrap.min.css set `[hidden] { display: none !important; }` so we also need the `!important` here to be able to override the default hidden behavior on the sphinx rendered scikit-learn.org. See: https://github.com/scikit-learn/scikit-learn/issues/21755 */display: inline-block !important;position: relative;}#sk-container-id-3 div.sk-text-repr-fallback {display: none;}</style><div id=\"sk-container-id-3\" class=\"sk-top-container\"><div class=\"sk-text-repr-fallback\"><pre>DecisionTreeRegressor(random_state=42)</pre><b>In a Jupyter environment, please rerun this cell to show the HTML representation or trust the notebook. <br />On GitHub, the HTML representation is unable to render, please try loading this page with nbviewer.org.</b></div><div class=\"sk-container\" hidden><div class=\"sk-item\"><div class=\"sk-estimator sk-toggleable\"><input class=\"sk-toggleable__control sk-hidden--visually\" id=\"sk-estimator-id-3\" type=\"checkbox\" checked><label for=\"sk-estimator-id-3\" class=\"sk-toggleable__label sk-toggleable__label-arrow\">DecisionTreeRegressor</label><div class=\"sk-toggleable__content\"><pre>DecisionTreeRegressor(random_state=42)</pre></div></div></div></div></div>"
      ],
      "text/plain": [
       "DecisionTreeRegressor(random_state=42)"
      ]
     },
     "execution_count": 42,
     "metadata": {},
     "output_type": "execute_result"
    }
   ],
   "source": [
    "model_dt = DecisionTreeRegressor(random_state=42) \n",
    "model_dt.fit(X_train, y_train) "
   ]
  },
  {
   "cell_type": "code",
   "execution_count": 43,
   "id": "80e2e98e",
   "metadata": {
    "execution": {
     "iopub.execute_input": "2024-12-10T08:04:39.774330Z",
     "iopub.status.busy": "2024-12-10T08:04:39.773868Z",
     "iopub.status.idle": "2024-12-10T08:04:39.779362Z",
     "shell.execute_reply": "2024-12-10T08:04:39.778307Z"
    },
    "papermill": {
     "duration": 0.032493,
     "end_time": "2024-12-10T08:04:39.781533",
     "exception": false,
     "start_time": "2024-12-10T08:04:39.749040",
     "status": "completed"
    },
    "tags": []
   },
   "outputs": [],
   "source": [
    "y_pred = model_dt.predict(X_test)"
   ]
  },
  {
   "cell_type": "code",
   "execution_count": 44,
   "id": "2a286fd0",
   "metadata": {
    "execution": {
     "iopub.execute_input": "2024-12-10T08:04:39.832492Z",
     "iopub.status.busy": "2024-12-10T08:04:39.832057Z",
     "iopub.status.idle": "2024-12-10T08:04:40.114462Z",
     "shell.execute_reply": "2024-12-10T08:04:40.113309Z"
    },
    "papermill": {
     "duration": 0.309181,
     "end_time": "2024-12-10T08:04:40.116772",
     "exception": false,
     "start_time": "2024-12-10T08:04:39.807591",
     "status": "completed"
    },
    "tags": []
   },
   "outputs": [
    {
     "data": {
      "image/png": "[encoded data removed]",
      "text/plain": [
       "<Figure size 640x480 with 1 Axes>"
      ]
     },
     "metadata": {},
     "output_type": "display_data"
    }
   ],
   "source": [
    "plt.scatter(y_test, y_pred, color='blue', alpha=0.6)\n",
    "plt.plot([y_test.min(), y_test.max()], [y_test.min(), y_test.max()], 'r--', lw=2) \n",
    "plt.title(\"Predicted vs Actual Values DecisionTreeRegressor\")\n",
    "plt.xlabel(\"Actual\")\n",
    "plt.ylabel(\"Predicted\")\n",
    "plt.show()"
   ]
  },
  {
   "cell_type": "code",
   "execution_count": 45,
   "id": "88299958",
   "metadata": {
    "execution": {
     "iopub.execute_input": "2024-12-10T08:04:40.168174Z",
     "iopub.status.busy": "2024-12-10T08:04:40.167769Z",
     "iopub.status.idle": "2024-12-10T08:04:40.177570Z",
     "shell.execute_reply": "2024-12-10T08:04:40.176404Z"
    },
    "papermill": {
     "duration": 0.038652,
     "end_time": "2024-12-10T08:04:40.179705",
     "exception": false,
     "start_time": "2024-12-10T08:04:40.141053",
     "status": "completed"
    },
    "tags": []
   },
   "outputs": [
    {
     "name": "stdout",
     "output_type": "stream",
     "text": [
      "Root Mean Squared Error with DecisionTreeRegressor (RMSE): 0.08697672287591753\n",
      "R² Score: 0.7682550635223445\n"
     ]
    }
   ],
   "source": [
    "rmse_dt = mean_squared_error(y_test, y_pred, squared=False)\n",
    "r2_dt = r2_score(y_test, y_pred)\n",
    "\n",
    "print(f\"Root Mean Squared Error with DecisionTreeRegressor (RMSE): {rmse_dt}\")\n",
    "print(f\"R² Score: {r2_dt}\")"
   ]
  },
  {
   "cell_type": "markdown",
   "id": "9e754efb",
   "metadata": {
    "papermill": {
     "duration": 0.024244,
     "end_time": "2024-12-10T08:04:40.228338",
     "exception": false,
     "start_time": "2024-12-10T08:04:40.204094",
     "status": "completed"
    },
    "tags": []
   },
   "source": [
    "#neural-network-training-and-evaluation"
   ]
  },
  {
   "cell_type": "code",
   "execution_count": 46,
   "id": "92c202bf",
   "metadata": {
    "execution": {
     "iopub.execute_input": "2024-12-10T08:04:40.332517Z",
     "iopub.status.busy": "2024-12-10T08:04:40.331691Z",
     "iopub.status.idle": "2024-12-10T08:04:40.337753Z",
     "shell.execute_reply": "2024-12-10T08:04:40.336720Z"
    },
    "papermill": {
     "duration": 0.035104,
     "end_time": "2024-12-10T08:04:40.339743",
     "exception": false,
     "start_time": "2024-12-10T08:04:40.304639",
     "status": "completed"
    },
    "tags": []
   },
   "outputs": [],
   "source": [
    "scaler = StandardScaler()\n",
    "X_train = scaler.fit_transform(X_train)\n",
    "X_test = scaler.transform(X_test)"
   ]
  },
  {
   "cell_type": "code",
   "execution_count": 47,
   "id": "3923f514",
   "metadata": {
    "execution": {
     "iopub.execute_input": "2024-12-10T08:04:40.390122Z",
     "iopub.status.busy": "2024-12-10T08:04:40.389335Z",
     "iopub.status.idle": "2024-12-10T08:04:40.747365Z",
     "shell.execute_reply": "2024-12-10T08:04:40.746423Z"
    },
    "papermill": {
     "duration": 0.385789,
     "end_time": "2024-12-10T08:04:40.749661",
     "exception": false,
     "start_time": "2024-12-10T08:04:40.363872",
     "status": "completed"
    },
    "tags": []
   },
   "outputs": [],
   "source": [
    "model_nn = Sequential([\n",
    "    Input(shape=(X_train.shape[1],)),\n",
    "    Dense(256, activation='relu'),\n",
    "    Dropout(0.3),\n",
    "    Dense(128, activation='relu'),\n",
    "    Dropout(0.2),\n",
    "    Dense(64, activation='relu'),\n",
    "    Dense(1)\n",
    "])"
   ]
  },
  {
   "cell_type": "code",
   "execution_count": 48,
   "id": "49af87ed",
   "metadata": {
    "execution": {
     "iopub.execute_input": "2024-12-10T08:04:40.799921Z",
     "iopub.status.busy": "2024-12-10T08:04:40.799539Z",
     "iopub.status.idle": "2024-12-10T08:04:40.831311Z",
     "shell.execute_reply": "2024-12-10T08:04:40.830191Z"
    },
    "papermill": {
     "duration": 0.059545,
     "end_time": "2024-12-10T08:04:40.833375",
     "exception": false,
     "start_time": "2024-12-10T08:04:40.773830",
     "status": "completed"
    },
    "tags": []
   },
   "outputs": [
    {
     "data": {
      "text/html": [
       "<pre style=\"white-space:pre;overflow-x:auto;line-height:normal;font-family:Menlo,'DejaVu Sans Mono',consolas,'Courier New',monospace\"><span style=\"font-weight: bold\">Model: \"sequential\"</span>\n",
       "</pre>\n"
      ],
      "text/plain": [
       "\u001b[1mModel: \"sequential\"\u001b[0m\n"
      ]
     },
     "metadata": {},
     "output_type": "display_data"
    },
    {
     "data": {
      "text/html": [
       "<pre style=\"white-space:pre;overflow-x:auto;line-height:normal;font-family:Menlo,'DejaVu Sans Mono',consolas,'Courier New',monospace\">┏━━━━━━━━━━━━━━━━━━━━━━━━━━━━━━━━━┳━━━━━━━━━━━━━━━━━━━━━━━━┳━━━━━━━━━━━━━━━┓\n",
       "┃<span style=\"font-weight: bold\"> Layer (type)                    </span>┃<span style=\"font-weight: bold\"> Output Shape           </span>┃<span style=\"font-weight: bold\">       Param # </span>┃\n",
       "┡━━━━━━━━━━━━━━━━━━━━━━━━━━━━━━━━━╇━━━━━━━━━━━━━━━━━━━━━━━━╇━━━━━━━━━━━━━━━┩\n",
       "│ dense (<span style=\"color: #0087ff; text-decoration-color: #0087ff\">Dense</span>)                   │ (<span style=\"color: #00d7ff; text-decoration-color: #00d7ff\">None</span>, <span style=\"color: #00af00; text-decoration-color: #00af00\">256</span>)            │         <span style=\"color: #00af00; text-decoration-color: #00af00\">3,072</span> │\n",
       "├─────────────────────────────────┼────────────────────────┼───────────────┤\n",
       "│ dropout (<span style=\"color: #0087ff; text-decoration-color: #0087ff\">Dropout</span>)               │ (<span style=\"color: #00d7ff; text-decoration-color: #00d7ff\">None</span>, <span style=\"color: #00af00; text-decoration-color: #00af00\">256</span>)            │             <span style=\"color: #00af00; text-decoration-color: #00af00\">0</span> │\n",
       "├─────────────────────────────────┼────────────────────────┼───────────────┤\n",
       "│ dense_1 (<span style=\"color: #0087ff; text-decoration-color: #0087ff\">Dense</span>)                 │ (<span style=\"color: #00d7ff; text-decoration-color: #00d7ff\">None</span>, <span style=\"color: #00af00; text-decoration-color: #00af00\">128</span>)            │        <span style=\"color: #00af00; text-decoration-color: #00af00\">32,896</span> │\n",
       "├─────────────────────────────────┼────────────────────────┼───────────────┤\n",
       "│ dropout_1 (<span style=\"color: #0087ff; text-decoration-color: #0087ff\">Dropout</span>)             │ (<span style=\"color: #00d7ff; text-decoration-color: #00d7ff\">None</span>, <span style=\"color: #00af00; text-decoration-color: #00af00\">128</span>)            │             <span style=\"color: #00af00; text-decoration-color: #00af00\">0</span> │\n",
       "├─────────────────────────────────┼────────────────────────┼───────────────┤\n",
       "│ dense_2 (<span style=\"color: #0087ff; text-decoration-color: #0087ff\">Dense</span>)                 │ (<span style=\"color: #00d7ff; text-decoration-color: #00d7ff\">None</span>, <span style=\"color: #00af00; text-decoration-color: #00af00\">64</span>)             │         <span style=\"color: #00af00; text-decoration-color: #00af00\">8,256</span> │\n",
       "├─────────────────────────────────┼────────────────────────┼───────────────┤\n",
       "│ dense_3 (<span style=\"color: #0087ff; text-decoration-color: #0087ff\">Dense</span>)                 │ (<span style=\"color: #00d7ff; text-decoration-color: #00d7ff\">None</span>, <span style=\"color: #00af00; text-decoration-color: #00af00\">1</span>)              │            <span style=\"color: #00af00; text-decoration-color: #00af00\">65</span> │\n",
       "└─────────────────────────────────┴────────────────────────┴───────────────┘\n",
       "</pre>\n"
      ],
      "text/plain": [
       "┏━━━━━━━━━━━━━━━━━━━━━━━━━━━━━━━━━┳━━━━━━━━━━━━━━━━━━━━━━━━┳━━━━━━━━━━━━━━━┓\n",
       "┃\u001b[1m \u001b[0m\u001b[1mLayer (type)                   \u001b[0m\u001b[1m \u001b[0m┃\u001b[1m \u001b[0m\u001b[1mOutput Shape          \u001b[0m\u001b[1m \u001b[0m┃\u001b[1m \u001b[0m\u001b[1m      Param #\u001b[0m\u001b[1m \u001b[0m┃\n",
       "┡━━━━━━━━━━━━━━━━━━━━━━━━━━━━━━━━━╇━━━━━━━━━━━━━━━━━━━━━━━━╇━━━━━━━━━━━━━━━┩\n",
       "│ dense (\u001b[38;5;33mDense\u001b[0m)                   │ (\u001b[38;5;45mNone\u001b[0m, \u001b[38;5;34m256\u001b[0m)            │         \u001b[38;5;34m3,072\u001b[0m │\n",
       "├─────────────────────────────────┼────────────────────────┼───────────────┤\n",
       "│ dropout (\u001b[38;5;33mDropout\u001b[0m)               │ (\u001b[38;5;45mNone\u001b[0m, \u001b[38;5;34m256\u001b[0m)            │             \u001b[38;5;34m0\u001b[0m │\n",
       "├─────────────────────────────────┼────────────────────────┼───────────────┤\n",
       "│ dense_1 (\u001b[38;5;33mDense\u001b[0m)                 │ (\u001b[38;5;45mNone\u001b[0m, \u001b[38;5;34m128\u001b[0m)            │        \u001b[38;5;34m32,896\u001b[0m │\n",
       "├─────────────────────────────────┼────────────────────────┼───────────────┤\n",
       "│ dropout_1 (\u001b[38;5;33mDropout\u001b[0m)             │ (\u001b[38;5;45mNone\u001b[0m, \u001b[38;5;34m128\u001b[0m)            │             \u001b[38;5;34m0\u001b[0m │\n",
       "├─────────────────────────────────┼────────────────────────┼───────────────┤\n",
       "│ dense_2 (\u001b[38;5;33mDense\u001b[0m)                 │ (\u001b[38;5;45mNone\u001b[0m, \u001b[38;5;34m64\u001b[0m)             │         \u001b[38;5;34m8,256\u001b[0m │\n",
       "├─────────────────────────────────┼────────────────────────┼───────────────┤\n",
       "│ dense_3 (\u001b[38;5;33mDense\u001b[0m)                 │ (\u001b[38;5;45mNone\u001b[0m, \u001b[38;5;34m1\u001b[0m)              │            \u001b[38;5;34m65\u001b[0m │\n",
       "└─────────────────────────────────┴────────────────────────┴───────────────┘\n"
      ]
     },
     "metadata": {},
     "output_type": "display_data"
    },
    {
     "data": {
      "text/html": [
       "<pre style=\"white-space:pre;overflow-x:auto;line-height:normal;font-family:Menlo,'DejaVu Sans Mono',consolas,'Courier New',monospace\"><span style=\"font-weight: bold\"> Total params: </span><span style=\"color: #00af00; text-decoration-color: #00af00\">44,289</span> (173.00 KB)\n",
       "</pre>\n"
      ],
      "text/plain": [
       "\u001b[1m Total params: \u001b[0m\u001b[38;5;34m44,289\u001b[0m (173.00 KB)\n"
      ]
     },
     "metadata": {},
     "output_type": "display_data"
    },
    {
     "data": {
      "text/html": [
       "<pre style=\"white-space:pre;overflow-x:auto;line-height:normal;font-family:Menlo,'DejaVu Sans Mono',consolas,'Courier New',monospace\"><span style=\"font-weight: bold\"> Trainable params: </span><span style=\"color: #00af00; text-decoration-color: #00af00\">44,289</span> (173.00 KB)\n",
       "</pre>\n"
      ],
      "text/plain": [
       "\u001b[1m Trainable params: \u001b[0m\u001b[38;5;34m44,289\u001b[0m (173.00 KB)\n"
      ]
     },
     "metadata": {},
     "output_type": "display_data"
    },
    {
     "data": {
      "text/html": [
       "<pre style=\"white-space:pre;overflow-x:auto;line-height:normal;font-family:Menlo,'DejaVu Sans Mono',consolas,'Courier New',monospace\"><span style=\"font-weight: bold\"> Non-trainable params: </span><span style=\"color: #00af00; text-decoration-color: #00af00\">0</span> (0.00 B)\n",
       "</pre>\n"
      ],
      "text/plain": [
       "\u001b[1m Non-trainable params: \u001b[0m\u001b[38;5;34m0\u001b[0m (0.00 B)\n"
      ]
     },
     "metadata": {},
     "output_type": "display_data"
    }
   ],
   "source": [
    "model_nn.compile(optimizer=Adam(learning_rate=0.001), loss='mse', metrics=['mae'])\n",
    "\n",
    "model_nn.summary()"
   ]
  },
  {
   "cell_type": "code",
   "execution_count": 49,
   "id": "0c5ad9fd",
   "metadata": {
    "execution": {
     "iopub.execute_input": "2024-12-10T08:04:40.885061Z",
     "iopub.status.busy": "2024-12-10T08:04:40.884666Z",
     "iopub.status.idle": "2024-12-10T08:04:45.768710Z",
     "shell.execute_reply": "2024-12-10T08:04:45.767651Z"
    },
    "papermill": {
     "duration": 4.912417,
     "end_time": "2024-12-10T08:04:45.770802",
     "exception": false,
     "start_time": "2024-12-10T08:04:40.858385",
     "status": "completed"
    },
    "tags": []
   },
   "outputs": [
    {
     "name": "stdout",
     "output_type": "stream",
     "text": [
      "Epoch 1/50\n",
      "\u001b[1m2/2\u001b[0m \u001b[32m━━━━━━━━━━━━━━━━━━━━\u001b[0m\u001b[37m\u001b[0m \u001b[1m2s\u001b[0m 185ms/step - loss: 0.0585 - mae: 0.1680 - val_loss: 0.1310 - val_mae: 0.1981\n",
      "Epoch 2/50\n",
      "\u001b[1m2/2\u001b[0m \u001b[32m━━━━━━━━━━━━━━━━━━━━\u001b[0m\u001b[37m\u001b[0m \u001b[1m0s\u001b[0m 31ms/step - loss: 0.0243 - mae: 0.1104 - val_loss: 0.1052 - val_mae: 0.1813\n",
      "Epoch 3/50\n",
      "\u001b[1m2/2\u001b[0m \u001b[32m━━━━━━━━━━━━━━━━━━━━\u001b[0m\u001b[37m\u001b[0m \u001b[1m0s\u001b[0m 28ms/step - loss: 0.0274 - mae: 0.1167 - val_loss: 0.0644 - val_mae: 0.1255\n",
      "Epoch 4/50\n",
      "\u001b[1m2/2\u001b[0m \u001b[32m━━━━━━━━━━━━━━━━━━━━\u001b[0m\u001b[37m\u001b[0m \u001b[1m0s\u001b[0m 29ms/step - loss: 0.0183 - mae: 0.1046 - val_loss: 0.0549 - val_mae: 0.1094\n",
      "Epoch 5/50\n",
      "\u001b[1m2/2\u001b[0m \u001b[32m━━━━━━━━━━━━━━━━━━━━\u001b[0m\u001b[37m\u001b[0m \u001b[1m0s\u001b[0m 29ms/step - loss: 0.0345 - mae: 0.1272 - val_loss: 0.0552 - val_mae: 0.1142\n",
      "Epoch 6/50\n",
      "\u001b[1m2/2\u001b[0m \u001b[32m━━━━━━━━━━━━━━━━━━━━\u001b[0m\u001b[37m\u001b[0m \u001b[1m0s\u001b[0m 29ms/step - loss: 0.0150 - mae: 0.0974 - val_loss: 0.0625 - val_mae: 0.1257\n",
      "Epoch 7/50\n",
      "\u001b[1m2/2\u001b[0m \u001b[32m━━━━━━━━━━━━━━━━━━━━\u001b[0m\u001b[37m\u001b[0m \u001b[1m0s\u001b[0m 28ms/step - loss: 0.0209 - mae: 0.1093 - val_loss: 0.0718 - val_mae: 0.1406\n",
      "Epoch 8/50\n",
      "\u001b[1m2/2\u001b[0m \u001b[32m━━━━━━━━━━━━━━━━━━━━\u001b[0m\u001b[37m\u001b[0m \u001b[1m0s\u001b[0m 29ms/step - loss: 0.0199 - mae: 0.1034 - val_loss: 0.0702 - val_mae: 0.1401\n",
      "Epoch 9/50\n",
      "\u001b[1m2/2\u001b[0m \u001b[32m━━━━━━━━━━━━━━━━━━━━\u001b[0m\u001b[37m\u001b[0m \u001b[1m0s\u001b[0m 29ms/step - loss: 0.0209 - mae: 0.1040 - val_loss: 0.0578 - val_mae: 0.1251\n",
      "Epoch 10/50\n",
      "\u001b[1m2/2\u001b[0m \u001b[32m━━━━━━━━━━━━━━━━━━━━\u001b[0m\u001b[37m\u001b[0m \u001b[1m0s\u001b[0m 29ms/step - loss: 0.0118 - mae: 0.0819 - val_loss: 0.0426 - val_mae: 0.1036\n",
      "Epoch 11/50\n",
      "\u001b[1m2/2\u001b[0m \u001b[32m━━━━━━━━━━━━━━━━━━━━\u001b[0m\u001b[37m\u001b[0m \u001b[1m0s\u001b[0m 29ms/step - loss: 0.0127 - mae: 0.0844 - val_loss: 0.0325 - val_mae: 0.0903\n",
      "Epoch 12/50\n",
      "\u001b[1m2/2\u001b[0m \u001b[32m━━━━━━━━━━━━━━━━━━━━\u001b[0m\u001b[37m\u001b[0m \u001b[1m0s\u001b[0m 28ms/step - loss: 0.0141 - mae: 0.0863 - val_loss: 0.0259 - val_mae: 0.0940\n",
      "Epoch 13/50\n",
      "\u001b[1m2/2\u001b[0m \u001b[32m━━━━━━━━━━━━━━━━━━━━\u001b[0m\u001b[37m\u001b[0m \u001b[1m0s\u001b[0m 29ms/step - loss: 0.0160 - mae: 0.0938 - val_loss: 0.0218 - val_mae: 0.0903\n",
      "Epoch 14/50\n",
      "\u001b[1m2/2\u001b[0m \u001b[32m━━━━━━━━━━━━━━━━━━━━\u001b[0m\u001b[37m\u001b[0m \u001b[1m0s\u001b[0m 29ms/step - loss: 0.0135 - mae: 0.0870 - val_loss: 0.0217 - val_mae: 0.0779\n",
      "Epoch 15/50\n",
      "\u001b[1m2/2\u001b[0m \u001b[32m━━━━━━━━━━━━━━━━━━━━\u001b[0m\u001b[37m\u001b[0m \u001b[1m0s\u001b[0m 30ms/step - loss: 0.0168 - mae: 0.0990 - val_loss: 0.0271 - val_mae: 0.0841\n",
      "Epoch 16/50\n",
      "\u001b[1m2/2\u001b[0m \u001b[32m━━━━━━━━━━━━━━━━━━━━\u001b[0m\u001b[37m\u001b[0m \u001b[1m0s\u001b[0m 29ms/step - loss: 0.0149 - mae: 0.0839 - val_loss: 0.0340 - val_mae: 0.0968\n",
      "Epoch 17/50\n",
      "\u001b[1m2/2\u001b[0m \u001b[32m━━━━━━━━━━━━━━━━━━━━\u001b[0m\u001b[37m\u001b[0m \u001b[1m0s\u001b[0m 29ms/step - loss: 0.0108 - mae: 0.0729 - val_loss: 0.0388 - val_mae: 0.1025\n",
      "Epoch 18/50\n",
      "\u001b[1m2/2\u001b[0m \u001b[32m━━━━━━━━━━━━━━━━━━━━\u001b[0m\u001b[37m\u001b[0m \u001b[1m0s\u001b[0m 29ms/step - loss: 0.0194 - mae: 0.0893 - val_loss: 0.0383 - val_mae: 0.1019\n",
      "Epoch 19/50\n",
      "\u001b[1m2/2\u001b[0m \u001b[32m━━━━━━━━━━━━━━━━━━━━\u001b[0m\u001b[37m\u001b[0m \u001b[1m0s\u001b[0m 29ms/step - loss: 0.0096 - mae: 0.0752 - val_loss: 0.0350 - val_mae: 0.0987\n",
      "Epoch 20/50\n",
      "\u001b[1m2/2\u001b[0m \u001b[32m━━━━━━━━━━━━━━━━━━━━\u001b[0m\u001b[37m\u001b[0m \u001b[1m0s\u001b[0m 29ms/step - loss: 0.0113 - mae: 0.0766 - val_loss: 0.0355 - val_mae: 0.1001\n",
      "Epoch 21/50\n",
      "\u001b[1m2/2\u001b[0m \u001b[32m━━━━━━━━━━━━━━━━━━━━\u001b[0m\u001b[37m\u001b[0m \u001b[1m0s\u001b[0m 28ms/step - loss: 0.0111 - mae: 0.0734 - val_loss: 0.0358 - val_mae: 0.1023\n",
      "Epoch 22/50\n",
      "\u001b[1m2/2\u001b[0m \u001b[32m━━━━━━━━━━━━━━━━━━━━\u001b[0m\u001b[37m\u001b[0m \u001b[1m0s\u001b[0m 29ms/step - loss: 0.0151 - mae: 0.0836 - val_loss: 0.0335 - val_mae: 0.1003\n",
      "Epoch 23/50\n",
      "\u001b[1m2/2\u001b[0m \u001b[32m━━━━━━━━━━━━━━━━━━━━\u001b[0m\u001b[37m\u001b[0m \u001b[1m0s\u001b[0m 29ms/step - loss: 0.0091 - mae: 0.0719 - val_loss: 0.0293 - val_mae: 0.0951\n",
      "Epoch 24/50\n",
      "\u001b[1m2/2\u001b[0m \u001b[32m━━━━━━━━━━━━━━━━━━━━\u001b[0m\u001b[37m\u001b[0m \u001b[1m0s\u001b[0m 29ms/step - loss: 0.0078 - mae: 0.0682 - val_loss: 0.0265 - val_mae: 0.0905\n",
      "Epoch 25/50\n",
      "\u001b[1m2/2\u001b[0m \u001b[32m━━━━━━━━━━━━━━━━━━━━\u001b[0m\u001b[37m\u001b[0m \u001b[1m0s\u001b[0m 29ms/step - loss: 0.0059 - mae: 0.0630 - val_loss: 0.0249 - val_mae: 0.0859\n",
      "Epoch 26/50\n",
      "\u001b[1m2/2\u001b[0m \u001b[32m━━━━━━━━━━━━━━━━━━━━\u001b[0m\u001b[37m\u001b[0m \u001b[1m0s\u001b[0m 30ms/step - loss: 0.0101 - mae: 0.0742 - val_loss: 0.0236 - val_mae: 0.0827\n",
      "Epoch 27/50\n",
      "\u001b[1m2/2\u001b[0m \u001b[32m━━━━━━━━━━━━━━━━━━━━\u001b[0m\u001b[37m\u001b[0m \u001b[1m0s\u001b[0m 29ms/step - loss: 0.0090 - mae: 0.0666 - val_loss: 0.0219 - val_mae: 0.0802\n",
      "Epoch 28/50\n",
      "\u001b[1m2/2\u001b[0m \u001b[32m━━━━━━━━━━━━━━━━━━━━\u001b[0m\u001b[37m\u001b[0m \u001b[1m0s\u001b[0m 29ms/step - loss: 0.0089 - mae: 0.0707 - val_loss: 0.0198 - val_mae: 0.0761\n",
      "Epoch 29/50\n",
      "\u001b[1m2/2\u001b[0m \u001b[32m━━━━━━━━━━━━━━━━━━━━\u001b[0m\u001b[37m\u001b[0m \u001b[1m0s\u001b[0m 30ms/step - loss: 0.0099 - mae: 0.0696 - val_loss: 0.0175 - val_mae: 0.0729\n",
      "Epoch 30/50\n",
      "\u001b[1m2/2\u001b[0m \u001b[32m━━━━━━━━━━━━━━━━━━━━\u001b[0m\u001b[37m\u001b[0m \u001b[1m0s\u001b[0m 29ms/step - loss: 0.0069 - mae: 0.0624 - val_loss: 0.0158 - val_mae: 0.0720\n",
      "Epoch 31/50\n",
      "\u001b[1m2/2\u001b[0m \u001b[32m━━━━━━━━━━━━━━━━━━━━\u001b[0m\u001b[37m\u001b[0m \u001b[1m0s\u001b[0m 29ms/step - loss: 0.0080 - mae: 0.0665 - val_loss: 0.0149 - val_mae: 0.0731\n",
      "Epoch 32/50\n",
      "\u001b[1m2/2\u001b[0m \u001b[32m━━━━━━━━━━━━━━━━━━━━\u001b[0m\u001b[37m\u001b[0m \u001b[1m0s\u001b[0m 29ms/step - loss: 0.0054 - mae: 0.0584 - val_loss: 0.0142 - val_mae: 0.0736\n",
      "Epoch 33/50\n",
      "\u001b[1m2/2\u001b[0m \u001b[32m━━━━━━━━━━━━━━━━━━━━\u001b[0m\u001b[37m\u001b[0m \u001b[1m0s\u001b[0m 38ms/step - loss: 0.0072 - mae: 0.0679 - val_loss: 0.0140 - val_mae: 0.0720\n",
      "Epoch 34/50\n",
      "\u001b[1m2/2\u001b[0m \u001b[32m━━━━━━━━━━━━━━━━━━━━\u001b[0m\u001b[37m\u001b[0m \u001b[1m0s\u001b[0m 29ms/step - loss: 0.0049 - mae: 0.0519 - val_loss: 0.0141 - val_mae: 0.0687\n",
      "Epoch 35/50\n",
      "\u001b[1m2/2\u001b[0m \u001b[32m━━━━━━━━━━━━━━━━━━━━\u001b[0m\u001b[37m\u001b[0m \u001b[1m0s\u001b[0m 29ms/step - loss: 0.0064 - mae: 0.0615 - val_loss: 0.0146 - val_mae: 0.0649\n",
      "Epoch 36/50\n",
      "\u001b[1m2/2\u001b[0m \u001b[32m━━━━━━━━━━━━━━━━━━━━\u001b[0m\u001b[37m\u001b[0m \u001b[1m0s\u001b[0m 30ms/step - loss: 0.0085 - mae: 0.0672 - val_loss: 0.0155 - val_mae: 0.0649\n",
      "Epoch 37/50\n",
      "\u001b[1m2/2\u001b[0m \u001b[32m━━━━━━━━━━━━━━━━━━━━\u001b[0m\u001b[37m\u001b[0m \u001b[1m0s\u001b[0m 29ms/step - loss: 0.0078 - mae: 0.0607 - val_loss: 0.0160 - val_mae: 0.0644\n",
      "Epoch 38/50\n",
      "\u001b[1m2/2\u001b[0m \u001b[32m━━━━━━━━━━━━━━━━━━━━\u001b[0m\u001b[37m\u001b[0m \u001b[1m0s\u001b[0m 29ms/step - loss: 0.0052 - mae: 0.0513 - val_loss: 0.0169 - val_mae: 0.0687\n",
      "Epoch 39/50\n",
      "\u001b[1m2/2\u001b[0m \u001b[32m━━━━━━━━━━━━━━━━━━━━\u001b[0m\u001b[37m\u001b[0m \u001b[1m0s\u001b[0m 29ms/step - loss: 0.0085 - mae: 0.0659 - val_loss: 0.0170 - val_mae: 0.0732\n",
      "Epoch 40/50\n",
      "\u001b[1m2/2\u001b[0m \u001b[32m━━━━━━━━━━━━━━━━━━━━\u001b[0m\u001b[37m\u001b[0m \u001b[1m0s\u001b[0m 30ms/step - loss: 0.0057 - mae: 0.0568 - val_loss: 0.0168 - val_mae: 0.0786\n",
      "Epoch 41/50\n",
      "\u001b[1m2/2\u001b[0m \u001b[32m━━━━━━━━━━━━━━━━━━━━\u001b[0m\u001b[37m\u001b[0m \u001b[1m0s\u001b[0m 32ms/step - loss: 0.0051 - mae: 0.0539 - val_loss: 0.0168 - val_mae: 0.0821\n",
      "Epoch 42/50\n",
      "\u001b[1m2/2\u001b[0m \u001b[32m━━━━━━━━━━━━━━━━━━━━\u001b[0m\u001b[37m\u001b[0m \u001b[1m0s\u001b[0m 30ms/step - loss: 0.0066 - mae: 0.0618 - val_loss: 0.0168 - val_mae: 0.0828\n",
      "Epoch 43/50\n",
      "\u001b[1m2/2\u001b[0m \u001b[32m━━━━━━━━━━━━━━━━━━━━\u001b[0m\u001b[37m\u001b[0m \u001b[1m0s\u001b[0m 29ms/step - loss: 0.0071 - mae: 0.0663 - val_loss: 0.0157 - val_mae: 0.0801\n",
      "Epoch 44/50\n",
      "\u001b[1m2/2\u001b[0m \u001b[32m━━━━━━━━━━━━━━━━━━━━\u001b[0m\u001b[37m\u001b[0m \u001b[1m0s\u001b[0m 30ms/step - loss: 0.0047 - mae: 0.0539 - val_loss: 0.0149 - val_mae: 0.0775\n",
      "Epoch 45/50\n",
      "\u001b[1m2/2\u001b[0m \u001b[32m━━━━━━━━━━━━━━━━━━━━\u001b[0m\u001b[37m\u001b[0m \u001b[1m0s\u001b[0m 28ms/step - loss: 0.0079 - mae: 0.0640 - val_loss: 0.0157 - val_mae: 0.0789\n",
      "Epoch 46/50\n",
      "\u001b[1m2/2\u001b[0m \u001b[32m━━━━━━━━━━━━━━━━━━━━\u001b[0m\u001b[37m\u001b[0m \u001b[1m0s\u001b[0m 29ms/step - loss: 0.0066 - mae: 0.0612 - val_loss: 0.0167 - val_mae: 0.0809\n",
      "Epoch 47/50\n",
      "\u001b[1m2/2\u001b[0m \u001b[32m━━━━━━━━━━━━━━━━━━━━\u001b[0m\u001b[37m\u001b[0m \u001b[1m0s\u001b[0m 28ms/step - loss: 0.0059 - mae: 0.0534 - val_loss: 0.0183 - val_mae: 0.0852\n",
      "Epoch 48/50\n",
      "\u001b[1m2/2\u001b[0m \u001b[32m━━━━━━━━━━━━━━━━━━━━\u001b[0m\u001b[37m\u001b[0m \u001b[1m0s\u001b[0m 29ms/step - loss: 0.0052 - mae: 0.0540 - val_loss: 0.0199 - val_mae: 0.0885\n",
      "Epoch 49/50\n",
      "\u001b[1m2/2\u001b[0m \u001b[32m━━━━━━━━━━━━━━━━━━━━\u001b[0m\u001b[37m\u001b[0m \u001b[1m0s\u001b[0m 29ms/step - loss: 0.0067 - mae: 0.0606 - val_loss: 0.0217 - val_mae: 0.0914\n",
      "Epoch 50/50\n",
      "\u001b[1m2/2\u001b[0m \u001b[32m━━━━━━━━━━━━━━━━━━━━\u001b[0m\u001b[37m\u001b[0m \u001b[1m0s\u001b[0m 30ms/step - loss: 0.0053 - mae: 0.0540 - val_loss: 0.0237 - val_mae: 0.0924\n"
     ]
    },
    {
     "data": {
      "image/png": "[encoded data removed]",
      "text/plain": [
       "<Figure size 640x480 with 1 Axes>"
      ]
     },
     "metadata": {},
     "output_type": "display_data"
    }
   ],
   "source": [
    "history = model_nn.fit(X_train, y_train, epochs=50, batch_size=32, validation_split=0.2, verbose=1)\n",
    "\n",
    "\n",
    "plt.plot(history.history['loss'], label='Train Loss')\n",
    "plt.plot(history.history['val_loss'], label='Validation Loss')\n",
    "plt.legend()\n",
    "plt.title('Training History')\n",
    "plt.xlabel('Epochs')\n",
    "plt.ylabel('Loss')\n",
    "plt.show()"
   ]
  },
  {
   "cell_type": "code",
   "execution_count": 50,
   "id": "6d164c3c",
   "metadata": {
    "execution": {
     "iopub.execute_input": "2024-12-10T08:04:45.839368Z",
     "iopub.status.busy": "2024-12-10T08:04:45.838939Z",
     "iopub.status.idle": "2024-12-10T08:04:45.957406Z",
     "shell.execute_reply": "2024-12-10T08:04:45.956158Z"
    },
    "papermill": {
     "duration": 0.155041,
     "end_time": "2024-12-10T08:04:45.959449",
     "exception": false,
     "start_time": "2024-12-10T08:04:45.804408",
     "status": "completed"
    },
    "tags": []
   },
   "outputs": [
    {
     "name": "stdout",
     "output_type": "stream",
     "text": [
      "\u001b[1m1/1\u001b[0m \u001b[32m━━━━━━━━━━━━━━━━━━━━\u001b[0m\u001b[37m\u001b[0m \u001b[1m0s\u001b[0m 60ms/step\n",
      "Root Mean Squared Error (RMSE): 0.08818052228510254\n",
      "R² Score: 0.7617957493988996\n"
     ]
    }
   ],
   "source": [
    "y_pred = model_nn.predict(X_test)\n",
    "\n",
    "rmse_nn = mean_squared_error(y_test, y_pred, squared=False)\n",
    "r2_nn = r2_score(y_test, y_pred)\n",
    "\n",
    "print(f\"Root Mean Squared Error (RMSE): {rmse_nn}\")\n",
    "print(f\"R² Score: {r2_nn}\")"
   ]
  },
  {
   "cell_type": "code",
   "execution_count": 51,
   "id": "76f9c2c2",
   "metadata": {
    "execution": {
     "iopub.execute_input": "2024-12-10T08:04:46.028473Z",
     "iopub.status.busy": "2024-12-10T08:04:46.028037Z",
     "iopub.status.idle": "2024-12-10T08:04:46.036483Z",
     "shell.execute_reply": "2024-12-10T08:04:46.035429Z"
    },
    "papermill": {
     "duration": 0.045166,
     "end_time": "2024-12-10T08:04:46.038473",
     "exception": false,
     "start_time": "2024-12-10T08:04:45.993307",
     "status": "completed"
    },
    "tags": []
   },
   "outputs": [
    {
     "name": "stdout",
     "output_type": "stream",
     "text": [
      "                     Model  RMSE  R² Score\n",
      "0      Random Forest Model  0.09      0.76\n",
      "1  Linear Regression Model  0.04      0.94\n",
      "2      Decision Tree Model  0.09      0.77\n",
      "3     Neural Network Model  0.09      0.76\n"
     ]
    }
   ],
   "source": [
    "results = pd.DataFrame({\n",
    "    \"Model\": [\"Random Forest Model\", \"Linear Regression Model\", \"Decision Tree Model\", \"Neural Network Model\"],\n",
    "    \"RMSE\": [rmse_rf, rmse_lr, rmse_dt, rmse_nn],\n",
    "    \"R² Score\": [r2_rf, r2_lr, r2_dt, r2_nn]\n",
    "})\n",
    "\n",
    "print(results)"
   ]
  },
  {
   "cell_type": "markdown",
   "id": "327da0cb",
   "metadata": {
    "papermill": {
     "duration": 0.033091,
     "end_time": "2024-12-10T08:04:46.104983",
     "exception": false,
     "start_time": "2024-12-10T08:04:46.071892",
     "status": "completed"
    },
    "tags": []
   },
   "source": [
    "The Linear Regression Model was the best-performing model, with an RMSE of 0.04 and an r-squared score of 0.94. This dataset most likely wasn't large enough for the neural network to perform well. "
   ]
  },
  {
   "cell_type": "code",
   "execution_count": 52,
   "id": "45d127ef",
   "metadata": {
    "execution": {
     "iopub.execute_input": "2024-12-10T08:04:46.174033Z",
     "iopub.status.busy": "2024-12-10T08:04:46.173640Z",
     "iopub.status.idle": "2024-12-10T08:04:46.183854Z",
     "shell.execute_reply": "2024-12-10T08:04:46.182783Z"
    },
    "papermill": {
     "duration": 0.047433,
     "end_time": "2024-12-10T08:04:46.186294",
     "exception": false,
     "start_time": "2024-12-10T08:04:46.138861",
     "status": "completed"
    },
    "tags": []
   },
   "outputs": [],
   "source": [
    "random.seed(42)\n",
    "np.random.seed(42)\n",
    "tf.random.set_seed(42)"
   ]
  },
  {
   "cell_type": "code",
   "execution_count": 53,
   "id": "e86482e3",
   "metadata": {
    "execution": {
     "iopub.execute_input": "2024-12-10T08:04:46.255928Z",
     "iopub.status.busy": "2024-12-10T08:04:46.255568Z",
     "iopub.status.idle": "2024-12-10T08:04:46.323132Z",
     "shell.execute_reply": "2024-12-10T08:04:46.322164Z"
    },
    "papermill": {
     "duration": 0.106288,
     "end_time": "2024-12-10T08:04:46.326506",
     "exception": false,
     "start_time": "2024-12-10T08:04:46.220218",
     "status": "completed"
    },
    "tags": []
   },
   "outputs": [],
   "source": [
    "model_nn2 = Sequential([\n",
    "    Input(shape=(X_train.shape[1],)), \n",
    "    Dense(128, activation='relu'),\n",
    "    Dropout(0.3),  \n",
    "    Dense(64, activation='relu'),\n",
    "    Dropout(0.2), \n",
    "    Dense(32, activation='relu'),\n",
    "    Dense(1)  \n",
    "])"
   ]
  },
  {
   "cell_type": "markdown",
   "id": "4941f219",
   "metadata": {
    "papermill": {
     "duration": 0.033387,
     "end_time": "2024-12-10T08:04:46.394061",
     "exception": false,
     "start_time": "2024-12-10T08:04:46.360674",
     "status": "completed"
    },
    "tags": []
   },
   "source": [
    "In my second neural network model I used less neurons for a smaller model, the smaller model was better able to fit the data"
   ]
  },
  {
   "cell_type": "code",
   "execution_count": 54,
   "id": "c80e4fca",
   "metadata": {
    "execution": {
     "iopub.execute_input": "2024-12-10T08:04:46.464088Z",
     "iopub.status.busy": "2024-12-10T08:04:46.463728Z",
     "iopub.status.idle": "2024-12-10T08:04:46.494726Z",
     "shell.execute_reply": "2024-12-10T08:04:46.493668Z"
    },
    "papermill": {
     "duration": 0.068757,
     "end_time": "2024-12-10T08:04:46.496773",
     "exception": false,
     "start_time": "2024-12-10T08:04:46.428016",
     "status": "completed"
    },
    "tags": []
   },
   "outputs": [
    {
     "data": {
      "text/html": [
       "<pre style=\"white-space:pre;overflow-x:auto;line-height:normal;font-family:Menlo,'DejaVu Sans Mono',consolas,'Courier New',monospace\"><span style=\"font-weight: bold\">Model: \"sequential_1\"</span>\n",
       "</pre>\n"
      ],
      "text/plain": [
       "\u001b[1mModel: \"sequential_1\"\u001b[0m\n"
      ]
     },
     "metadata": {},
     "output_type": "display_data"
    },
    {
     "data": {
      "text/html": [
       "<pre style=\"white-space:pre;overflow-x:auto;line-height:normal;font-family:Menlo,'DejaVu Sans Mono',consolas,'Courier New',monospace\">┏━━━━━━━━━━━━━━━━━━━━━━━━━━━━━━━━━┳━━━━━━━━━━━━━━━━━━━━━━━━┳━━━━━━━━━━━━━━━┓\n",
       "┃<span style=\"font-weight: bold\"> Layer (type)                    </span>┃<span style=\"font-weight: bold\"> Output Shape           </span>┃<span style=\"font-weight: bold\">       Param # </span>┃\n",
       "┡━━━━━━━━━━━━━━━━━━━━━━━━━━━━━━━━━╇━━━━━━━━━━━━━━━━━━━━━━━━╇━━━━━━━━━━━━━━━┩\n",
       "│ dense_4 (<span style=\"color: #0087ff; text-decoration-color: #0087ff\">Dense</span>)                 │ (<span style=\"color: #00d7ff; text-decoration-color: #00d7ff\">None</span>, <span style=\"color: #00af00; text-decoration-color: #00af00\">128</span>)            │         <span style=\"color: #00af00; text-decoration-color: #00af00\">1,536</span> │\n",
       "├─────────────────────────────────┼────────────────────────┼───────────────┤\n",
       "│ dropout_2 (<span style=\"color: #0087ff; text-decoration-color: #0087ff\">Dropout</span>)             │ (<span style=\"color: #00d7ff; text-decoration-color: #00d7ff\">None</span>, <span style=\"color: #00af00; text-decoration-color: #00af00\">128</span>)            │             <span style=\"color: #00af00; text-decoration-color: #00af00\">0</span> │\n",
       "├─────────────────────────────────┼────────────────────────┼───────────────┤\n",
       "│ dense_5 (<span style=\"color: #0087ff; text-decoration-color: #0087ff\">Dense</span>)                 │ (<span style=\"color: #00d7ff; text-decoration-color: #00d7ff\">None</span>, <span style=\"color: #00af00; text-decoration-color: #00af00\">64</span>)             │         <span style=\"color: #00af00; text-decoration-color: #00af00\">8,256</span> │\n",
       "├─────────────────────────────────┼────────────────────────┼───────────────┤\n",
       "│ dropout_3 (<span style=\"color: #0087ff; text-decoration-color: #0087ff\">Dropout</span>)             │ (<span style=\"color: #00d7ff; text-decoration-color: #00d7ff\">None</span>, <span style=\"color: #00af00; text-decoration-color: #00af00\">64</span>)             │             <span style=\"color: #00af00; text-decoration-color: #00af00\">0</span> │\n",
       "├─────────────────────────────────┼────────────────────────┼───────────────┤\n",
       "│ dense_6 (<span style=\"color: #0087ff; text-decoration-color: #0087ff\">Dense</span>)                 │ (<span style=\"color: #00d7ff; text-decoration-color: #00d7ff\">None</span>, <span style=\"color: #00af00; text-decoration-color: #00af00\">32</span>)             │         <span style=\"color: #00af00; text-decoration-color: #00af00\">2,080</span> │\n",
       "├─────────────────────────────────┼────────────────────────┼───────────────┤\n",
       "│ dense_7 (<span style=\"color: #0087ff; text-decoration-color: #0087ff\">Dense</span>)                 │ (<span style=\"color: #00d7ff; text-decoration-color: #00d7ff\">None</span>, <span style=\"color: #00af00; text-decoration-color: #00af00\">1</span>)              │            <span style=\"color: #00af00; text-decoration-color: #00af00\">33</span> │\n",
       "└─────────────────────────────────┴────────────────────────┴───────────────┘\n",
       "</pre>\n"
      ],
      "text/plain": [
       "┏━━━━━━━━━━━━━━━━━━━━━━━━━━━━━━━━━┳━━━━━━━━━━━━━━━━━━━━━━━━┳━━━━━━━━━━━━━━━┓\n",
       "┃\u001b[1m \u001b[0m\u001b[1mLayer (type)                   \u001b[0m\u001b[1m \u001b[0m┃\u001b[1m \u001b[0m\u001b[1mOutput Shape          \u001b[0m\u001b[1m \u001b[0m┃\u001b[1m \u001b[0m\u001b[1m      Param #\u001b[0m\u001b[1m \u001b[0m┃\n",
       "┡━━━━━━━━━━━━━━━━━━━━━━━━━━━━━━━━━╇━━━━━━━━━━━━━━━━━━━━━━━━╇━━━━━━━━━━━━━━━┩\n",
       "│ dense_4 (\u001b[38;5;33mDense\u001b[0m)                 │ (\u001b[38;5;45mNone\u001b[0m, \u001b[38;5;34m128\u001b[0m)            │         \u001b[38;5;34m1,536\u001b[0m │\n",
       "├─────────────────────────────────┼────────────────────────┼───────────────┤\n",
       "│ dropout_2 (\u001b[38;5;33mDropout\u001b[0m)             │ (\u001b[38;5;45mNone\u001b[0m, \u001b[38;5;34m128\u001b[0m)            │             \u001b[38;5;34m0\u001b[0m │\n",
       "├─────────────────────────────────┼────────────────────────┼───────────────┤\n",
       "│ dense_5 (\u001b[38;5;33mDense\u001b[0m)                 │ (\u001b[38;5;45mNone\u001b[0m, \u001b[38;5;34m64\u001b[0m)             │         \u001b[38;5;34m8,256\u001b[0m │\n",
       "├─────────────────────────────────┼────────────────────────┼───────────────┤\n",
       "│ dropout_3 (\u001b[38;5;33mDropout\u001b[0m)             │ (\u001b[38;5;45mNone\u001b[0m, \u001b[38;5;34m64\u001b[0m)             │             \u001b[38;5;34m0\u001b[0m │\n",
       "├─────────────────────────────────┼────────────────────────┼───────────────┤\n",
       "│ dense_6 (\u001b[38;5;33mDense\u001b[0m)                 │ (\u001b[38;5;45mNone\u001b[0m, \u001b[38;5;34m32\u001b[0m)             │         \u001b[38;5;34m2,080\u001b[0m │\n",
       "├─────────────────────────────────┼────────────────────────┼───────────────┤\n",
       "│ dense_7 (\u001b[38;5;33mDense\u001b[0m)                 │ (\u001b[38;5;45mNone\u001b[0m, \u001b[38;5;34m1\u001b[0m)              │            \u001b[38;5;34m33\u001b[0m │\n",
       "└─────────────────────────────────┴────────────────────────┴───────────────┘\n"
      ]
     },
     "metadata": {},
     "output_type": "display_data"
    },
    {
     "data": {
      "text/html": [
       "<pre style=\"white-space:pre;overflow-x:auto;line-height:normal;font-family:Menlo,'DejaVu Sans Mono',consolas,'Courier New',monospace\"><span style=\"font-weight: bold\"> Total params: </span><span style=\"color: #00af00; text-decoration-color: #00af00\">11,905</span> (46.50 KB)\n",
       "</pre>\n"
      ],
      "text/plain": [
       "\u001b[1m Total params: \u001b[0m\u001b[38;5;34m11,905\u001b[0m (46.50 KB)\n"
      ]
     },
     "metadata": {},
     "output_type": "display_data"
    },
    {
     "data": {
      "text/html": [
       "<pre style=\"white-space:pre;overflow-x:auto;line-height:normal;font-family:Menlo,'DejaVu Sans Mono',consolas,'Courier New',monospace\"><span style=\"font-weight: bold\"> Trainable params: </span><span style=\"color: #00af00; text-decoration-color: #00af00\">11,905</span> (46.50 KB)\n",
       "</pre>\n"
      ],
      "text/plain": [
       "\u001b[1m Trainable params: \u001b[0m\u001b[38;5;34m11,905\u001b[0m (46.50 KB)\n"
      ]
     },
     "metadata": {},
     "output_type": "display_data"
    },
    {
     "data": {
      "text/html": [
       "<pre style=\"white-space:pre;overflow-x:auto;line-height:normal;font-family:Menlo,'DejaVu Sans Mono',consolas,'Courier New',monospace\"><span style=\"font-weight: bold\"> Non-trainable params: </span><span style=\"color: #00af00; text-decoration-color: #00af00\">0</span> (0.00 B)\n",
       "</pre>\n"
      ],
      "text/plain": [
       "\u001b[1m Non-trainable params: \u001b[0m\u001b[38;5;34m0\u001b[0m (0.00 B)\n"
      ]
     },
     "metadata": {},
     "output_type": "display_data"
    }
   ],
   "source": [
    "model_nn2.compile(optimizer=Adam(learning_rate=0.001), loss='mse', metrics=['mae'])\n",
    "\n",
    "model_nn2.summary()"
   ]
  },
  {
   "cell_type": "code",
   "execution_count": 55,
   "id": "70c85c4f",
   "metadata": {
    "execution": {
     "iopub.execute_input": "2024-12-10T08:04:46.566751Z",
     "iopub.status.busy": "2024-12-10T08:04:46.566357Z",
     "iopub.status.idle": "2024-12-10T08:04:51.212721Z",
     "shell.execute_reply": "2024-12-10T08:04:51.211631Z"
    },
    "papermill": {
     "duration": 4.684152,
     "end_time": "2024-12-10T08:04:51.215174",
     "exception": false,
     "start_time": "2024-12-10T08:04:46.531022",
     "status": "completed"
    },
    "tags": []
   },
   "outputs": [
    {
     "name": "stdout",
     "output_type": "stream",
     "text": [
      "Epoch 1/50\n",
      "\u001b[1m2/2\u001b[0m \u001b[32m━━━━━━━━━━━━━━━━━━━━\u001b[0m\u001b[37m\u001b[0m \u001b[1m2s\u001b[0m 184ms/step - loss: 0.2780 - mae: 0.3847 - val_loss: 0.0560 - val_mae: 0.1607\n",
      "Epoch 2/50\n",
      "\u001b[1m2/2\u001b[0m \u001b[32m━━━━━━━━━━━━━━━━━━━━\u001b[0m\u001b[37m\u001b[0m \u001b[1m0s\u001b[0m 29ms/step - loss: 0.1292 - mae: 0.2501 - val_loss: 0.0923 - val_mae: 0.2020\n",
      "Epoch 3/50\n",
      "\u001b[1m2/2\u001b[0m \u001b[32m━━━━━━━━━━━━━━━━━━━━\u001b[0m\u001b[37m\u001b[0m \u001b[1m0s\u001b[0m 28ms/step - loss: 0.0747 - mae: 0.1926 - val_loss: 0.1577 - val_mae: 0.2416\n",
      "Epoch 4/50\n",
      "\u001b[1m2/2\u001b[0m \u001b[32m━━━━━━━━━━━━━━━━━━━━\u001b[0m\u001b[37m\u001b[0m \u001b[1m0s\u001b[0m 29ms/step - loss: 0.0574 - mae: 0.1618 - val_loss: 0.2126 - val_mae: 0.2651\n",
      "Epoch 5/50\n",
      "\u001b[1m2/2\u001b[0m \u001b[32m━━━━━━━━━━━━━━━━━━━━\u001b[0m\u001b[37m\u001b[0m \u001b[1m0s\u001b[0m 28ms/step - loss: 0.0533 - mae: 0.1615 - val_loss: 0.2461 - val_mae: 0.2769\n",
      "Epoch 6/50\n",
      "\u001b[1m2/2\u001b[0m \u001b[32m━━━━━━━━━━━━━━━━━━━━\u001b[0m\u001b[37m\u001b[0m \u001b[1m0s\u001b[0m 29ms/step - loss: 0.0551 - mae: 0.1678 - val_loss: 0.2454 - val_mae: 0.2682\n",
      "Epoch 7/50\n",
      "\u001b[1m2/2\u001b[0m \u001b[32m━━━━━━━━━━━━━━━━━━━━\u001b[0m\u001b[37m\u001b[0m \u001b[1m0s\u001b[0m 29ms/step - loss: 0.0461 - mae: 0.1527 - val_loss: 0.2321 - val_mae: 0.2523\n",
      "Epoch 8/50\n",
      "\u001b[1m2/2\u001b[0m \u001b[32m━━━━━━━━━━━━━━━━━━━━\u001b[0m\u001b[37m\u001b[0m \u001b[1m0s\u001b[0m 28ms/step - loss: 0.0472 - mae: 0.1527 - val_loss: 0.2122 - val_mae: 0.2339\n",
      "Epoch 9/50\n",
      "\u001b[1m2/2\u001b[0m \u001b[32m━━━━━━━━━━━━━━━━━━━━\u001b[0m\u001b[37m\u001b[0m \u001b[1m0s\u001b[0m 28ms/step - loss: 0.0337 - mae: 0.1455 - val_loss: 0.1884 - val_mae: 0.2112\n",
      "Epoch 10/50\n",
      "\u001b[1m2/2\u001b[0m \u001b[32m━━━━━━━━━━━━━━━━━━━━\u001b[0m\u001b[37m\u001b[0m \u001b[1m0s\u001b[0m 30ms/step - loss: 0.0375 - mae: 0.1390 - val_loss: 0.1655 - val_mae: 0.1896\n",
      "Epoch 11/50\n",
      "\u001b[1m2/2\u001b[0m \u001b[32m━━━━━━━━━━━━━━━━━━━━\u001b[0m\u001b[37m\u001b[0m \u001b[1m0s\u001b[0m 30ms/step - loss: 0.0364 - mae: 0.1281 - val_loss: 0.1440 - val_mae: 0.1713\n",
      "Epoch 12/50\n",
      "\u001b[1m2/2\u001b[0m \u001b[32m━━━━━━━━━━━━━━━━━━━━\u001b[0m\u001b[37m\u001b[0m \u001b[1m0s\u001b[0m 28ms/step - loss: 0.0293 - mae: 0.1234 - val_loss: 0.1246 - val_mae: 0.1584\n",
      "Epoch 13/50\n",
      "\u001b[1m2/2\u001b[0m \u001b[32m━━━━━━━━━━━━━━━━━━━━\u001b[0m\u001b[37m\u001b[0m \u001b[1m0s\u001b[0m 28ms/step - loss: 0.0501 - mae: 0.1397 - val_loss: 0.1109 - val_mae: 0.1521\n",
      "Epoch 14/50\n",
      "\u001b[1m2/2\u001b[0m \u001b[32m━━━━━━━━━━━━━━━━━━━━\u001b[0m\u001b[37m\u001b[0m \u001b[1m0s\u001b[0m 29ms/step - loss: 0.0246 - mae: 0.1117 - val_loss: 0.0996 - val_mae: 0.1480\n",
      "Epoch 15/50\n",
      "\u001b[1m2/2\u001b[0m \u001b[32m━━━━━━━━━━━━━━━━━━━━\u001b[0m\u001b[37m\u001b[0m \u001b[1m0s\u001b[0m 29ms/step - loss: 0.0195 - mae: 0.1125 - val_loss: 0.0902 - val_mae: 0.1432\n",
      "Epoch 16/50\n",
      "\u001b[1m2/2\u001b[0m \u001b[32m━━━━━━━━━━━━━━━━━━━━\u001b[0m\u001b[37m\u001b[0m \u001b[1m0s\u001b[0m 28ms/step - loss: 0.0309 - mae: 0.1270 - val_loss: 0.0834 - val_mae: 0.1391\n",
      "Epoch 17/50\n",
      "\u001b[1m2/2\u001b[0m \u001b[32m━━━━━━━━━━━━━━━━━━━━\u001b[0m\u001b[37m\u001b[0m \u001b[1m0s\u001b[0m 28ms/step - loss: 0.0210 - mae: 0.1113 - val_loss: 0.0792 - val_mae: 0.1363\n",
      "Epoch 18/50\n",
      "\u001b[1m2/2\u001b[0m \u001b[32m━━━━━━━━━━━━━━━━━━━━\u001b[0m\u001b[37m\u001b[0m \u001b[1m0s\u001b[0m 29ms/step - loss: 0.0143 - mae: 0.0902 - val_loss: 0.0774 - val_mae: 0.1341\n",
      "Epoch 19/50\n",
      "\u001b[1m2/2\u001b[0m \u001b[32m━━━━━━━━━━━━━━━━━━━━\u001b[0m\u001b[37m\u001b[0m \u001b[1m0s\u001b[0m 29ms/step - loss: 0.0182 - mae: 0.1078 - val_loss: 0.0759 - val_mae: 0.1317\n",
      "Epoch 20/50\n",
      "\u001b[1m2/2\u001b[0m \u001b[32m━━━━━━━━━━━━━━━━━━━━\u001b[0m\u001b[37m\u001b[0m \u001b[1m0s\u001b[0m 29ms/step - loss: 0.0177 - mae: 0.1011 - val_loss: 0.0743 - val_mae: 0.1291\n",
      "Epoch 21/50\n",
      "\u001b[1m2/2\u001b[0m \u001b[32m━━━━━━━━━━━━━━━━━━━━\u001b[0m\u001b[37m\u001b[0m \u001b[1m0s\u001b[0m 28ms/step - loss: 0.0231 - mae: 0.1159 - val_loss: 0.0725 - val_mae: 0.1271\n",
      "Epoch 22/50\n",
      "\u001b[1m2/2\u001b[0m \u001b[32m━━━━━━━━━━━━━━━━━━━━\u001b[0m\u001b[37m\u001b[0m \u001b[1m0s\u001b[0m 29ms/step - loss: 0.0116 - mae: 0.0821 - val_loss: 0.0701 - val_mae: 0.1254\n",
      "Epoch 23/50\n",
      "\u001b[1m2/2\u001b[0m \u001b[32m━━━━━━━━━━━━━━━━━━━━\u001b[0m\u001b[37m\u001b[0m \u001b[1m0s\u001b[0m 28ms/step - loss: 0.0250 - mae: 0.1114 - val_loss: 0.0683 - val_mae: 0.1244\n",
      "Epoch 24/50\n",
      "\u001b[1m2/2\u001b[0m \u001b[32m━━━━━━━━━━━━━━━━━━━━\u001b[0m\u001b[37m\u001b[0m \u001b[1m0s\u001b[0m 30ms/step - loss: 0.0120 - mae: 0.0883 - val_loss: 0.0682 - val_mae: 0.1240\n",
      "Epoch 25/50\n",
      "\u001b[1m2/2\u001b[0m \u001b[32m━━━━━━━━━━━━━━━━━━━━\u001b[0m\u001b[37m\u001b[0m \u001b[1m0s\u001b[0m 29ms/step - loss: 0.0146 - mae: 0.0855 - val_loss: 0.0690 - val_mae: 0.1249\n",
      "Epoch 26/50\n",
      "\u001b[1m2/2\u001b[0m \u001b[32m━━━━━━━━━━━━━━━━━━━━\u001b[0m\u001b[37m\u001b[0m \u001b[1m0s\u001b[0m 29ms/step - loss: 0.0148 - mae: 0.0819 - val_loss: 0.0694 - val_mae: 0.1272\n",
      "Epoch 27/50\n",
      "\u001b[1m2/2\u001b[0m \u001b[32m━━━━━━━━━━━━━━━━━━━━\u001b[0m\u001b[37m\u001b[0m \u001b[1m0s\u001b[0m 29ms/step - loss: 0.0180 - mae: 0.0920 - val_loss: 0.0696 - val_mae: 0.1283\n",
      "Epoch 28/50\n",
      "\u001b[1m2/2\u001b[0m \u001b[32m━━━━━━━━━━━━━━━━━━━━\u001b[0m\u001b[37m\u001b[0m \u001b[1m0s\u001b[0m 30ms/step - loss: 0.0154 - mae: 0.0899 - val_loss: 0.0694 - val_mae: 0.1286\n",
      "Epoch 29/50\n",
      "\u001b[1m2/2\u001b[0m \u001b[32m━━━━━━━━━━━━━━━━━━━━\u001b[0m\u001b[37m\u001b[0m \u001b[1m0s\u001b[0m 29ms/step - loss: 0.0145 - mae: 0.0860 - val_loss: 0.0696 - val_mae: 0.1290\n",
      "Epoch 30/50\n",
      "\u001b[1m2/2\u001b[0m \u001b[32m━━━━━━━━━━━━━━━━━━━━\u001b[0m\u001b[37m\u001b[0m \u001b[1m0s\u001b[0m 29ms/step - loss: 0.0171 - mae: 0.0891 - val_loss: 0.0701 - val_mae: 0.1292\n",
      "Epoch 31/50\n",
      "\u001b[1m2/2\u001b[0m \u001b[32m━━━━━━━━━━━━━━━━━━━━\u001b[0m\u001b[37m\u001b[0m \u001b[1m0s\u001b[0m 29ms/step - loss: 0.0181 - mae: 0.0899 - val_loss: 0.0708 - val_mae: 0.1298\n",
      "Epoch 32/50\n",
      "\u001b[1m2/2\u001b[0m \u001b[32m━━━━━━━━━━━━━━━━━━━━\u001b[0m\u001b[37m\u001b[0m \u001b[1m0s\u001b[0m 29ms/step - loss: 0.0157 - mae: 0.0799 - val_loss: 0.0709 - val_mae: 0.1297\n",
      "Epoch 33/50\n",
      "\u001b[1m2/2\u001b[0m \u001b[32m━━━━━━━━━━━━━━━━━━━━\u001b[0m\u001b[37m\u001b[0m \u001b[1m0s\u001b[0m 29ms/step - loss: 0.0139 - mae: 0.0824 - val_loss: 0.0692 - val_mae: 0.1281\n",
      "Epoch 34/50\n",
      "\u001b[1m2/2\u001b[0m \u001b[32m━━━━━━━━━━━━━━━━━━━━\u001b[0m\u001b[37m\u001b[0m \u001b[1m0s\u001b[0m 29ms/step - loss: 0.0126 - mae: 0.0755 - val_loss: 0.0670 - val_mae: 0.1262\n",
      "Epoch 35/50\n",
      "\u001b[1m2/2\u001b[0m \u001b[32m━━━━━━━━━━━━━━━━━━━━\u001b[0m\u001b[37m\u001b[0m \u001b[1m0s\u001b[0m 29ms/step - loss: 0.0131 - mae: 0.0714 - val_loss: 0.0643 - val_mae: 0.1243\n",
      "Epoch 36/50\n",
      "\u001b[1m2/2\u001b[0m \u001b[32m━━━━━━━━━━━━━━━━━━━━\u001b[0m\u001b[37m\u001b[0m \u001b[1m0s\u001b[0m 29ms/step - loss: 0.0225 - mae: 0.0983 - val_loss: 0.0618 - val_mae: 0.1219\n",
      "Epoch 37/50\n",
      "\u001b[1m2/2\u001b[0m \u001b[32m━━━━━━━━━━━━━━━━━━━━\u001b[0m\u001b[37m\u001b[0m \u001b[1m0s\u001b[0m 28ms/step - loss: 0.0164 - mae: 0.0848 - val_loss: 0.0595 - val_mae: 0.1199\n",
      "Epoch 38/50\n",
      "\u001b[1m2/2\u001b[0m \u001b[32m━━━━━━━━━━━━━━━━━━━━\u001b[0m\u001b[37m\u001b[0m \u001b[1m0s\u001b[0m 28ms/step - loss: 0.0186 - mae: 0.0916 - val_loss: 0.0582 - val_mae: 0.1188\n",
      "Epoch 39/50\n",
      "\u001b[1m2/2\u001b[0m \u001b[32m━━━━━━━━━━━━━━━━━━━━\u001b[0m\u001b[37m\u001b[0m \u001b[1m0s\u001b[0m 28ms/step - loss: 0.0162 - mae: 0.0906 - val_loss: 0.0570 - val_mae: 0.1180\n",
      "Epoch 40/50\n",
      "\u001b[1m2/2\u001b[0m \u001b[32m━━━━━━━━━━━━━━━━━━━━\u001b[0m\u001b[37m\u001b[0m \u001b[1m0s\u001b[0m 29ms/step - loss: 0.0259 - mae: 0.1016 - val_loss: 0.0566 - val_mae: 0.1170\n",
      "Epoch 41/50\n",
      "\u001b[1m2/2\u001b[0m \u001b[32m━━━━━━━━━━━━━━━━━━━━\u001b[0m\u001b[37m\u001b[0m \u001b[1m0s\u001b[0m 29ms/step - loss: 0.0141 - mae: 0.0836 - val_loss: 0.0554 - val_mae: 0.1151\n",
      "Epoch 42/50\n",
      "\u001b[1m2/2\u001b[0m \u001b[32m━━━━━━━━━━━━━━━━━━━━\u001b[0m\u001b[37m\u001b[0m \u001b[1m0s\u001b[0m 28ms/step - loss: 0.0129 - mae: 0.0771 - val_loss: 0.0537 - val_mae: 0.1132\n",
      "Epoch 43/50\n",
      "\u001b[1m2/2\u001b[0m \u001b[32m━━━━━━━━━━━━━━━━━━━━\u001b[0m\u001b[37m\u001b[0m \u001b[1m0s\u001b[0m 29ms/step - loss: 0.0110 - mae: 0.0796 - val_loss: 0.0511 - val_mae: 0.1104\n",
      "Epoch 44/50\n",
      "\u001b[1m2/2\u001b[0m \u001b[32m━━━━━━━━━━━━━━━━━━━━\u001b[0m\u001b[37m\u001b[0m \u001b[1m0s\u001b[0m 30ms/step - loss: 0.0152 - mae: 0.0834 - val_loss: 0.0478 - val_mae: 0.1072\n",
      "Epoch 45/50\n",
      "\u001b[1m2/2\u001b[0m \u001b[32m━━━━━━━━━━━━━━━━━━━━\u001b[0m\u001b[37m\u001b[0m \u001b[1m0s\u001b[0m 30ms/step - loss: 0.0112 - mae: 0.0760 - val_loss: 0.0445 - val_mae: 0.1048\n",
      "Epoch 46/50\n",
      "\u001b[1m2/2\u001b[0m \u001b[32m━━━━━━━━━━━━━━━━━━━━\u001b[0m\u001b[37m\u001b[0m \u001b[1m0s\u001b[0m 29ms/step - loss: 0.0175 - mae: 0.0961 - val_loss: 0.0420 - val_mae: 0.1025\n",
      "Epoch 47/50\n",
      "\u001b[1m2/2\u001b[0m \u001b[32m━━━━━━━━━━━━━━━━━━━━\u001b[0m\u001b[37m\u001b[0m \u001b[1m0s\u001b[0m 28ms/step - loss: 0.0083 - mae: 0.0707 - val_loss: 0.0404 - val_mae: 0.1007\n",
      "Epoch 48/50\n",
      "\u001b[1m2/2\u001b[0m \u001b[32m━━━━━━━━━━━━━━━━━━━━\u001b[0m\u001b[37m\u001b[0m \u001b[1m0s\u001b[0m 29ms/step - loss: 0.0170 - mae: 0.0959 - val_loss: 0.0399 - val_mae: 0.0999\n",
      "Epoch 49/50\n",
      "\u001b[1m2/2\u001b[0m \u001b[32m━━━━━━━━━━━━━━━━━━━━\u001b[0m\u001b[37m\u001b[0m \u001b[1m0s\u001b[0m 29ms/step - loss: 0.0177 - mae: 0.0936 - val_loss: 0.0401 - val_mae: 0.1003\n",
      "Epoch 50/50\n",
      "\u001b[1m2/2\u001b[0m \u001b[32m━━━━━━━━━━━━━━━━━━━━\u001b[0m\u001b[37m\u001b[0m \u001b[1m0s\u001b[0m 28ms/step - loss: 0.0110 - mae: 0.0813 - val_loss: 0.0396 - val_mae: 0.1003\n"
     ]
    },
    {
     "data": {
      "image/png": "[encoded data removed]",
      "text/plain": [
       "<Figure size 640x480 with 1 Axes>"
      ]
     },
     "metadata": {},
     "output_type": "display_data"
    }
   ],
   "source": [
    "history = model_nn2.fit(X_train, y_train, epochs=50, batch_size=32, validation_split=0.2, verbose=1)\n",
    "\n",
    "\n",
    "plt.plot(history.history['loss'], label='Train Loss')\n",
    "plt.plot(history.history['val_loss'], label='Validation Loss')\n",
    "plt.legend()\n",
    "plt.title('Training History')\n",
    "plt.xlabel('Epochs')\n",
    "plt.ylabel('Loss')\n",
    "plt.show()"
   ]
  },
  {
   "cell_type": "code",
   "execution_count": 56,
   "id": "2adc2cea",
   "metadata": {
    "execution": {
     "iopub.execute_input": "2024-12-10T08:04:51.311438Z",
     "iopub.status.busy": "2024-12-10T08:04:51.310724Z",
     "iopub.status.idle": "2024-12-10T08:04:51.429414Z",
     "shell.execute_reply": "2024-12-10T08:04:51.428324Z"
    },
    "papermill": {
     "duration": 0.169656,
     "end_time": "2024-12-10T08:04:51.431626",
     "exception": false,
     "start_time": "2024-12-10T08:04:51.261970",
     "status": "completed"
    },
    "tags": []
   },
   "outputs": [
    {
     "name": "stdout",
     "output_type": "stream",
     "text": [
      "\u001b[1m1/1\u001b[0m \u001b[32m━━━━━━━━━━━━━━━━━━━━\u001b[0m\u001b[37m\u001b[0m \u001b[1m0s\u001b[0m 59ms/step\n",
      "Root Mean Squared Error (RMSE): 0.06838119550724928\n",
      "R² Score: 0.8567556332208457\n"
     ]
    }
   ],
   "source": [
    "y_pred = model_nn2.predict(X_test)\n",
    "\n",
    "rmse_nn2 = mean_squared_error(y_test, y_pred, squared=False)\n",
    "r2_nn2 = r2_score(y_test, y_pred)\n",
    "\n",
    "print(f\"Root Mean Squared Error (RMSE): {rmse_nn2}\")\n",
    "print(f\"R² Score: {r2_nn2}\")"
   ]
  },
  {
   "cell_type": "code",
   "execution_count": 57,
   "id": "d90e5f96",
   "metadata": {
    "execution": {
     "iopub.execute_input": "2024-12-10T08:04:51.520875Z",
     "iopub.status.busy": "2024-12-10T08:04:51.520114Z",
     "iopub.status.idle": "2024-12-10T08:04:51.528121Z",
     "shell.execute_reply": "2024-12-10T08:04:51.527089Z"
    },
    "papermill": {
     "duration": 0.055022,
     "end_time": "2024-12-10T08:04:51.530227",
     "exception": false,
     "start_time": "2024-12-10T08:04:51.475205",
     "status": "completed"
    },
    "tags": []
   },
   "outputs": [
    {
     "name": "stdout",
     "output_type": "stream",
     "text": [
      "                    Model  RMSE  R² Score\n",
      "0    Neural Network Model  0.09      0.76\n",
      "1  Neural Network Model 2  0.07      0.86\n"
     ]
    }
   ],
   "source": [
    "results2 = pd.DataFrame({\n",
    "    \"Model\": [\"Neural Network Model\", \"Neural Network Model 2\"],\n",
    "    \"RMSE\": [rmse_nn, rmse_nn2],\n",
    "    \"R² Score\": [r2_nn, r2_nn2]\n",
    "})\n",
    "\n",
    "print(results2)"
   ]
  },
  {
   "cell_type": "code",
   "execution_count": 58,
   "id": "39b4bd5c",
   "metadata": {
    "execution": {
     "iopub.execute_input": "2024-12-10T08:04:51.619186Z",
     "iopub.status.busy": "2024-12-10T08:04:51.618044Z",
     "iopub.status.idle": "2024-12-10T08:04:51.626548Z",
     "shell.execute_reply": "2024-12-10T08:04:51.625482Z"
    },
    "papermill": {
     "duration": 0.055067,
     "end_time": "2024-12-10T08:04:51.628425",
     "exception": false,
     "start_time": "2024-12-10T08:04:51.573358",
     "status": "completed"
    },
    "tags": []
   },
   "outputs": [
    {
     "name": "stdout",
     "output_type": "stream",
     "text": [
      "                     Model  RMSE  R² Score\n",
      "0      Random Forest Model  0.09      0.76\n",
      "1  Linear Regression Model  0.04      0.94\n",
      "2      Decision Tree Model  0.09      0.77\n",
      "3     Neural Network Model  0.09      0.76\n",
      "4   Neural Network Model 2  0.07      0.86\n"
     ]
    }
   ],
   "source": [
    "results3 = pd.DataFrame({\n",
    "    \"Model\": [\"Random Forest Model\", \"Linear Regression Model\", \"Decision Tree Model\", \"Neural Network Model\", \"Neural Network Model 2\"],\n",
    "    \"RMSE\": [rmse_rf, rmse_lr, rmse_dt, rmse_nn, rmse_nn2],\n",
    "    \"R² Score\": [r2_rf, r2_lr, r2_dt, r2_nn, r2_nn2]\n",
    "})\n",
    "\n",
    "print(results3)"
   ]
  },
  {
   "cell_type": "code",
   "execution_count": 59,
   "id": "d4c42876",
   "metadata": {
    "execution": {
     "iopub.execute_input": "2024-12-10T08:04:51.716969Z",
     "iopub.status.busy": "2024-12-10T08:04:51.716195Z",
     "iopub.status.idle": "2024-12-10T08:04:51.730804Z",
     "shell.execute_reply": "2024-12-10T08:04:51.729761Z"
    },
    "papermill": {
     "duration": 0.061292,
     "end_time": "2024-12-10T08:04:51.732743",
     "exception": false,
     "start_time": "2024-12-10T08:04:51.671451",
     "status": "completed"
    },
    "tags": []
   },
   "outputs": [
    {
     "data": {
      "text/html": [
       "<div>\n",
       "<style scoped>\n",
       "    .dataframe tbody tr th:only-of-type {\n",
       "        vertical-align: middle;\n",
       "    }\n",
       "\n",
       "    .dataframe tbody tr th {\n",
       "        vertical-align: top;\n",
       "    }\n",
       "\n",
       "    .dataframe thead th {\n",
       "        text-align: right;\n",
       "    }\n",
       "</style>\n",
       "<table border=\"1\" class=\"dataframe\">\n",
       "  <thead>\n",
       "    <tr style=\"text-align: right;\">\n",
       "      <th></th>\n",
       "      <th>name</th>\n",
       "      <th>population</th>\n",
       "      <th>gdp</th>\n",
       "      <th>olympics_index</th>\n",
       "      <th>sports_index</th>\n",
       "      <th>olympicsIndex</th>\n",
       "      <th>sportsIndex</th>\n",
       "      <th>total</th>\n",
       "      <th>continent_Asia</th>\n",
       "      <th>continent_Europe</th>\n",
       "      <th>continent_North America</th>\n",
       "      <th>continent_Oceania</th>\n",
       "      <th>continent_South America</th>\n",
       "    </tr>\n",
       "  </thead>\n",
       "  <tbody>\n",
       "    <tr>\n",
       "      <th>0</th>\n",
       "      <td>Argentina</td>\n",
       "      <td>0.03</td>\n",
       "      <td>0.02</td>\n",
       "      <td>0.19</td>\n",
       "      <td>0.03</td>\n",
       "      <td>0.20</td>\n",
       "      <td>0.13</td>\n",
       "      <td>0.02</td>\n",
       "      <td>False</td>\n",
       "      <td>False</td>\n",
       "      <td>False</td>\n",
       "      <td>False</td>\n",
       "      <td>True</td>\n",
       "    </tr>\n",
       "    <tr>\n",
       "      <th>1</th>\n",
       "      <td>Armenia</td>\n",
       "      <td>0.00</td>\n",
       "      <td>0.00</td>\n",
       "      <td>0.19</td>\n",
       "      <td>0.09</td>\n",
       "      <td>0.20</td>\n",
       "      <td>0.19</td>\n",
       "      <td>0.03</td>\n",
       "      <td>True</td>\n",
       "      <td>False</td>\n",
       "      <td>False</td>\n",
       "      <td>False</td>\n",
       "      <td>False</td>\n",
       "    </tr>\n",
       "    <tr>\n",
       "      <th>2</th>\n",
       "      <td>Australia</td>\n",
       "      <td>0.02</td>\n",
       "      <td>0.06</td>\n",
       "      <td>0.30</td>\n",
       "      <td>0.06</td>\n",
       "      <td>0.31</td>\n",
       "      <td>0.15</td>\n",
       "      <td>0.40</td>\n",
       "      <td>False</td>\n",
       "      <td>False</td>\n",
       "      <td>False</td>\n",
       "      <td>True</td>\n",
       "      <td>False</td>\n",
       "    </tr>\n",
       "    <tr>\n",
       "      <th>3</th>\n",
       "      <td>Austria</td>\n",
       "      <td>0.01</td>\n",
       "      <td>0.02</td>\n",
       "      <td>0.11</td>\n",
       "      <td>0.13</td>\n",
       "      <td>0.12</td>\n",
       "      <td>0.22</td>\n",
       "      <td>0.05</td>\n",
       "      <td>False</td>\n",
       "      <td>True</td>\n",
       "      <td>False</td>\n",
       "      <td>False</td>\n",
       "      <td>False</td>\n",
       "    </tr>\n",
       "    <tr>\n",
       "      <th>4</th>\n",
       "      <td>Azerbaijan</td>\n",
       "      <td>0.01</td>\n",
       "      <td>0.00</td>\n",
       "      <td>0.17</td>\n",
       "      <td>0.09</td>\n",
       "      <td>0.18</td>\n",
       "      <td>0.18</td>\n",
       "      <td>0.05</td>\n",
       "      <td>False</td>\n",
       "      <td>True</td>\n",
       "      <td>False</td>\n",
       "      <td>False</td>\n",
       "      <td>False</td>\n",
       "    </tr>\n",
       "  </tbody>\n",
       "</table>\n",
       "</div>"
      ],
      "text/plain": [
       "         name  population  gdp  olympics_index  sports_index  olympicsIndex  \\\n",
       "0   Argentina        0.03 0.02            0.19          0.03           0.20   \n",
       "1     Armenia        0.00 0.00            0.19          0.09           0.20   \n",
       "2   Australia        0.02 0.06            0.30          0.06           0.31   \n",
       "3     Austria        0.01 0.02            0.11          0.13           0.12   \n",
       "4  Azerbaijan        0.01 0.00            0.17          0.09           0.18   \n",
       "\n",
       "   sportsIndex  total  continent_Asia  continent_Europe  \\\n",
       "0         0.13   0.02           False             False   \n",
       "1         0.19   0.03            True             False   \n",
       "2         0.15   0.40           False             False   \n",
       "3         0.22   0.05           False              True   \n",
       "4         0.18   0.05           False              True   \n",
       "\n",
       "   continent_North America  continent_Oceania  continent_South America  \n",
       "0                    False              False                     True  \n",
       "1                    False              False                    False  \n",
       "2                    False               True                    False  \n",
       "3                    False              False                    False  \n",
       "4                    False              False                    False  "
      ]
     },
     "execution_count": 59,
     "metadata": {},
     "output_type": "execute_result"
    }
   ],
   "source": [
    "df.head()"
   ]
  },
  {
   "cell_type": "code",
   "execution_count": 60,
   "id": "f44c366c",
   "metadata": {
    "execution": {
     "iopub.execute_input": "2024-12-10T08:04:51.822525Z",
     "iopub.status.busy": "2024-12-10T08:04:51.822082Z",
     "iopub.status.idle": "2024-12-10T08:04:51.829103Z",
     "shell.execute_reply": "2024-12-10T08:04:51.828112Z"
    },
    "papermill": {
     "duration": 0.054622,
     "end_time": "2024-12-10T08:04:51.831190",
     "exception": false,
     "start_time": "2024-12-10T08:04:51.776568",
     "status": "completed"
    },
    "tags": []
   },
   "outputs": [],
   "source": [
    "X = df[['population', 'gdp', 'olympics_index', 'olympicsIndex']]\n",
    "X = X.astype(float)\n",
    "y = df[['total']]"
   ]
  },
  {
   "cell_type": "code",
   "execution_count": 61,
   "id": "e7d80c55",
   "metadata": {
    "execution": {
     "iopub.execute_input": "2024-12-10T08:04:51.921903Z",
     "iopub.status.busy": "2024-12-10T08:04:51.921492Z",
     "iopub.status.idle": "2024-12-10T08:04:51.928901Z",
     "shell.execute_reply": "2024-12-10T08:04:51.927464Z"
    },
    "papermill": {
     "duration": 0.055911,
     "end_time": "2024-12-10T08:04:51.930976",
     "exception": false,
     "start_time": "2024-12-10T08:04:51.875065",
     "status": "completed"
    },
    "tags": []
   },
   "outputs": [],
   "source": [
    "X_train, X_test, y_train, y_test = train_test_split(X, y, test_size = 0.2, random_state = 50)"
   ]
  },
  {
   "cell_type": "code",
   "execution_count": 62,
   "id": "8ccf1773",
   "metadata": {
    "execution": {
     "iopub.execute_input": "2024-12-10T08:04:52.019156Z",
     "iopub.status.busy": "2024-12-10T08:04:52.018793Z",
     "iopub.status.idle": "2024-12-10T08:04:52.029853Z",
     "shell.execute_reply": "2024-12-10T08:04:52.028802Z"
    },
    "papermill": {
     "duration": 0.057758,
     "end_time": "2024-12-10T08:04:52.032055",
     "exception": false,
     "start_time": "2024-12-10T08:04:51.974297",
     "status": "completed"
    },
    "tags": []
   },
   "outputs": [
    {
     "data": {
      "text/html": [
       "<style>#sk-container-id-4 {color: black;background-color: white;}#sk-container-id-4 pre{padding: 0;}#sk-container-id-4 div.sk-toggleable {background-color: white;}#sk-container-id-4 label.sk-toggleable__label {cursor: pointer;display: block;width: 100%;margin-bottom: 0;padding: 0.3em;box-sizing: border-box;text-align: center;}#sk-container-id-4 label.sk-toggleable__label-arrow:before {content: \"▸\";float: left;margin-right: 0.25em;color: #696969;}#sk-container-id-4 label.sk-toggleable__label-arrow:hover:before {color: black;}#sk-container-id-4 div.sk-estimator:hover label.sk-toggleable__label-arrow:before {color: black;}#sk-container-id-4 div.sk-toggleable__content {max-height: 0;max-width: 0;overflow: hidden;text-align: left;background-color: #f0f8ff;}#sk-container-id-4 div.sk-toggleable__content pre {margin: 0.2em;color: black;border-radius: 0.25em;background-color: #f0f8ff;}#sk-container-id-4 input.sk-toggleable__control:checked~div.sk-toggleable__content {max-height: 200px;max-width: 100%;overflow: auto;}#sk-container-id-4 input.sk-toggleable__control:checked~label.sk-toggleable__label-arrow:before {content: \"▾\";}#sk-container-id-4 div.sk-estimator input.sk-toggleable__control:checked~label.sk-toggleable__label {background-color: #d4ebff;}#sk-container-id-4 div.sk-label input.sk-toggleable__control:checked~label.sk-toggleable__label {background-color: #d4ebff;}#sk-container-id-4 input.sk-hidden--visually {border: 0;clip: rect(1px 1px 1px 1px);clip: rect(1px, 1px, 1px, 1px);height: 1px;margin: -1px;overflow: hidden;padding: 0;position: absolute;width: 1px;}#sk-container-id-4 div.sk-estimator {font-family: monospace;background-color: #f0f8ff;border: 1px dotted black;border-radius: 0.25em;box-sizing: border-box;margin-bottom: 0.5em;}#sk-container-id-4 div.sk-estimator:hover {background-color: #d4ebff;}#sk-container-id-4 div.sk-parallel-item::after {content: \"\";width: 100%;border-bottom: 1px solid gray;flex-grow: 1;}#sk-container-id-4 div.sk-label:hover label.sk-toggleable__label {background-color: #d4ebff;}#sk-container-id-4 div.sk-serial::before {content: \"\";position: absolute;border-left: 1px solid gray;box-sizing: border-box;top: 0;bottom: 0;left: 50%;z-index: 0;}#sk-container-id-4 div.sk-serial {display: flex;flex-direction: column;align-items: center;background-color: white;padding-right: 0.2em;padding-left: 0.2em;position: relative;}#sk-container-id-4 div.sk-item {position: relative;z-index: 1;}#sk-container-id-4 div.sk-parallel {display: flex;align-items: stretch;justify-content: center;background-color: white;position: relative;}#sk-container-id-4 div.sk-item::before, #sk-container-id-4 div.sk-parallel-item::before {content: \"\";position: absolute;border-left: 1px solid gray;box-sizing: border-box;top: 0;bottom: 0;left: 50%;z-index: -1;}#sk-container-id-4 div.sk-parallel-item {display: flex;flex-direction: column;z-index: 1;position: relative;background-color: white;}#sk-container-id-4 div.sk-parallel-item:first-child::after {align-self: flex-end;width: 50%;}#sk-container-id-4 div.sk-parallel-item:last-child::after {align-self: flex-start;width: 50%;}#sk-container-id-4 div.sk-parallel-item:only-child::after {width: 0;}#sk-container-id-4 div.sk-dashed-wrapped {border: 1px dashed gray;margin: 0 0.4em 0.5em 0.4em;box-sizing: border-box;padding-bottom: 0.4em;background-color: white;}#sk-container-id-4 div.sk-label label {font-family: monospace;font-weight: bold;display: inline-block;line-height: 1.2em;}#sk-container-id-4 div.sk-label-container {text-align: center;}#sk-container-id-4 div.sk-container {/* jupyter's `normalize.less` sets `[hidden] { display: none; }` but bootstrap.min.css set `[hidden] { display: none !important; }` so we also need the `!important` here to be able to override the default hidden behavior on the sphinx rendered scikit-learn.org. See: https://github.com/scikit-learn/scikit-learn/issues/21755 */display: inline-block !important;position: relative;}#sk-container-id-4 div.sk-text-repr-fallback {display: none;}</style><div id=\"sk-container-id-4\" class=\"sk-top-container\"><div class=\"sk-text-repr-fallback\"><pre>LinearRegression()</pre><b>In a Jupyter environment, please rerun this cell to show the HTML representation or trust the notebook. <br />On GitHub, the HTML representation is unable to render, please try loading this page with nbviewer.org.</b></div><div class=\"sk-container\" hidden><div class=\"sk-item\"><div class=\"sk-estimator sk-toggleable\"><input class=\"sk-toggleable__control sk-hidden--visually\" id=\"sk-estimator-id-4\" type=\"checkbox\" checked><label for=\"sk-estimator-id-4\" class=\"sk-toggleable__label sk-toggleable__label-arrow\">LinearRegression</label><div class=\"sk-toggleable__content\"><pre>LinearRegression()</pre></div></div></div></div></div>"
      ],
      "text/plain": [
       "LinearRegression()"
      ]
     },
     "execution_count": 62,
     "metadata": {},
     "output_type": "execute_result"
    }
   ],
   "source": [
    "model_lr2 = LinearRegression()\n",
    "model_lr2.fit(X_train, y_train)"
   ]
  },
  {
   "cell_type": "code",
   "execution_count": 63,
   "id": "21d4724f",
   "metadata": {
    "execution": {
     "iopub.execute_input": "2024-12-10T08:04:52.122357Z",
     "iopub.status.busy": "2024-12-10T08:04:52.121200Z",
     "iopub.status.idle": "2024-12-10T08:04:52.130005Z",
     "shell.execute_reply": "2024-12-10T08:04:52.128938Z"
    },
    "papermill": {
     "duration": 0.056161,
     "end_time": "2024-12-10T08:04:52.132059",
     "exception": false,
     "start_time": "2024-12-10T08:04:52.075898",
     "status": "completed"
    },
    "tags": []
   },
   "outputs": [
    {
     "data": {
      "text/plain": [
       "array([[0.02411943],\n",
       "       [0.02836949],\n",
       "       [0.05548183],\n",
       "       [0.04305874],\n",
       "       [0.02435665],\n",
       "       [0.75103964],\n",
       "       [0.06614424],\n",
       "       [0.14720953],\n",
       "       [0.08906713],\n",
       "       [0.0310134 ],\n",
       "       [0.03081708],\n",
       "       [0.04141431],\n",
       "       [0.07654694],\n",
       "       [0.03609433],\n",
       "       [0.05474475],\n",
       "       [0.05483402],\n",
       "       [0.04842471],\n",
       "       [0.04110718],\n",
       "       [0.03539706]])"
      ]
     },
     "execution_count": 63,
     "metadata": {},
     "output_type": "execute_result"
    }
   ],
   "source": [
    "y_pred = model_lr2.predict(X_test)\n",
    "y_pred"
   ]
  },
  {
   "cell_type": "code",
   "execution_count": 64,
   "id": "c9e802a0",
   "metadata": {
    "execution": {
     "iopub.execute_input": "2024-12-10T08:04:52.221362Z",
     "iopub.status.busy": "2024-12-10T08:04:52.220920Z",
     "iopub.status.idle": "2024-12-10T08:04:52.230378Z",
     "shell.execute_reply": "2024-12-10T08:04:52.229295Z"
    },
    "papermill": {
     "duration": 0.056875,
     "end_time": "2024-12-10T08:04:52.232640",
     "exception": false,
     "start_time": "2024-12-10T08:04:52.175765",
     "status": "completed"
    },
    "tags": []
   },
   "outputs": [
    {
     "name": "stdout",
     "output_type": "stream",
     "text": [
      "Root Mean Squared Error with LinearRegression (RMSE): 0.05399069770953171\n",
      "R² Score: 0.9107019340370559\n"
     ]
    }
   ],
   "source": [
    "rmse_lr2 = mean_squared_error(y_test, y_pred, squared=False)  \n",
    "\n",
    "r2_lr2 = r2_score(y_test, y_pred)\n",
    "\n",
    "print(f\"Root Mean Squared Error with LinearRegression (RMSE): {rmse_lr2}\")\n",
    "print(f\"R² Score: {r2_lr2}\")"
   ]
  },
  {
   "cell_type": "code",
   "execution_count": 65,
   "id": "541af820",
   "metadata": {
    "execution": {
     "iopub.execute_input": "2024-12-10T08:04:52.321785Z",
     "iopub.status.busy": "2024-12-10T08:04:52.321366Z",
     "iopub.status.idle": "2024-12-10T08:04:52.329667Z",
     "shell.execute_reply": "2024-12-10T08:04:52.328617Z"
    },
    "papermill": {
     "duration": 0.055867,
     "end_time": "2024-12-10T08:04:52.332215",
     "exception": false,
     "start_time": "2024-12-10T08:04:52.276348",
     "status": "completed"
    },
    "tags": []
   },
   "outputs": [
    {
     "name": "stdout",
     "output_type": "stream",
     "text": [
      "                       Model  RMSE  R² Score\n",
      "0        Random Forest Model  0.09      0.76\n",
      "1    Linear Regression Model  0.04      0.94\n",
      "2        Decision Tree Model  0.09      0.77\n",
      "3       Neural Network Model  0.09      0.76\n",
      "4     Neural Network Model 2  0.07      0.86\n",
      "5  Linear Regression Model 2  0.05      0.91\n"
     ]
    }
   ],
   "source": [
    "results4 = pd.DataFrame({\n",
    "    \"Model\": [\"Random Forest Model\", \"Linear Regression Model\", \"Decision Tree Model\", \"Neural Network Model\", \"Neural Network Model 2\", \"Linear Regression Model 2\"],\n",
    "    \"RMSE\": [rmse_rf, rmse_lr, rmse_dt, rmse_nn, rmse_nn2, rmse_lr2],\n",
    "    \"R² Score\": [r2_rf, r2_lr, r2_dt, r2_nn, r2_nn2, r2_lr2]\n",
    "})\n",
    "\n",
    "print(results4)"
   ]
  },
  {
   "cell_type": "markdown",
   "id": "c4767c4f",
   "metadata": {
    "papermill": {
     "duration": 0.043715,
     "end_time": "2024-12-10T08:04:52.422193",
     "exception": false,
     "start_time": "2024-12-10T08:04:52.378478",
     "status": "completed"
    },
    "tags": []
   },
   "source": [
    "#Conclusion\n",
    "\n",
    "Rerunning the best-performing model with just the features 'population', 'gdp', 'olympics_index', and 'olympicsIndex', decreased performance slightly. The more robust original model performed better on the smaller dataset. Overall the first linear regression model performed the best. The neural network models had slightly weaker performance, likely because this analysis used a smaller dataset. GDP and population were the most important factors for predicting the total amount of medals won, but features with less importance were relevant as well. "
   ]
  }
 ],
 "metadata": {
  "kaggle": {
   "accelerator": "none",
   "dataSources": [
    {
     "datasetId": 6233588,
     "sourceId": 10105650,
     "sourceType": "datasetVersion"
    }
   ],
   "dockerImageVersionId": 30804,
   "isGpuEnabled": false,
   "isInternetEnabled": true,
   "language": "python",
   "sourceType": "notebook"
  },
  "kernelspec": {
   "display_name": "Python 3",
   "language": "python",
   "name": "python3"
  },
  "language_info": {
   "codemirror_mode": {
    "name": "ipython",
    "version": 3
   },
   "file_extension": ".py",
   "mimetype": "text/x-python",
   "name": "python",
   "nbconvert_exporter": "python",
   "pygments_lexer": "ipython3",
   "version": "3.10.14"
  },
  "papermill": {
   "default_parameters": {},
   "duration": 39.500992,
   "end_time": "2024-12-10T08:04:54.191806",
   "environment_variables": {},
   "exception": null,
   "input_path": "__notebook__.ipynb",
   "output_path": "__notebook__.ipynb",
   "parameters": {},
   "start_time": "2024-12-10T08:04:14.690814",
   "version": "2.6.0"
  }
 },
 "nbformat": 4,
 "nbformat_minor": 5
}
